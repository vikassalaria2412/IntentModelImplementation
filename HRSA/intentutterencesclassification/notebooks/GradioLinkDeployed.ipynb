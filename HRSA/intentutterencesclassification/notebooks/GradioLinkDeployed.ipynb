{
 "cells": [
  {
   "cell_type": "code",
   "execution_count": 1,
   "id": "490a7333-2888-4a91-afbe-3b1f77a49365",
   "metadata": {},
   "outputs": [],
   "source": [
    "import gradio as gr\n",
    "import os\n",
    "#import shutil\n",
    "import pandas as pd\n",
    "import gradio as gr\n",
    "import tensorflow as tf\n",
    "import tensorflow_hub as hub\n",
    "import tensorflow_text as text\n",
    "#import seaborn as sns\n",
    "from pylab import rcParams\n",
    "import numpy as np\n",
    "import matplotlib.pyplot as plt\n",
    "tf.get_logger().setLevel('ERROR')\n",
    "\n",
    "#sns.set(style='whitegrid', palette='muted', font_scale=1.2)\n",
    "HAPPY_COLORS_PALETTE = [\"#01BEFE\", \"#FFDD00\", \"#FF7D00\", \"#FF006D\", \"#ADFF02\", \"#8F00FF\"]\n",
    "#sns.set_palette(sns.color_palette(HAPPY_COLORS_PALETTE))\n",
    "rcParams['figure.figsize'] = 12, 8\n",
    "import warnings\n",
    "warnings.filterwarnings(\"ignore\")\n",
    "from sklearn.model_selection import train_test_split\n",
    "from tensorflow import keras\n",
    "from sklearn.preprocessing import LabelBinarizer"
   ]
  },
  {
   "cell_type": "code",
   "execution_count": 2,
   "id": "aa44d921-6864-487a-af57-27512e334387",
   "metadata": {},
   "outputs": [],
   "source": [
    "traindf = pd.read_csv('train.csv',encoding = 'utf-8')\n",
    "testdf = pd.read_csv('test.csv',encoding = 'utf-8')\n",
    "validdf = pd.read_csv('validation.csv',encoding = 'utf-8')"
   ]
  },
  {
   "cell_type": "code",
   "execution_count": 3,
   "id": "39993596-8a67-40ce-8c41-0c75b040faba",
   "metadata": {},
   "outputs": [
    {
     "data": {
      "text/html": [
       "<div>\n",
       "<style scoped>\n",
       "    .dataframe tbody tr th:only-of-type {\n",
       "        vertical-align: middle;\n",
       "    }\n",
       "\n",
       "    .dataframe tbody tr th {\n",
       "        vertical-align: top;\n",
       "    }\n",
       "\n",
       "    .dataframe thead th {\n",
       "        text-align: right;\n",
       "    }\n",
       "</style>\n",
       "<table border=\"1\" class=\"dataframe\">\n",
       "  <thead>\n",
       "    <tr style=\"text-align: right;\">\n",
       "      <th></th>\n",
       "      <th>text</th>\n",
       "      <th>intent</th>\n",
       "    </tr>\n",
       "  </thead>\n",
       "  <tbody>\n",
       "    <tr>\n",
       "      <th>0</th>\n",
       "      <td>can you help me to create an account</td>\n",
       "      <td>CreateAccount</td>\n",
       "    </tr>\n",
       "    <tr>\n",
       "      <th>1</th>\n",
       "      <td>User call to check claims status</td>\n",
       "      <td>CheckStatus</td>\n",
       "    </tr>\n",
       "    <tr>\n",
       "      <th>2</th>\n",
       "      <td>Caller had questions about the provider relief...</td>\n",
       "      <td>CallForInformation</td>\n",
       "    </tr>\n",
       "    <tr>\n",
       "      <th>3</th>\n",
       "      <td>have their EHB account enabled and password reset</td>\n",
       "      <td>UnlockAccount</td>\n",
       "    </tr>\n",
       "    <tr>\n",
       "      <th>4</th>\n",
       "      <td>I need assistance with creating an EHB account</td>\n",
       "      <td>CreateEHBAccount</td>\n",
       "    </tr>\n",
       "  </tbody>\n",
       "</table>\n",
       "</div>"
      ],
      "text/plain": [
       "                                                text              intent\n",
       "0               can you help me to create an account       CreateAccount\n",
       "1                   User call to check claims status         CheckStatus\n",
       "2  Caller had questions about the provider relief...  CallForInformation\n",
       "3  have their EHB account enabled and password reset       UnlockAccount\n",
       "4     I need assistance with creating an EHB account    CreateEHBAccount"
      ]
     },
     "execution_count": 3,
     "metadata": {},
     "output_type": "execute_result"
    }
   ],
   "source": [
    "traindf.head()"
   ]
  },
  {
   "cell_type": "code",
   "execution_count": 4,
   "id": "a14cd9db-4ab8-45d5-8c45-271f386d592d",
   "metadata": {},
   "outputs": [],
   "source": [
    "trainfeatures = traindf.copy()\n",
    "trainlabels = trainfeatures.pop('intent')"
   ]
  },
  {
   "cell_type": "code",
   "execution_count": 5,
   "id": "0ab9ec7c-1092-406f-9b91-0ddf63dc810d",
   "metadata": {},
   "outputs": [],
   "source": [
    "trainfeatures=trainfeatures.values"
   ]
  },
  {
   "cell_type": "code",
   "execution_count": null,
   "id": "53aeeecd-21a4-4e82-8bc2-efe28a9e9f09",
   "metadata": {},
   "outputs": [],
   "source": []
  },
  {
   "cell_type": "code",
   "execution_count": 6,
   "id": "ae880b46-0c52-4e2c-a842-6a9739f71ed0",
   "metadata": {},
   "outputs": [],
   "source": [
    "binarizer = LabelBinarizer()\n",
    "trainlabels = binarizer.fit_transform(trainlabels.values)"
   ]
  },
  {
   "cell_type": "code",
   "execution_count": 7,
   "id": "c7a72d8b-bd4f-421a-a52c-ddfcde236163",
   "metadata": {},
   "outputs": [
    {
     "data": {
      "text/plain": [
       "array([[0, 0, 0, ..., 0, 0, 0],\n",
       "       [0, 0, 0, ..., 0, 0, 0],\n",
       "       [0, 0, 0, ..., 0, 0, 0],\n",
       "       ...,\n",
       "       [0, 0, 0, ..., 0, 0, 0],\n",
       "       [0, 0, 0, ..., 0, 0, 0],\n",
       "       [1, 0, 0, ..., 0, 0, 0]])"
      ]
     },
     "execution_count": 7,
     "metadata": {},
     "output_type": "execute_result"
    }
   ],
   "source": [
    "trainlabels"
   ]
  },
  {
   "cell_type": "code",
   "execution_count": 8,
   "id": "c03eeab0-9be0-4123-991b-29d74892ddc6",
   "metadata": {},
   "outputs": [
    {
     "data": {
      "text/plain": [
       "array(['AccessAccount', 'AccessGrant', 'AddGrant', 'AddUser',\n",
       "       'ApplyForGrant', 'ApplyForProgram', 'AskAboutLoanRepaymentProgram',\n",
       "       'AskAboutStatus', 'CallForAssistance', 'CallForInformation',\n",
       "       'ChangePassword', 'CheckStatus', 'CreateAccount',\n",
       "       'CreateEHBAccount', 'ExtendDeadline\\t', 'ExtendDueDate',\n",
       "       'FileComplaint', 'FindHealthCenter', 'GetAccess', 'GetLoan',\n",
       "       'GetUpdate', 'GiveAccess', 'LogIntoEHB', 'MakeChanges',\n",
       "       'RegisterAsPD', 'RegisterGrant', 'RemoveUser',\n",
       "       'ReportUnableToLogin', 'RequestExtension', 'ResetPassword',\n",
       "       'SpeakWithSomeone', 'SubmitPriorApprovalRequest', 'UnlockAccount'],\n",
       "      dtype='<U28')"
      ]
     },
     "execution_count": 8,
     "metadata": {},
     "output_type": "execute_result"
    }
   ],
   "source": [
    "binarizer.classes_"
   ]
  },
  {
   "cell_type": "code",
   "execution_count": 9,
   "id": "04db7511-c5be-479c-8d3f-cb21cb9fe929",
   "metadata": {},
   "outputs": [],
   "source": [
    "abc = binarizer.classes_.tolist()"
   ]
  },
  {
   "cell_type": "code",
   "execution_count": 33,
   "id": "d8a43beb-0d1d-4278-8744-6e2bb669d7d1",
   "metadata": {},
   "outputs": [],
   "source": [
    "#xyz = abc.tolist()"
   ]
  },
  {
   "cell_type": "code",
   "execution_count": 10,
   "id": "47f64a7d-501d-4db8-afcf-651c7503c3d5",
   "metadata": {},
   "outputs": [
    {
     "data": {
      "text/plain": [
       "['AccessAccount',\n",
       " 'AccessGrant',\n",
       " 'AddGrant',\n",
       " 'AddUser',\n",
       " 'ApplyForGrant',\n",
       " 'ApplyForProgram',\n",
       " 'AskAboutLoanRepaymentProgram',\n",
       " 'AskAboutStatus',\n",
       " 'CallForAssistance',\n",
       " 'CallForInformation',\n",
       " 'ChangePassword',\n",
       " 'CheckStatus',\n",
       " 'CreateAccount',\n",
       " 'CreateEHBAccount',\n",
       " 'ExtendDeadline\\t',\n",
       " 'ExtendDueDate',\n",
       " 'FileComplaint',\n",
       " 'FindHealthCenter',\n",
       " 'GetAccess',\n",
       " 'GetLoan',\n",
       " 'GetUpdate',\n",
       " 'GiveAccess',\n",
       " 'LogIntoEHB',\n",
       " 'MakeChanges',\n",
       " 'RegisterAsPD',\n",
       " 'RegisterGrant',\n",
       " 'RemoveUser',\n",
       " 'ReportUnableToLogin',\n",
       " 'RequestExtension',\n",
       " 'ResetPassword',\n",
       " 'SpeakWithSomeone',\n",
       " 'SubmitPriorApprovalRequest',\n",
       " 'UnlockAccount']"
      ]
     },
     "execution_count": 10,
     "metadata": {},
     "output_type": "execute_result"
    }
   ],
   "source": [
    "abc"
   ]
  },
  {
   "cell_type": "code",
   "execution_count": 12,
   "id": "8630f631-1124-483c-8438-061fea08c64d",
   "metadata": {},
   "outputs": [
    {
     "name": "stdout",
     "output_type": "stream",
     "text": [
      "AccessAccount\n",
      "AccessGrant\n",
      "AddGrant\n",
      "AddUser\n",
      "ApplyForGrant\n",
      "ApplyForProgram\n",
      "AskAboutLoanRepaymentProgram\n",
      "AskAboutStatus\n",
      "CallForAssistance\n",
      "CallForInformation\n",
      "ChangePassword\n",
      "CheckStatus\n",
      "CreateAccount\n",
      "CreateEHBAccount\n",
      "ExtendDeadline\t\n",
      "ExtendDueDate\n",
      "FileComplaint\n",
      "FindHealthCenter\n",
      "GetAccess\n",
      "GetLoan\n",
      "GetUpdate\n",
      "GiveAccess\n",
      "LogIntoEHB\n",
      "MakeChanges\n",
      "RegisterAsPD\n",
      "RegisterGrant\n",
      "RemoveUser\n",
      "ReportUnableToLogin\n",
      "RequestExtension\n",
      "ResetPassword\n",
      "SpeakWithSomeone\n",
      "SubmitPriorApprovalRequest\n",
      "UnlockAccount\n"
     ]
    }
   ],
   "source": [
    "for each_ele in abc:\n",
    "    print(each_ele)"
   ]
  },
  {
   "cell_type": "code",
   "execution_count": 13,
   "id": "342f9034-b83a-46c9-b865-c2d3aebabdbe",
   "metadata": {},
   "outputs": [
    {
     "data": {
      "text/plain": [
       "'AccessGrant'"
      ]
     },
     "execution_count": 13,
     "metadata": {},
     "output_type": "execute_result"
    }
   ],
   "source": [
    "abc[1]"
   ]
  },
  {
   "cell_type": "code",
   "execution_count": 11,
   "id": "57f413c5-aa18-4dcb-8720-cf380fc04888",
   "metadata": {},
   "outputs": [
    {
     "data": {
      "text/plain": [
       "numpy.ndarray"
      ]
     },
     "execution_count": 11,
     "metadata": {},
     "output_type": "execute_result"
    }
   ],
   "source": [
    "type(binarizer.classes_)"
   ]
  },
  {
   "cell_type": "code",
   "execution_count": 11,
   "id": "fb363cd3-8f71-433d-8ae6-f6c98d9bdca4",
   "metadata": {},
   "outputs": [],
   "source": [
    "testfeatures=testdf.copy()\n",
    "testlabels=testfeatures.pop(\"intent\")\n",
    "validfeatures=validdf.copy()\n",
    "validlabels=validfeatures.pop(\"intent\")\n",
    "\n",
    "testfeatures=testfeatures.values\n",
    "validfeatures=validfeatures.values\n",
    "\n",
    "testlabels=binarizer.transform(testlabels.values)\n",
    "validlabels=binarizer.transform(validlabels.values)"
   ]
  },
  {
   "cell_type": "code",
   "execution_count": 12,
   "id": "a3dcf32c-39e7-4682-af29-1aff3997c093",
   "metadata": {},
   "outputs": [
    {
     "data": {
      "text/plain": [
       "array(['AccessAccount', 'AccessGrant', 'AddGrant', 'AddUser',\n",
       "       'ApplyForGrant', 'ApplyForProgram', 'AskAboutLoanRepaymentProgram',\n",
       "       'AskAboutStatus', 'CallForAssistance', 'CallForInformation',\n",
       "       'ChangePassword', 'CheckStatus', 'CreateAccount',\n",
       "       'CreateEHBAccount', 'ExtendDeadline\\t', 'ExtendDueDate',\n",
       "       'FileComplaint', 'FindHealthCenter', 'GetAccess', 'GetLoan',\n",
       "       'GetUpdate', 'GiveAccess', 'LogIntoEHB', 'MakeChanges',\n",
       "       'RegisterAsPD', 'RegisterGrant', 'RemoveUser',\n",
       "       'ReportUnableToLogin', 'RequestExtension', 'ResetPassword',\n",
       "       'SpeakWithSomeone', 'SubmitPriorApprovalRequest', 'UnlockAccount'],\n",
       "      dtype='<U28')"
      ]
     },
     "execution_count": 12,
     "metadata": {},
     "output_type": "execute_result"
    }
   ],
   "source": [
    "binarizer.classes_"
   ]
  },
  {
   "cell_type": "code",
   "execution_count": 13,
   "id": "69759939-be32-4344-bbf4-06f985f4807e",
   "metadata": {},
   "outputs": [],
   "source": [
    "loaded_model = keras.models.load_model(\"ModelSave/BERTImprovedPerf\")"
   ]
  },
  {
   "cell_type": "code",
   "execution_count": 20,
   "id": "f51c9cd2-6e3b-442e-b4f8-681666459d8d",
   "metadata": {},
   "outputs": [],
   "source": [
    "def print_my_examples_loaded(description,loaded_model):\n",
    "    result = tf.nn.softmax(loaded_model(tf.constant([description])))\n",
    "    print(result)\n",
    "    \n",
    "    confidence_score = tf.reduce_max(result, axis=-1).numpy()\n",
    "    print(confidence_score[0])\n",
    "    if confidence_score[0] < 0.15:\n",
    "        return \"Unidentified Intent\"\n",
    "    else:\n",
    "        intents=binarizer.inverse_transform(result.numpy())\n",
    "        print(result.numpy()[0])\n",
    "        return intents[0]"
   ]
  },
  {
   "cell_type": "code",
   "execution_count": 12,
   "id": "8cc073dc-7278-45e2-97cc-c30bcda22e77",
   "metadata": {},
   "outputs": [],
   "source": [
    "# def print_my_examples_loaded(description,loaded_model):\n",
    "#     result = tf.nn.softmax(loaded_model(tf.constant([description])))\n",
    "#     print(result.numpy())\n",
    "#     print(type(result.numpy()))\n",
    "#     confidence_score = tf.reduce_max(result, axis=-1).numpy()\n",
    "#     print(confidence_score[0])\n",
    "#     if confidence_score[0] < 0.15:\n",
    "#         return \"Unidentified Intent\"\n",
    "#     else:\n",
    "#         intents=binarizer.inverse_transform(result.numpy())\n",
    "#         print(result.numpy()[0])\n",
    "#         return intents[0]"
   ]
  },
  {
   "cell_type": "code",
   "execution_count": 16,
   "id": "b557ed93-9e70-45c3-9a5d-365d463d437e",
   "metadata": {},
   "outputs": [],
   "source": [
    "desc_sample = \"I need to speak to someone regarding my password reset.\""
   ]
  },
  {
   "cell_type": "code",
   "execution_count": 17,
   "id": "d65e0f8e-bb15-4c4a-87ab-bc7ddbba822a",
   "metadata": {},
   "outputs": [
    {
     "ename": "ValueError",
     "evalue": "Could not find matching function to call loaded from the SavedModel. Got:\n  Positional arguments (2 total):\n    * Tensor(\"inputs:0\", shape=(), dtype=string)\n    * False\n  Keyword arguments: {}\n\nExpected these arguments to match one of the following 2 option(s):\n\nOption 1:\n  Positional arguments (2 total):\n    * TensorSpec(shape=(None,), dtype=tf.string, name='inputs')\n    * False\n  Keyword arguments: {}\n\nOption 2:\n  Positional arguments (2 total):\n    * TensorSpec(shape=(None,), dtype=tf.string, name='inputs')\n    * True\n  Keyword arguments: {}",
     "output_type": "error",
     "traceback": [
      "\u001b[1;31m---------------------------------------------------------------------------\u001b[0m",
      "\u001b[1;31mValueError\u001b[0m                                Traceback (most recent call last)",
      "Cell \u001b[1;32mIn [17], line 1\u001b[0m\n\u001b[1;32m----> 1\u001b[0m result1 \u001b[38;5;241m=\u001b[39m tf\u001b[38;5;241m.\u001b[39mnn\u001b[38;5;241m.\u001b[39msoftmax(\u001b[43mloaded_model\u001b[49m\u001b[43m(\u001b[49m\u001b[43mtf\u001b[49m\u001b[38;5;241;43m.\u001b[39;49m\u001b[43mconstant\u001b[49m\u001b[43m(\u001b[49m\u001b[43mdesc_sample\u001b[49m\u001b[43m)\u001b[49m\u001b[43m)\u001b[49m)\n",
      "File \u001b[1;32m~\\Anaconda3\\envs\\hrsaintentenv\\lib\\site-packages\\keras\\engine\\base_layer.py:1037\u001b[0m, in \u001b[0;36mLayer.__call__\u001b[1;34m(self, *args, **kwargs)\u001b[0m\n\u001b[0;32m   1033\u001b[0m   inputs \u001b[38;5;241m=\u001b[39m \u001b[38;5;28mself\u001b[39m\u001b[38;5;241m.\u001b[39m_maybe_cast_inputs(inputs, input_list)\n\u001b[0;32m   1035\u001b[0m \u001b[38;5;28;01mwith\u001b[39;00m autocast_variable\u001b[38;5;241m.\u001b[39menable_auto_cast_variables(\n\u001b[0;32m   1036\u001b[0m     \u001b[38;5;28mself\u001b[39m\u001b[38;5;241m.\u001b[39m_compute_dtype_object):\n\u001b[1;32m-> 1037\u001b[0m   outputs \u001b[38;5;241m=\u001b[39m call_fn(inputs, \u001b[38;5;241m*\u001b[39margs, \u001b[38;5;241m*\u001b[39m\u001b[38;5;241m*\u001b[39mkwargs)\n\u001b[0;32m   1039\u001b[0m \u001b[38;5;28;01mif\u001b[39;00m \u001b[38;5;28mself\u001b[39m\u001b[38;5;241m.\u001b[39m_activity_regularizer:\n\u001b[0;32m   1040\u001b[0m   \u001b[38;5;28mself\u001b[39m\u001b[38;5;241m.\u001b[39m_handle_activity_regularization(inputs, outputs)\n",
      "File \u001b[1;32m~\\Anaconda3\\envs\\hrsaintentenv\\lib\\site-packages\\keras\\engine\\functional.py:414\u001b[0m, in \u001b[0;36mFunctional.call\u001b[1;34m(self, inputs, training, mask)\u001b[0m\n\u001b[0;32m    395\u001b[0m \u001b[38;5;129m@doc_controls\u001b[39m\u001b[38;5;241m.\u001b[39mdo_not_doc_inheritable\n\u001b[0;32m    396\u001b[0m \u001b[38;5;28;01mdef\u001b[39;00m \u001b[38;5;21mcall\u001b[39m(\u001b[38;5;28mself\u001b[39m, inputs, training\u001b[38;5;241m=\u001b[39m\u001b[38;5;28;01mNone\u001b[39;00m, mask\u001b[38;5;241m=\u001b[39m\u001b[38;5;28;01mNone\u001b[39;00m):\n\u001b[0;32m    397\u001b[0m   \u001b[38;5;124;03m\"\"\"Calls the model on new inputs.\u001b[39;00m\n\u001b[0;32m    398\u001b[0m \n\u001b[0;32m    399\u001b[0m \u001b[38;5;124;03m  In this case `call` just reapplies\u001b[39;00m\n\u001b[1;32m   (...)\u001b[0m\n\u001b[0;32m    412\u001b[0m \u001b[38;5;124;03m      a list of tensors if there are more than one outputs.\u001b[39;00m\n\u001b[0;32m    413\u001b[0m \u001b[38;5;124;03m  \"\"\"\u001b[39;00m\n\u001b[1;32m--> 414\u001b[0m   \u001b[38;5;28;01mreturn\u001b[39;00m \u001b[38;5;28;43mself\u001b[39;49m\u001b[38;5;241;43m.\u001b[39;49m\u001b[43m_run_internal_graph\u001b[49m\u001b[43m(\u001b[49m\n\u001b[0;32m    415\u001b[0m \u001b[43m      \u001b[49m\u001b[43minputs\u001b[49m\u001b[43m,\u001b[49m\u001b[43m \u001b[49m\u001b[43mtraining\u001b[49m\u001b[38;5;241;43m=\u001b[39;49m\u001b[43mtraining\u001b[49m\u001b[43m,\u001b[49m\u001b[43m \u001b[49m\u001b[43mmask\u001b[49m\u001b[38;5;241;43m=\u001b[39;49m\u001b[43mmask\u001b[49m\u001b[43m)\u001b[49m\n",
      "File \u001b[1;32m~\\Anaconda3\\envs\\hrsaintentenv\\lib\\site-packages\\keras\\engine\\functional.py:550\u001b[0m, in \u001b[0;36mFunctional._run_internal_graph\u001b[1;34m(self, inputs, training, mask)\u001b[0m\n\u001b[0;32m    547\u001b[0m   \u001b[38;5;28;01mcontinue\u001b[39;00m  \u001b[38;5;66;03m# Node is not computable, try skipping.\u001b[39;00m\n\u001b[0;32m    549\u001b[0m args, kwargs \u001b[38;5;241m=\u001b[39m node\u001b[38;5;241m.\u001b[39mmap_arguments(tensor_dict)\n\u001b[1;32m--> 550\u001b[0m outputs \u001b[38;5;241m=\u001b[39m node\u001b[38;5;241m.\u001b[39mlayer(\u001b[38;5;241m*\u001b[39margs, \u001b[38;5;241m*\u001b[39m\u001b[38;5;241m*\u001b[39mkwargs)\n\u001b[0;32m    552\u001b[0m \u001b[38;5;66;03m# Update tensor_dict.\u001b[39;00m\n\u001b[0;32m    553\u001b[0m \u001b[38;5;28;01mfor\u001b[39;00m x_id, y \u001b[38;5;129;01min\u001b[39;00m \u001b[38;5;28mzip\u001b[39m(node\u001b[38;5;241m.\u001b[39mflat_output_ids, tf\u001b[38;5;241m.\u001b[39mnest\u001b[38;5;241m.\u001b[39mflatten(outputs)):\n",
      "File \u001b[1;32m~\\Anaconda3\\envs\\hrsaintentenv\\lib\\site-packages\\keras\\engine\\base_layer.py:1037\u001b[0m, in \u001b[0;36mLayer.__call__\u001b[1;34m(self, *args, **kwargs)\u001b[0m\n\u001b[0;32m   1033\u001b[0m   inputs \u001b[38;5;241m=\u001b[39m \u001b[38;5;28mself\u001b[39m\u001b[38;5;241m.\u001b[39m_maybe_cast_inputs(inputs, input_list)\n\u001b[0;32m   1035\u001b[0m \u001b[38;5;28;01mwith\u001b[39;00m autocast_variable\u001b[38;5;241m.\u001b[39menable_auto_cast_variables(\n\u001b[0;32m   1036\u001b[0m     \u001b[38;5;28mself\u001b[39m\u001b[38;5;241m.\u001b[39m_compute_dtype_object):\n\u001b[1;32m-> 1037\u001b[0m   outputs \u001b[38;5;241m=\u001b[39m call_fn(inputs, \u001b[38;5;241m*\u001b[39margs, \u001b[38;5;241m*\u001b[39m\u001b[38;5;241m*\u001b[39mkwargs)\n\u001b[0;32m   1039\u001b[0m \u001b[38;5;28;01mif\u001b[39;00m \u001b[38;5;28mself\u001b[39m\u001b[38;5;241m.\u001b[39m_activity_regularizer:\n\u001b[0;32m   1040\u001b[0m   \u001b[38;5;28mself\u001b[39m\u001b[38;5;241m.\u001b[39m_handle_activity_regularization(inputs, outputs)\n",
      "File \u001b[1;32m~\\Anaconda3\\envs\\hrsaintentenv\\lib\\site-packages\\keras\\saving\\saved_model\\utils.py:68\u001b[0m, in \u001b[0;36muse_wrapped_call.<locals>.return_outputs_and_add_losses\u001b[1;34m(*args, **kwargs)\u001b[0m\n\u001b[0;32m     65\u001b[0m \u001b[38;5;28;01mif\u001b[39;00m return_method:\n\u001b[0;32m     66\u001b[0m   args \u001b[38;5;241m=\u001b[39m args[\u001b[38;5;241m1\u001b[39m:]\n\u001b[1;32m---> 68\u001b[0m outputs, losses \u001b[38;5;241m=\u001b[39m fn(\u001b[38;5;241m*\u001b[39margs, \u001b[38;5;241m*\u001b[39m\u001b[38;5;241m*\u001b[39mkwargs)\n\u001b[0;32m     69\u001b[0m layer\u001b[38;5;241m.\u001b[39madd_loss(losses, inputs\u001b[38;5;241m=\u001b[39m\u001b[38;5;28;01mTrue\u001b[39;00m)\n\u001b[0;32m     71\u001b[0m \u001b[38;5;66;03m# TODO(kathywu): This is a temporary hack. When a network of layers is\u001b[39;00m\n\u001b[0;32m     72\u001b[0m \u001b[38;5;66;03m# revived from SavedModel, only the top-level layer will have losses. This\u001b[39;00m\n\u001b[0;32m     73\u001b[0m \u001b[38;5;66;03m# causes issues in eager mode because the child layers may have graph losses\u001b[39;00m\n\u001b[1;32m   (...)\u001b[0m\n\u001b[0;32m     76\u001b[0m \u001b[38;5;66;03m# child layers. This causes `.losses` to only return eager losses.\u001b[39;00m\n\u001b[0;32m     77\u001b[0m \u001b[38;5;66;03m# pylint: disable=protected-access\u001b[39;00m\n",
      "File \u001b[1;32m~\\Anaconda3\\envs\\hrsaintentenv\\lib\\site-packages\\keras\\saving\\saved_model\\utils.py:164\u001b[0m, in \u001b[0;36mmaybe_add_training_arg.<locals>.wrap_with_training_arg\u001b[1;34m(*args, **kwargs)\u001b[0m\n\u001b[0;32m    161\u001b[0m   set_training_arg(training, training_arg_index, args, kwargs)\n\u001b[0;32m    162\u001b[0m   \u001b[38;5;28;01mreturn\u001b[39;00m wrapped_call(\u001b[38;5;241m*\u001b[39margs, \u001b[38;5;241m*\u001b[39m\u001b[38;5;241m*\u001b[39mkwargs)\n\u001b[1;32m--> 164\u001b[0m \u001b[38;5;28;01mreturn\u001b[39;00m \u001b[43mcontrol_flow_util\u001b[49m\u001b[38;5;241;43m.\u001b[39;49m\u001b[43msmart_cond\u001b[49m\u001b[43m(\u001b[49m\n\u001b[0;32m    165\u001b[0m \u001b[43m    \u001b[49m\u001b[43mtraining\u001b[49m\u001b[43m,\u001b[49m\u001b[43m \u001b[49m\u001b[38;5;28;43;01mlambda\u001b[39;49;00m\u001b[43m:\u001b[49m\u001b[43m \u001b[49m\u001b[43mreplace_training_and_call\u001b[49m\u001b[43m(\u001b[49m\u001b[38;5;28;43;01mTrue\u001b[39;49;00m\u001b[43m)\u001b[49m\u001b[43m,\u001b[49m\n\u001b[0;32m    166\u001b[0m \u001b[43m    \u001b[49m\u001b[38;5;28;43;01mlambda\u001b[39;49;00m\u001b[43m:\u001b[49m\u001b[43m \u001b[49m\u001b[43mreplace_training_and_call\u001b[49m\u001b[43m(\u001b[49m\u001b[38;5;28;43;01mFalse\u001b[39;49;00m\u001b[43m)\u001b[49m\u001b[43m)\u001b[49m\n",
      "File \u001b[1;32m~\\Anaconda3\\envs\\hrsaintentenv\\lib\\site-packages\\keras\\utils\\control_flow_util.py:105\u001b[0m, in \u001b[0;36msmart_cond\u001b[1;34m(pred, true_fn, false_fn, name)\u001b[0m\n\u001b[0;32m    102\u001b[0m \u001b[38;5;28;01mif\u001b[39;00m \u001b[38;5;28misinstance\u001b[39m(pred, tf\u001b[38;5;241m.\u001b[39mVariable):\n\u001b[0;32m    103\u001b[0m   \u001b[38;5;28;01mreturn\u001b[39;00m tf\u001b[38;5;241m.\u001b[39mcond(\n\u001b[0;32m    104\u001b[0m       pred, true_fn\u001b[38;5;241m=\u001b[39mtrue_fn, false_fn\u001b[38;5;241m=\u001b[39mfalse_fn, name\u001b[38;5;241m=\u001b[39mname)\n\u001b[1;32m--> 105\u001b[0m \u001b[38;5;28;01mreturn\u001b[39;00m \u001b[43mtf\u001b[49m\u001b[38;5;241;43m.\u001b[39;49m\u001b[43m__internal__\u001b[49m\u001b[38;5;241;43m.\u001b[39;49m\u001b[43msmart_cond\u001b[49m\u001b[38;5;241;43m.\u001b[39;49m\u001b[43msmart_cond\u001b[49m\u001b[43m(\u001b[49m\n\u001b[0;32m    106\u001b[0m \u001b[43m    \u001b[49m\u001b[43mpred\u001b[49m\u001b[43m,\u001b[49m\u001b[43m \u001b[49m\u001b[43mtrue_fn\u001b[49m\u001b[38;5;241;43m=\u001b[39;49m\u001b[43mtrue_fn\u001b[49m\u001b[43m,\u001b[49m\u001b[43m \u001b[49m\u001b[43mfalse_fn\u001b[49m\u001b[38;5;241;43m=\u001b[39;49m\u001b[43mfalse_fn\u001b[49m\u001b[43m,\u001b[49m\u001b[43m \u001b[49m\u001b[43mname\u001b[49m\u001b[38;5;241;43m=\u001b[39;49m\u001b[43mname\u001b[49m\u001b[43m)\u001b[49m\n",
      "File \u001b[1;32m~\\Anaconda3\\envs\\hrsaintentenv\\lib\\site-packages\\tensorflow\\python\\framework\\smart_cond.py:58\u001b[0m, in \u001b[0;36msmart_cond\u001b[1;34m(pred, true_fn, false_fn, name)\u001b[0m\n\u001b[0;32m     56\u001b[0m     \u001b[38;5;28;01mreturn\u001b[39;00m true_fn()\n\u001b[0;32m     57\u001b[0m   \u001b[38;5;28;01melse\u001b[39;00m:\n\u001b[1;32m---> 58\u001b[0m     \u001b[38;5;28;01mreturn\u001b[39;00m \u001b[43mfalse_fn\u001b[49m\u001b[43m(\u001b[49m\u001b[43m)\u001b[49m\n\u001b[0;32m     59\u001b[0m \u001b[38;5;28;01melse\u001b[39;00m:\n\u001b[0;32m     60\u001b[0m   \u001b[38;5;28;01mreturn\u001b[39;00m control_flow_ops\u001b[38;5;241m.\u001b[39mcond(pred, true_fn\u001b[38;5;241m=\u001b[39mtrue_fn, false_fn\u001b[38;5;241m=\u001b[39mfalse_fn,\n\u001b[0;32m     61\u001b[0m                                name\u001b[38;5;241m=\u001b[39mname)\n",
      "File \u001b[1;32m~\\Anaconda3\\envs\\hrsaintentenv\\lib\\site-packages\\keras\\saving\\saved_model\\utils.py:166\u001b[0m, in \u001b[0;36mmaybe_add_training_arg.<locals>.wrap_with_training_arg.<locals>.<lambda>\u001b[1;34m()\u001b[0m\n\u001b[0;32m    161\u001b[0m   set_training_arg(training, training_arg_index, args, kwargs)\n\u001b[0;32m    162\u001b[0m   \u001b[38;5;28;01mreturn\u001b[39;00m wrapped_call(\u001b[38;5;241m*\u001b[39margs, \u001b[38;5;241m*\u001b[39m\u001b[38;5;241m*\u001b[39mkwargs)\n\u001b[0;32m    164\u001b[0m \u001b[38;5;28;01mreturn\u001b[39;00m control_flow_util\u001b[38;5;241m.\u001b[39msmart_cond(\n\u001b[0;32m    165\u001b[0m     training, \u001b[38;5;28;01mlambda\u001b[39;00m: replace_training_and_call(\u001b[38;5;28;01mTrue\u001b[39;00m),\n\u001b[1;32m--> 166\u001b[0m     \u001b[38;5;28;01mlambda\u001b[39;00m: \u001b[43mreplace_training_and_call\u001b[49m\u001b[43m(\u001b[49m\u001b[38;5;28;43;01mFalse\u001b[39;49;00m\u001b[43m)\u001b[49m)\n",
      "File \u001b[1;32m~\\Anaconda3\\envs\\hrsaintentenv\\lib\\site-packages\\keras\\saving\\saved_model\\utils.py:162\u001b[0m, in \u001b[0;36mmaybe_add_training_arg.<locals>.wrap_with_training_arg.<locals>.replace_training_and_call\u001b[1;34m(training)\u001b[0m\n\u001b[0;32m    160\u001b[0m \u001b[38;5;28;01mdef\u001b[39;00m \u001b[38;5;21mreplace_training_and_call\u001b[39m(training):\n\u001b[0;32m    161\u001b[0m   set_training_arg(training, training_arg_index, args, kwargs)\n\u001b[1;32m--> 162\u001b[0m   \u001b[38;5;28;01mreturn\u001b[39;00m wrapped_call(\u001b[38;5;241m*\u001b[39margs, \u001b[38;5;241m*\u001b[39m\u001b[38;5;241m*\u001b[39mkwargs)\n",
      "File \u001b[1;32m~\\Anaconda3\\envs\\hrsaintentenv\\lib\\site-packages\\tensorflow\\python\\eager\\def_function.py:885\u001b[0m, in \u001b[0;36mFunction.__call__\u001b[1;34m(self, *args, **kwds)\u001b[0m\n\u001b[0;32m    882\u001b[0m compiler \u001b[38;5;241m=\u001b[39m \u001b[38;5;124m\"\u001b[39m\u001b[38;5;124mxla\u001b[39m\u001b[38;5;124m\"\u001b[39m \u001b[38;5;28;01mif\u001b[39;00m \u001b[38;5;28mself\u001b[39m\u001b[38;5;241m.\u001b[39m_jit_compile \u001b[38;5;28;01melse\u001b[39;00m \u001b[38;5;124m\"\u001b[39m\u001b[38;5;124mnonXla\u001b[39m\u001b[38;5;124m\"\u001b[39m\n\u001b[0;32m    884\u001b[0m \u001b[38;5;28;01mwith\u001b[39;00m OptionalXlaContext(\u001b[38;5;28mself\u001b[39m\u001b[38;5;241m.\u001b[39m_jit_compile):\n\u001b[1;32m--> 885\u001b[0m   result \u001b[38;5;241m=\u001b[39m \u001b[38;5;28mself\u001b[39m\u001b[38;5;241m.\u001b[39m_call(\u001b[38;5;241m*\u001b[39margs, \u001b[38;5;241m*\u001b[39m\u001b[38;5;241m*\u001b[39mkwds)\n\u001b[0;32m    887\u001b[0m new_tracing_count \u001b[38;5;241m=\u001b[39m \u001b[38;5;28mself\u001b[39m\u001b[38;5;241m.\u001b[39mexperimental_get_tracing_count()\n\u001b[0;32m    888\u001b[0m without_tracing \u001b[38;5;241m=\u001b[39m (tracing_count \u001b[38;5;241m==\u001b[39m new_tracing_count)\n",
      "File \u001b[1;32m~\\Anaconda3\\envs\\hrsaintentenv\\lib\\site-packages\\tensorflow\\python\\eager\\def_function.py:924\u001b[0m, in \u001b[0;36mFunction._call\u001b[1;34m(self, *args, **kwds)\u001b[0m\n\u001b[0;32m    921\u001b[0m \u001b[38;5;28mself\u001b[39m\u001b[38;5;241m.\u001b[39m_lock\u001b[38;5;241m.\u001b[39mrelease()\n\u001b[0;32m    922\u001b[0m \u001b[38;5;66;03m# In this case we have not created variables on the first call. So we can\u001b[39;00m\n\u001b[0;32m    923\u001b[0m \u001b[38;5;66;03m# run the first trace but we should fail if variables are created.\u001b[39;00m\n\u001b[1;32m--> 924\u001b[0m results \u001b[38;5;241m=\u001b[39m \u001b[38;5;28mself\u001b[39m\u001b[38;5;241m.\u001b[39m_stateful_fn(\u001b[38;5;241m*\u001b[39margs, \u001b[38;5;241m*\u001b[39m\u001b[38;5;241m*\u001b[39mkwds)\n\u001b[0;32m    925\u001b[0m \u001b[38;5;28;01mif\u001b[39;00m \u001b[38;5;28mself\u001b[39m\u001b[38;5;241m.\u001b[39m_created_variables \u001b[38;5;129;01mand\u001b[39;00m \u001b[38;5;129;01mnot\u001b[39;00m ALLOW_DYNAMIC_VARIABLE_CREATION:\n\u001b[0;32m    926\u001b[0m   \u001b[38;5;28;01mraise\u001b[39;00m \u001b[38;5;167;01mValueError\u001b[39;00m(\u001b[38;5;124m\"\u001b[39m\u001b[38;5;124mCreating variables on a non-first call to a function\u001b[39m\u001b[38;5;124m\"\u001b[39m\n\u001b[0;32m    927\u001b[0m                    \u001b[38;5;124m\"\u001b[39m\u001b[38;5;124m decorated with tf.function.\u001b[39m\u001b[38;5;124m\"\u001b[39m)\n",
      "File \u001b[1;32m~\\Anaconda3\\envs\\hrsaintentenv\\lib\\site-packages\\tensorflow\\python\\eager\\function.py:3038\u001b[0m, in \u001b[0;36mFunction.__call__\u001b[1;34m(self, *args, **kwargs)\u001b[0m\n\u001b[0;32m   3035\u001b[0m \u001b[38;5;124;03m\"\"\"Calls a graph function specialized to the inputs.\"\"\"\u001b[39;00m\n\u001b[0;32m   3036\u001b[0m \u001b[38;5;28;01mwith\u001b[39;00m \u001b[38;5;28mself\u001b[39m\u001b[38;5;241m.\u001b[39m_lock:\n\u001b[0;32m   3037\u001b[0m   (graph_function,\n\u001b[1;32m-> 3038\u001b[0m    filtered_flat_args) \u001b[38;5;241m=\u001b[39m \u001b[38;5;28;43mself\u001b[39;49m\u001b[38;5;241;43m.\u001b[39;49m\u001b[43m_maybe_define_function\u001b[49m\u001b[43m(\u001b[49m\u001b[43margs\u001b[49m\u001b[43m,\u001b[49m\u001b[43m \u001b[49m\u001b[43mkwargs\u001b[49m\u001b[43m)\u001b[49m\n\u001b[0;32m   3039\u001b[0m \u001b[38;5;28;01mreturn\u001b[39;00m graph_function\u001b[38;5;241m.\u001b[39m_call_flat(\n\u001b[0;32m   3040\u001b[0m     filtered_flat_args, captured_inputs\u001b[38;5;241m=\u001b[39mgraph_function\u001b[38;5;241m.\u001b[39mcaptured_inputs)\n",
      "File \u001b[1;32m~\\Anaconda3\\envs\\hrsaintentenv\\lib\\site-packages\\tensorflow\\python\\eager\\function.py:3463\u001b[0m, in \u001b[0;36mFunction._maybe_define_function\u001b[1;34m(self, args, kwargs)\u001b[0m\n\u001b[0;32m   3459\u001b[0m   \u001b[38;5;28;01mreturn\u001b[39;00m \u001b[38;5;28mself\u001b[39m\u001b[38;5;241m.\u001b[39m_define_function_with_shape_relaxation(\n\u001b[0;32m   3460\u001b[0m       args, kwargs, flat_args, filtered_flat_args, cache_key_context)\n\u001b[0;32m   3462\u001b[0m \u001b[38;5;28mself\u001b[39m\u001b[38;5;241m.\u001b[39m_function_cache\u001b[38;5;241m.\u001b[39mmissed\u001b[38;5;241m.\u001b[39madd(call_context_key)\n\u001b[1;32m-> 3463\u001b[0m graph_function \u001b[38;5;241m=\u001b[39m \u001b[38;5;28;43mself\u001b[39;49m\u001b[38;5;241;43m.\u001b[39;49m\u001b[43m_create_graph_function\u001b[49m\u001b[43m(\u001b[49m\u001b[43margs\u001b[49m\u001b[43m,\u001b[49m\u001b[43m \u001b[49m\u001b[43mkwargs\u001b[49m\u001b[43m)\u001b[49m\n\u001b[0;32m   3464\u001b[0m \u001b[38;5;28mself\u001b[39m\u001b[38;5;241m.\u001b[39m_function_cache\u001b[38;5;241m.\u001b[39mprimary[cache_key] \u001b[38;5;241m=\u001b[39m graph_function\n\u001b[0;32m   3466\u001b[0m \u001b[38;5;28;01mreturn\u001b[39;00m graph_function, filtered_flat_args\n",
      "File \u001b[1;32m~\\Anaconda3\\envs\\hrsaintentenv\\lib\\site-packages\\tensorflow\\python\\eager\\function.py:3298\u001b[0m, in \u001b[0;36mFunction._create_graph_function\u001b[1;34m(self, args, kwargs, override_flat_arg_shapes)\u001b[0m\n\u001b[0;32m   3293\u001b[0m missing_arg_names \u001b[38;5;241m=\u001b[39m [\n\u001b[0;32m   3294\u001b[0m     \u001b[38;5;124m\"\u001b[39m\u001b[38;5;132;01m%s\u001b[39;00m\u001b[38;5;124m_\u001b[39m\u001b[38;5;132;01m%d\u001b[39;00m\u001b[38;5;124m\"\u001b[39m \u001b[38;5;241m%\u001b[39m (arg, i) \u001b[38;5;28;01mfor\u001b[39;00m i, arg \u001b[38;5;129;01min\u001b[39;00m \u001b[38;5;28menumerate\u001b[39m(missing_arg_names)\n\u001b[0;32m   3295\u001b[0m ]\n\u001b[0;32m   3296\u001b[0m arg_names \u001b[38;5;241m=\u001b[39m base_arg_names \u001b[38;5;241m+\u001b[39m missing_arg_names\n\u001b[0;32m   3297\u001b[0m graph_function \u001b[38;5;241m=\u001b[39m ConcreteFunction(\n\u001b[1;32m-> 3298\u001b[0m     \u001b[43mfunc_graph_module\u001b[49m\u001b[38;5;241;43m.\u001b[39;49m\u001b[43mfunc_graph_from_py_func\u001b[49m\u001b[43m(\u001b[49m\n\u001b[0;32m   3299\u001b[0m \u001b[43m        \u001b[49m\u001b[38;5;28;43mself\u001b[39;49m\u001b[38;5;241;43m.\u001b[39;49m\u001b[43m_name\u001b[49m\u001b[43m,\u001b[49m\n\u001b[0;32m   3300\u001b[0m \u001b[43m        \u001b[49m\u001b[38;5;28;43mself\u001b[39;49m\u001b[38;5;241;43m.\u001b[39;49m\u001b[43m_python_function\u001b[49m\u001b[43m,\u001b[49m\n\u001b[0;32m   3301\u001b[0m \u001b[43m        \u001b[49m\u001b[43margs\u001b[49m\u001b[43m,\u001b[49m\n\u001b[0;32m   3302\u001b[0m \u001b[43m        \u001b[49m\u001b[43mkwargs\u001b[49m\u001b[43m,\u001b[49m\n\u001b[0;32m   3303\u001b[0m \u001b[43m        \u001b[49m\u001b[38;5;28;43mself\u001b[39;49m\u001b[38;5;241;43m.\u001b[39;49m\u001b[43minput_signature\u001b[49m\u001b[43m,\u001b[49m\n\u001b[0;32m   3304\u001b[0m \u001b[43m        \u001b[49m\u001b[43mautograph\u001b[49m\u001b[38;5;241;43m=\u001b[39;49m\u001b[38;5;28;43mself\u001b[39;49m\u001b[38;5;241;43m.\u001b[39;49m\u001b[43m_autograph\u001b[49m\u001b[43m,\u001b[49m\n\u001b[0;32m   3305\u001b[0m \u001b[43m        \u001b[49m\u001b[43mautograph_options\u001b[49m\u001b[38;5;241;43m=\u001b[39;49m\u001b[38;5;28;43mself\u001b[39;49m\u001b[38;5;241;43m.\u001b[39;49m\u001b[43m_autograph_options\u001b[49m\u001b[43m,\u001b[49m\n\u001b[0;32m   3306\u001b[0m \u001b[43m        \u001b[49m\u001b[43marg_names\u001b[49m\u001b[38;5;241;43m=\u001b[39;49m\u001b[43marg_names\u001b[49m\u001b[43m,\u001b[49m\n\u001b[0;32m   3307\u001b[0m \u001b[43m        \u001b[49m\u001b[43moverride_flat_arg_shapes\u001b[49m\u001b[38;5;241;43m=\u001b[39;49m\u001b[43moverride_flat_arg_shapes\u001b[49m\u001b[43m,\u001b[49m\n\u001b[0;32m   3308\u001b[0m \u001b[43m        \u001b[49m\u001b[43mcapture_by_value\u001b[49m\u001b[38;5;241;43m=\u001b[39;49m\u001b[38;5;28;43mself\u001b[39;49m\u001b[38;5;241;43m.\u001b[39;49m\u001b[43m_capture_by_value\u001b[49m\u001b[43m)\u001b[49m,\n\u001b[0;32m   3309\u001b[0m     \u001b[38;5;28mself\u001b[39m\u001b[38;5;241m.\u001b[39m_function_attributes,\n\u001b[0;32m   3310\u001b[0m     function_spec\u001b[38;5;241m=\u001b[39m\u001b[38;5;28mself\u001b[39m\u001b[38;5;241m.\u001b[39mfunction_spec,\n\u001b[0;32m   3311\u001b[0m     \u001b[38;5;66;03m# Tell the ConcreteFunction to clean up its graph once it goes out of\u001b[39;00m\n\u001b[0;32m   3312\u001b[0m     \u001b[38;5;66;03m# scope. This is not the default behavior since it gets used in some\u001b[39;00m\n\u001b[0;32m   3313\u001b[0m     \u001b[38;5;66;03m# places (like Keras) where the FuncGraph lives longer than the\u001b[39;00m\n\u001b[0;32m   3314\u001b[0m     \u001b[38;5;66;03m# ConcreteFunction.\u001b[39;00m\n\u001b[0;32m   3315\u001b[0m     shared_func_graph\u001b[38;5;241m=\u001b[39m\u001b[38;5;28;01mFalse\u001b[39;00m)\n\u001b[0;32m   3316\u001b[0m \u001b[38;5;28;01mreturn\u001b[39;00m graph_function\n",
      "File \u001b[1;32m~\\Anaconda3\\envs\\hrsaintentenv\\lib\\site-packages\\tensorflow\\python\\framework\\func_graph.py:1007\u001b[0m, in \u001b[0;36mfunc_graph_from_py_func\u001b[1;34m(name, python_func, args, kwargs, signature, func_graph, autograph, autograph_options, add_control_dependencies, arg_names, op_return_value, collections, capture_by_value, override_flat_arg_shapes, acd_record_initial_resource_uses)\u001b[0m\n\u001b[0;32m   1004\u001b[0m \u001b[38;5;28;01melse\u001b[39;00m:\n\u001b[0;32m   1005\u001b[0m   _, original_func \u001b[38;5;241m=\u001b[39m tf_decorator\u001b[38;5;241m.\u001b[39munwrap(python_func)\n\u001b[1;32m-> 1007\u001b[0m func_outputs \u001b[38;5;241m=\u001b[39m python_func(\u001b[38;5;241m*\u001b[39mfunc_args, \u001b[38;5;241m*\u001b[39m\u001b[38;5;241m*\u001b[39mfunc_kwargs)\n\u001b[0;32m   1009\u001b[0m \u001b[38;5;66;03m# invariant: `func_outputs` contains only Tensors, CompositeTensors,\u001b[39;00m\n\u001b[0;32m   1010\u001b[0m \u001b[38;5;66;03m# TensorArrays and `None`s.\u001b[39;00m\n\u001b[0;32m   1011\u001b[0m func_outputs \u001b[38;5;241m=\u001b[39m nest\u001b[38;5;241m.\u001b[39mmap_structure(convert, func_outputs,\n\u001b[0;32m   1012\u001b[0m                                   expand_composites\u001b[38;5;241m=\u001b[39m\u001b[38;5;28;01mTrue\u001b[39;00m)\n",
      "File \u001b[1;32m~\\Anaconda3\\envs\\hrsaintentenv\\lib\\site-packages\\tensorflow\\python\\eager\\def_function.py:668\u001b[0m, in \u001b[0;36mFunction._defun_with_scope.<locals>.wrapped_fn\u001b[1;34m(*args, **kwds)\u001b[0m\n\u001b[0;32m    664\u001b[0m \u001b[38;5;28;01mwith\u001b[39;00m default_graph\u001b[38;5;241m.\u001b[39m_variable_creator_scope(scope, priority\u001b[38;5;241m=\u001b[39m\u001b[38;5;241m50\u001b[39m):  \u001b[38;5;66;03m# pylint: disable=protected-access\u001b[39;00m\n\u001b[0;32m    665\u001b[0m   \u001b[38;5;66;03m# __wrapped__ allows AutoGraph to swap in a converted function. We give\u001b[39;00m\n\u001b[0;32m    666\u001b[0m   \u001b[38;5;66;03m# the function a weak reference to itself to avoid a reference cycle.\u001b[39;00m\n\u001b[0;32m    667\u001b[0m   \u001b[38;5;28;01mwith\u001b[39;00m OptionalXlaContext(compile_with_xla):\n\u001b[1;32m--> 668\u001b[0m     out \u001b[38;5;241m=\u001b[39m weak_wrapped_fn()\u001b[38;5;241m.\u001b[39m__wrapped__(\u001b[38;5;241m*\u001b[39margs, \u001b[38;5;241m*\u001b[39m\u001b[38;5;241m*\u001b[39mkwds)\n\u001b[0;32m    669\u001b[0m   \u001b[38;5;28;01mreturn\u001b[39;00m out\n",
      "File \u001b[1;32m~\\Anaconda3\\envs\\hrsaintentenv\\lib\\site-packages\\tensorflow\\python\\saved_model\\function_deserialization.py:288\u001b[0m, in \u001b[0;36mrecreate_function.<locals>.restored_function_body\u001b[1;34m(*args, **kwargs)\u001b[0m\n\u001b[0;32m    284\u001b[0m   positional, keyword \u001b[38;5;241m=\u001b[39m concrete_function\u001b[38;5;241m.\u001b[39mstructured_input_signature\n\u001b[0;32m    285\u001b[0m   signature_descriptions\u001b[38;5;241m.\u001b[39mappend(\n\u001b[0;32m    286\u001b[0m       \u001b[38;5;124m\"\u001b[39m\u001b[38;5;124mOption \u001b[39m\u001b[38;5;132;01m{}\u001b[39;00m\u001b[38;5;124m:\u001b[39m\u001b[38;5;130;01m\\n\u001b[39;00m\u001b[38;5;124m  \u001b[39m\u001b[38;5;132;01m{}\u001b[39;00m\u001b[38;5;130;01m\\n\u001b[39;00m\u001b[38;5;124m  Keyword arguments: \u001b[39m\u001b[38;5;132;01m{}\u001b[39;00m\u001b[38;5;124m\"\u001b[39m\n\u001b[0;32m    287\u001b[0m       \u001b[38;5;241m.\u001b[39mformat(index \u001b[38;5;241m+\u001b[39m \u001b[38;5;241m1\u001b[39m, _pretty_format_positional(positional), keyword))\n\u001b[1;32m--> 288\u001b[0m \u001b[38;5;28;01mraise\u001b[39;00m \u001b[38;5;167;01mValueError\u001b[39;00m(\n\u001b[0;32m    289\u001b[0m     \u001b[38;5;124m\"\u001b[39m\u001b[38;5;124mCould not find matching function to call loaded from the SavedModel. \u001b[39m\u001b[38;5;124m\"\u001b[39m\n\u001b[0;32m    290\u001b[0m     \u001b[38;5;124m\"\u001b[39m\u001b[38;5;124mGot:\u001b[39m\u001b[38;5;130;01m\\n\u001b[39;00m\u001b[38;5;124m  \u001b[39m\u001b[38;5;132;01m{}\u001b[39;00m\u001b[38;5;130;01m\\n\u001b[39;00m\u001b[38;5;124m  Keyword arguments: \u001b[39m\u001b[38;5;132;01m{}\u001b[39;00m\u001b[38;5;130;01m\\n\u001b[39;00m\u001b[38;5;130;01m\\n\u001b[39;00m\u001b[38;5;124mExpected \u001b[39m\u001b[38;5;124m\"\u001b[39m\n\u001b[0;32m    291\u001b[0m     \u001b[38;5;124m\"\u001b[39m\u001b[38;5;124mthese arguments to match one of the following \u001b[39m\u001b[38;5;132;01m{}\u001b[39;00m\u001b[38;5;124m option(s):\u001b[39m\u001b[38;5;130;01m\\n\u001b[39;00m\u001b[38;5;130;01m\\n\u001b[39;00m\u001b[38;5;132;01m{}\u001b[39;00m\u001b[38;5;124m\"\u001b[39m\n\u001b[0;32m    292\u001b[0m     \u001b[38;5;241m.\u001b[39mformat(_pretty_format_positional(args), kwargs,\n\u001b[0;32m    293\u001b[0m             \u001b[38;5;28mlen\u001b[39m(saved_function\u001b[38;5;241m.\u001b[39mconcrete_functions),\n\u001b[0;32m    294\u001b[0m             \u001b[38;5;124m\"\u001b[39m\u001b[38;5;130;01m\\n\u001b[39;00m\u001b[38;5;130;01m\\n\u001b[39;00m\u001b[38;5;124m\"\u001b[39m\u001b[38;5;241m.\u001b[39mjoin(signature_descriptions)))\n",
      "\u001b[1;31mValueError\u001b[0m: Could not find matching function to call loaded from the SavedModel. Got:\n  Positional arguments (2 total):\n    * Tensor(\"inputs:0\", shape=(), dtype=string)\n    * False\n  Keyword arguments: {}\n\nExpected these arguments to match one of the following 2 option(s):\n\nOption 1:\n  Positional arguments (2 total):\n    * TensorSpec(shape=(None,), dtype=tf.string, name='inputs')\n    * False\n  Keyword arguments: {}\n\nOption 2:\n  Positional arguments (2 total):\n    * TensorSpec(shape=(None,), dtype=tf.string, name='inputs')\n    * True\n  Keyword arguments: {}"
     ]
    }
   ],
   "source": [
    "result1 = tf.nn.softmax(loaded_model(tf.constant(desc_sample)))"
   ]
  },
  {
   "cell_type": "code",
   "execution_count": null,
   "id": "ed009c71-90c6-4a2f-99ba-3e856b29f48e",
   "metadata": {},
   "outputs": [],
   "source": [
    "result"
   ]
  },
  {
   "cell_type": "code",
   "execution_count": 21,
   "id": "c852af66-ed75-4109-b65b-a15b3d240921",
   "metadata": {},
   "outputs": [],
   "source": [
    "ab = tf.constant(desc_sample)"
   ]
  },
  {
   "cell_type": "code",
   "execution_count": 22,
   "id": "c9de9cc8-c7e1-4ecf-b2b1-fec9fc12a7f9",
   "metadata": {},
   "outputs": [
    {
     "data": {
      "text/plain": [
       "<tf.Tensor: shape=(), dtype=string, numpy=b'I need to speak to someone regarding my password reset.'>"
      ]
     },
     "execution_count": 22,
     "metadata": {},
     "output_type": "execute_result"
    }
   ],
   "source": [
    "ab"
   ]
  },
  {
   "cell_type": "code",
   "execution_count": 20,
   "id": "4e353569-5590-49c9-a72b-140ea862f731",
   "metadata": {},
   "outputs": [
    {
     "ename": "NameError",
     "evalue": "name 'result1' is not defined",
     "output_type": "error",
     "traceback": [
      "\u001b[1;31m---------------------------------------------------------------------------\u001b[0m",
      "\u001b[1;31mNameError\u001b[0m                                 Traceback (most recent call last)",
      "Cell \u001b[1;32mIn [20], line 1\u001b[0m\n\u001b[1;32m----> 1\u001b[0m \u001b[43mresult1\u001b[49m\n",
      "\u001b[1;31mNameError\u001b[0m: name 'result1' is not defined"
     ]
    }
   ],
   "source": [
    "result1"
   ]
  },
  {
   "cell_type": "code",
   "execution_count": 155,
   "id": "d72d3cbb-75bd-4def-ba7c-6e7528748b11",
   "metadata": {},
   "outputs": [
    {
     "data": {
      "text/plain": [
       "<tf.Tensor: shape=(), dtype=float32, numpy=0.026304888>"
      ]
     },
     "execution_count": 155,
     "metadata": {},
     "output_type": "execute_result"
    }
   ],
   "source": [
    "result1[0][1]"
   ]
  },
  {
   "cell_type": "code",
   "execution_count": 167,
   "id": "40eb881d-28e4-4bc6-a442-89415159a42b",
   "metadata": {},
   "outputs": [],
   "source": [
    "softmax_output = [result1.numpy()[0].tolist()]\n",
    "shape = result1.shape[1]"
   ]
  },
  {
   "cell_type": "code",
   "execution_count": 168,
   "id": "3d684599-8700-4b13-931d-a8846260cbc3",
   "metadata": {},
   "outputs": [
    {
     "data": {
      "text/plain": [
       "[[0.027228279039263725,\n",
       "  0.026304887607693672,\n",
       "  0.08228589594364166,\n",
       "  0.0036031268537044525,\n",
       "  0.44955044984817505,\n",
       "  0.018399879336357117,\n",
       "  0.006225119344890118,\n",
       "  0.0036713078152388334,\n",
       "  0.00781845860183239,\n",
       "  0.007059742230921984,\n",
       "  0.017932118847966194,\n",
       "  0.006314810831099749,\n",
       "  0.002523731905966997,\n",
       "  0.021285846829414368,\n",
       "  0.007056572008877993,\n",
       "  0.004764123819768429,\n",
       "  0.015213764272630215,\n",
       "  0.00854277890175581,\n",
       "  0.010263376869261265,\n",
       "  0.002781044226139784,\n",
       "  0.0015029258793219924,\n",
       "  0.02185211516916752,\n",
       "  0.008831911720335484,\n",
       "  0.010866662487387657,\n",
       "  0.012651135213673115,\n",
       "  0.07413958013057709,\n",
       "  0.014079182408750057,\n",
       "  0.06972690671682358,\n",
       "  0.010838625021278858,\n",
       "  0.017773078754544258,\n",
       "  0.005516902077943087,\n",
       "  0.007846600376069546,\n",
       "  0.015549001283943653]]"
      ]
     },
     "execution_count": 168,
     "metadata": {},
     "output_type": "execute_result"
    }
   ],
   "source": [
    "softmax_output"
   ]
  },
  {
   "cell_type": "code",
   "execution_count": 164,
   "id": "cc5e89d3-648d-4bcd-adcc-4ddd72f89814",
   "metadata": {},
   "outputs": [
    {
     "data": {
      "text/plain": [
       "[0.027228279039263725,\n",
       " 0.026304887607693672,\n",
       " 0.08228589594364166,\n",
       " 0.0036031268537044525,\n",
       " 0.44955044984817505,\n",
       " 0.018399879336357117,\n",
       " 0.006225119344890118,\n",
       " 0.0036713078152388334,\n",
       " 0.00781845860183239,\n",
       " 0.007059742230921984,\n",
       " 0.017932118847966194,\n",
       " 0.006314810831099749,\n",
       " 0.002523731905966997,\n",
       " 0.021285846829414368,\n",
       " 0.007056572008877993,\n",
       " 0.004764123819768429,\n",
       " 0.015213764272630215,\n",
       " 0.00854277890175581,\n",
       " 0.010263376869261265,\n",
       " 0.002781044226139784,\n",
       " 0.0015029258793219924,\n",
       " 0.02185211516916752,\n",
       " 0.008831911720335484,\n",
       " 0.010866662487387657,\n",
       " 0.012651135213673115,\n",
       " 0.07413958013057709,\n",
       " 0.014079182408750057,\n",
       " 0.06972690671682358,\n",
       " 0.010838625021278858,\n",
       " 0.017773078754544258,\n",
       " 0.005516902077943087,\n",
       " 0.007846600376069546,\n",
       " 0.015549001283943653]"
      ]
     },
     "execution_count": 164,
     "metadata": {},
     "output_type": "execute_result"
    }
   ],
   "source": [
    "softmax_output.tolist()"
   ]
  },
  {
   "cell_type": "code",
   "execution_count": 131,
   "id": "313f5366-b747-4f75-aa0e-36a2b716da0d",
   "metadata": {},
   "outputs": [
    {
     "ename": "TypeError",
     "evalue": "Field elements must be 2- or 3-tuples, got '33'",
     "output_type": "error",
     "traceback": [
      "\u001b[1;31m---------------------------------------------------------------------------\u001b[0m",
      "\u001b[1;31mTypeError\u001b[0m                                 Traceback (most recent call last)",
      "Cell \u001b[1;32mIn [131], line 1\u001b[0m\n\u001b[1;32m----> 1\u001b[0m final_array \u001b[38;5;241m=\u001b[39m \u001b[43mnp\u001b[49m\u001b[38;5;241;43m.\u001b[39;49m\u001b[43marray\u001b[49m\u001b[43m(\u001b[49m\u001b[43msoftmax_output\u001b[49m\u001b[43m,\u001b[49m\u001b[43m[\u001b[49m\u001b[43mshape\u001b[49m\u001b[43m]\u001b[49m\u001b[43m)\u001b[49m\n",
      "\u001b[1;31mTypeError\u001b[0m: Field elements must be 2- or 3-tuples, got '33'"
     ]
    }
   ],
   "source": [
    "final_array = np.array(softmax_output,[shape])"
   ]
  },
  {
   "cell_type": "code",
   "execution_count": 122,
   "id": "bab67ac5-b0d2-4afc-9f27-939fe3c9fcff",
   "metadata": {},
   "outputs": [
    {
     "data": {
      "text/plain": [
       "array([0.02722828, 0.02630489, 0.0822859 , 0.00360313, 0.44955045,\n",
       "       0.01839988, 0.00622512, 0.00367131, 0.00781846, 0.00705974,\n",
       "       0.01793212, 0.00631481, 0.00252373, 0.02128585, 0.00705657,\n",
       "       0.00476412, 0.01521376, 0.00854278, 0.01026338, 0.00278104,\n",
       "       0.00150293, 0.02185212, 0.00883191, 0.01086666, 0.01265114,\n",
       "       0.07413958, 0.01407918, 0.06972691, 0.01083863, 0.01777308,\n",
       "       0.0055169 , 0.0078466 , 0.015549  ], dtype=float32)"
      ]
     },
     "execution_count": 122,
     "metadata": {},
     "output_type": "execute_result"
    }
   ],
   "source": [
    "softmax_output"
   ]
  },
  {
   "cell_type": "code",
   "execution_count": 119,
   "id": "4aa137bf-5a07-45f0-ba40-24d17c7c737f",
   "metadata": {},
   "outputs": [
    {
     "data": {
      "text/plain": [
       "numpy.ndarray"
      ]
     },
     "execution_count": 119,
     "metadata": {},
     "output_type": "execute_result"
    }
   ],
   "source": [
    "type(softmax_output)"
   ]
  },
  {
   "cell_type": "code",
   "execution_count": 120,
   "id": "aae583c0-61c7-4b0a-bf84-6af48f3ea9dd",
   "metadata": {},
   "outputs": [
    {
     "data": {
      "text/plain": [
       "array([0.02722828, 0.02630489, 0.0822859 , 0.00360313, 0.44955045,\n",
       "       0.01839988, 0.00622512, 0.00367131, 0.00781846, 0.00705974,\n",
       "       0.01793212, 0.00631481, 0.00252373, 0.02128585, 0.00705657,\n",
       "       0.00476412, 0.01521376, 0.00854278, 0.01026338, 0.00278104,\n",
       "       0.00150293, 0.02185212, 0.00883191, 0.01086666, 0.01265114,\n",
       "       0.07413958, 0.01407918, 0.06972691, 0.01083863, 0.01777308,\n",
       "       0.0055169 , 0.0078466 , 0.015549  ], dtype=float32)"
      ]
     },
     "execution_count": 120,
     "metadata": {},
     "output_type": "execute_result"
    }
   ],
   "source": []
  },
  {
   "cell_type": "code",
   "execution_count": 105,
   "id": "b28c0c4f-bf7a-4cd0-a6b9-0263e89a0183",
   "metadata": {},
   "outputs": [],
   "source": [
    "softmax_output = np.append(softmax_output,33)"
   ]
  },
  {
   "cell_type": "code",
   "execution_count": 106,
   "id": "433ae21e-6a89-4bdc-9701-a622ed00623b",
   "metadata": {},
   "outputs": [
    {
     "data": {
      "text/plain": [
       "array([2.72282790e-02, 2.63048876e-02, 8.22858959e-02, 3.60312685e-03,\n",
       "       4.49550450e-01, 1.83998793e-02, 6.22511934e-03, 3.67130782e-03,\n",
       "       7.81845860e-03, 7.05974223e-03, 1.79321188e-02, 6.31481083e-03,\n",
       "       2.52373191e-03, 2.12858468e-02, 7.05657201e-03, 4.76412382e-03,\n",
       "       1.52137643e-02, 8.54277890e-03, 1.02633769e-02, 2.78104423e-03,\n",
       "       1.50292588e-03, 2.18521152e-02, 8.83191172e-03, 1.08666625e-02,\n",
       "       1.26511352e-02, 7.41395801e-02, 1.40791824e-02, 6.97269067e-02,\n",
       "       1.08386250e-02, 1.77730788e-02, 5.51690208e-03, 7.84660038e-03,\n",
       "       1.55490013e-02, 3.30000000e+01])"
      ]
     },
     "execution_count": 106,
     "metadata": {},
     "output_type": "execute_result"
    }
   ],
   "source": [
    "softmax_output"
   ]
  },
  {
   "cell_type": "code",
   "execution_count": 92,
   "id": "fd69e029-f899-4ce6-86c3-469b56fcc904",
   "metadata": {},
   "outputs": [
    {
     "data": {
      "text/plain": [
       "33"
      ]
     },
     "execution_count": 92,
     "metadata": {},
     "output_type": "execute_result"
    }
   ],
   "source": [
    "result1.shape[1]"
   ]
  },
  {
   "cell_type": "code",
   "execution_count": null,
   "id": "75e2aa38-7f47-444d-a50b-95142e2f5825",
   "metadata": {},
   "outputs": [],
   "source": []
  },
  {
   "cell_type": "code",
   "execution_count": 72,
   "id": "61111c73-21b7-4052-b05e-f9ae2184c655",
   "metadata": {},
   "outputs": [
    {
     "data": {
      "text/plain": [
       "<tf.Tensor: shape=(1, 33), dtype=float32, numpy=\n",
       "array([[0.02722828, 0.02630489, 0.0822859 , 0.00360313, 0.44955045,\n",
       "        0.01839988, 0.00622512, 0.00367131, 0.00781846, 0.00705974,\n",
       "        0.01793212, 0.00631481, 0.00252373, 0.02128585, 0.00705657,\n",
       "        0.00476412, 0.01521376, 0.00854278, 0.01026338, 0.00278104,\n",
       "        0.00150293, 0.02185212, 0.00883191, 0.01086666, 0.01265114,\n",
       "        0.07413958, 0.01407918, 0.06972691, 0.01083863, 0.01777308,\n",
       "        0.0055169 , 0.0078466 , 0.015549  ]], dtype=float32)>"
      ]
     },
     "execution_count": 72,
     "metadata": {},
     "output_type": "execute_result"
    }
   ],
   "source": [
    "result1"
   ]
  },
  {
   "cell_type": "code",
   "execution_count": 21,
   "id": "c1dc2720-1e26-4181-8182-02a2d139c46e",
   "metadata": {},
   "outputs": [],
   "source": [
    "#description = \"Not able to apply grant\"\n",
    "description = \"I need to speak to someone regarding my password reset.\""
   ]
  },
  {
   "cell_type": "code",
   "execution_count": 61,
   "id": "a4a49340-413e-49f2-8f9d-0fbcdd078dd5",
   "metadata": {},
   "outputs": [
    {
     "ename": "SyntaxError",
     "evalue": "invalid syntax (3890858306.py, line 2)",
     "output_type": "error",
     "traceback": [
      "\u001b[1;36m  Cell \u001b[1;32mIn [61], line 2\u001b[1;36m\u001b[0m\n\u001b[1;33m    [[0.02722828 0.02630489 0.0822859  0.00360313 0.44955045 0.01839988\u001b[0m\n\u001b[1;37m                 ^\u001b[0m\n\u001b[1;31mSyntaxError\u001b[0m\u001b[1;31m:\u001b[0m invalid syntax\n"
     ]
    }
   ],
   "source": [
    "res = tf.Tensor([[0.02722828 0.02630489 0.0822859  0.00360313 0.44955045 0.01839988\n",
    "  0.00622512 0.00367131 0.00781846 0.00705974 0.01793212 0.00631481\n",
    "  0.00252373 0.02128585 0.00705657 0.00476412 0.01521376 0.00854278\n",
    "  0.01026338 0.00278104 0.00150293 0.02185212 0.00883191 0.01086666\n",
    "  0.01265114 0.07413958 0.01407918 0.06972691 0.01083863 0.01777308\n",
    "  0.0055169  0.0078466  0.015549  ]], shape=(1, 33), dtype=float32)"
   ]
  },
  {
   "cell_type": "code",
   "execution_count": 22,
   "id": "171728cb-6d7b-4940-8ed2-b4029bc36fd2",
   "metadata": {},
   "outputs": [
    {
     "name": "stdout",
     "output_type": "stream",
     "text": [
      "tf.Tensor(\n",
      "[[0.00811819 0.02590993 0.01567079 0.00872281 0.00756187 0.00760941\n",
      "  0.00794445 0.00752236 0.00856809 0.00177778 0.02388663 0.00747161\n",
      "  0.00313875 0.01650795 0.0067107  0.00554407 0.00568805 0.00365409\n",
      "  0.02002718 0.00522056 0.00836416 0.01523894 0.00470102 0.02018244\n",
      "  0.02382814 0.01478851 0.03907108 0.00429643 0.0052806  0.03564246\n",
      "  0.6107043  0.00105723 0.01958942]], shape=(1, 33), dtype=float32)\n",
      "0.6107043\n",
      "[0.00811819 0.02590993 0.01567079 0.00872281 0.00756187 0.00760941\n",
      " 0.00794445 0.00752236 0.00856809 0.00177778 0.02388663 0.00747161\n",
      " 0.00313875 0.01650795 0.0067107  0.00554407 0.00568805 0.00365409\n",
      " 0.02002718 0.00522056 0.00836416 0.01523894 0.00470102 0.02018244\n",
      " 0.02382814 0.01478851 0.03907108 0.00429643 0.0052806  0.03564246\n",
      " 0.6107043  0.00105723 0.01958942]\n"
     ]
    },
    {
     "data": {
      "text/plain": [
       "'SpeakWithSomeone'"
      ]
     },
     "execution_count": 22,
     "metadata": {},
     "output_type": "execute_result"
    }
   ],
   "source": [
    "print_my_examples_loaded(description,loaded_model)"
   ]
  },
  {
   "cell_type": "code",
   "execution_count": 60,
   "id": "8b1c9d2d-9a9b-4566-9322-cae756c48cb2",
   "metadata": {},
   "outputs": [
    {
     "data": {
      "text/plain": [
       "{'class': 'SpeakWithSomeone', 'score': 0.7444775}"
      ]
     },
     "execution_count": 60,
     "metadata": {},
     "output_type": "execute_result"
    }
   ],
   "source": [
    "test =[{'class': 'SpeakWithSomeone', 'score': 0.7444775}, {'class': 'AccessGrant', 'score': 0.029643694}]\n",
    "test[0]\n"
   ]
  },
  {
   "cell_type": "code",
   "execution_count": 23,
   "id": "460e3dc5-a979-4c29-aa22-9b50e5c0a8f9",
   "metadata": {},
   "outputs": [],
   "source": [
    "def intent_values(description):\n",
    "    intent = print_my_examples_loaded(description,loaded_model)\n",
    "    return intent\n"
   ]
  },
  {
   "cell_type": "code",
   "execution_count": 24,
   "id": "0d5f4cca-90e8-496d-abae-2d6c0c1711dc",
   "metadata": {},
   "outputs": [
    {
     "name": "stdout",
     "output_type": "stream",
     "text": [
      "Running on local URL:  http://127.0.0.1:7861\n",
      "Running on public URL: https://c893c50a29f0b5a0.gradio.app\n",
      "\n",
      "This share link expires in 72 hours. For free permanent hosting and GPU upgrades (NEW!), check out Spaces: https://huggingface.co/spaces\n"
     ]
    },
    {
     "data": {
      "text/html": [
       "<div><iframe src=\"https://c893c50a29f0b5a0.gradio.app\" width=\"100%\" height=\"500\" allow=\"autoplay; camera; microphone; clipboard-read; clipboard-write;\" frameborder=\"0\" allowfullscreen></iframe></div>"
      ],
      "text/plain": [
       "<IPython.core.display.HTML object>"
      ]
     },
     "metadata": {},
     "output_type": "display_data"
    },
    {
     "data": {
      "text/plain": [
       "(<gradio.routes.App at 0x1a3016e6100>,\n",
       " 'http://127.0.0.1:7861/',\n",
       " 'https://c893c50a29f0b5a0.gradio.app')"
      ]
     },
     "execution_count": 24,
     "metadata": {},
     "output_type": "execute_result"
    },
    {
     "name": "stdout",
     "output_type": "stream",
     "text": [
      "tf.Tensor(\n",
      "[[1.0034028e-02 1.5118038e-02 3.1475404e-03 2.4593021e-03 6.7692017e-03\n",
      "  1.5484176e-03 3.4941135e-03 1.5910531e-03 8.6719440e-03 1.0598056e-03\n",
      "  7.0653604e-03 9.5054014e-03 6.7729149e-03 1.6988446e-03 4.5613656e-03\n",
      "  5.8626346e-03 2.2340347e-03 3.5694854e-03 2.7527949e-03 1.4305869e-02\n",
      "  3.0622538e-03 4.7329869e-03 1.8496741e-02 5.4623983e-03 2.3856307e-03\n",
      "  2.7378376e-03 1.8784322e-03 1.2193403e-02 3.4219952e-04 8.1034088e-01\n",
      "  1.6512414e-03 7.8917919e-03 1.6602162e-02]], shape=(1, 33), dtype=float32)\n",
      "0.8103409\n",
      "[1.0034028e-02 1.5118038e-02 3.1475404e-03 2.4593021e-03 6.7692017e-03\n",
      " 1.5484176e-03 3.4941135e-03 1.5910531e-03 8.6719440e-03 1.0598056e-03\n",
      " 7.0653604e-03 9.5054014e-03 6.7729149e-03 1.6988446e-03 4.5613656e-03\n",
      " 5.8626346e-03 2.2340347e-03 3.5694854e-03 2.7527949e-03 1.4305869e-02\n",
      " 3.0622538e-03 4.7329869e-03 1.8496741e-02 5.4623983e-03 2.3856307e-03\n",
      " 2.7378376e-03 1.8784322e-03 1.2193403e-02 3.4219952e-04 8.1034088e-01\n",
      " 1.6512414e-03 7.8917919e-03 1.6602162e-02]\n",
      "tf.Tensor(\n",
      "[[0.0103301  0.07369179 0.17744954 0.00841614 0.18432252 0.0194177\n",
      "  0.00554378 0.04917762 0.00618419 0.01130724 0.01253202 0.03649838\n",
      "  0.0033138  0.00708565 0.00668041 0.00530179 0.00771865 0.0129383\n",
      "  0.04866495 0.01129341 0.0028026  0.01005587 0.01215174 0.01172915\n",
      "  0.03594394 0.09376018 0.00559576 0.02262884 0.01322257 0.06061096\n",
      "  0.0072526  0.00286802 0.02350975]], shape=(1, 33), dtype=float32)\n",
      "0.18432252\n",
      "[0.0103301  0.07369179 0.17744954 0.00841614 0.18432252 0.0194177\n",
      " 0.00554378 0.04917762 0.00618419 0.01130724 0.01253202 0.03649838\n",
      " 0.0033138  0.00708565 0.00668041 0.00530179 0.00771865 0.0129383\n",
      " 0.04866495 0.01129341 0.0028026  0.01005587 0.01215174 0.01172915\n",
      " 0.03594394 0.09376018 0.00559576 0.02262884 0.01322257 0.06061096\n",
      " 0.0072526  0.00286802 0.02350975]\n",
      "tf.Tensor(\n",
      "[[4.1426819e-02 2.8768413e-02 1.5909586e-02 6.2280660e-03 5.4337573e-01\n",
      "  1.1788711e-02 3.7564198e-03 1.3768094e-02 6.2118098e-03 5.0061555e-03\n",
      "  6.5213912e-03 1.1956150e-02 7.9642981e-03 1.1337114e-02 3.6700289e-03\n",
      "  3.7876712e-03 9.2149852e-03 1.3462255e-02 2.3884602e-02 1.2798353e-02\n",
      "  3.9843313e-04 4.2753099e-03 6.5634660e-03 1.4883221e-02 4.6303896e-03\n",
      "  8.3522901e-02 4.3730889e-03 4.8921425e-02 8.0097569e-03 2.1849170e-02\n",
      "  3.0337872e-03 1.5881507e-02 2.8209526e-03]], shape=(1, 33), dtype=float32)\n",
      "0.54337573\n",
      "[4.1426819e-02 2.8768413e-02 1.5909586e-02 6.2280660e-03 5.4337573e-01\n",
      " 1.1788711e-02 3.7564198e-03 1.3768094e-02 6.2118098e-03 5.0061555e-03\n",
      " 6.5213912e-03 1.1956150e-02 7.9642981e-03 1.1337114e-02 3.6700289e-03\n",
      " 3.7876712e-03 9.2149852e-03 1.3462255e-02 2.3884602e-02 1.2798353e-02\n",
      " 3.9843313e-04 4.2753099e-03 6.5634660e-03 1.4883221e-02 4.6303896e-03\n",
      " 8.3522901e-02 4.3730889e-03 4.8921425e-02 8.0097569e-03 2.1849170e-02\n",
      " 3.0337872e-03 1.5881507e-02 2.8209526e-03]\n",
      "tf.Tensor(\n",
      "[[0.00804194 0.00271373 0.02032427 0.04534273 0.04755748 0.07447853\n",
      "  0.00741231 0.01254132 0.00329796 0.0051945  0.02191294 0.09349574\n",
      "  0.01693176 0.03193107 0.02876543 0.00878732 0.09838085 0.00590649\n",
      "  0.01496359 0.05799475 0.00686611 0.02001847 0.0373345  0.06411725\n",
      "  0.05917342 0.01504759 0.09963121 0.03705104 0.01408488 0.0053185\n",
      "  0.01255781 0.01276319 0.01006134]], shape=(1, 33), dtype=float32)\n",
      "0.099631205\n",
      "tf.Tensor(\n",
      "[[0.02110296 0.00318885 0.00297869 0.01097362 0.00608187 0.0025181\n",
      "  0.0065268  0.00375212 0.012844   0.00282857 0.00078784 0.00715933\n",
      "  0.7366119  0.05648494 0.000954   0.00953593 0.01347274 0.00941991\n",
      "  0.00547246 0.0068261  0.00735641 0.00573345 0.00739255 0.00971058\n",
      "  0.00379743 0.00127751 0.00255435 0.00770446 0.00106273 0.00721861\n",
      "  0.00334596 0.01678014 0.00654504]], shape=(1, 33), dtype=float32)\n",
      "0.7366119\n",
      "[0.02110296 0.00318885 0.00297869 0.01097362 0.00608187 0.0025181\n",
      " 0.0065268  0.00375212 0.012844   0.00282857 0.00078784 0.00715933\n",
      " 0.7366119  0.05648494 0.000954   0.00953593 0.01347274 0.00941991\n",
      " 0.00547246 0.0068261  0.00735641 0.00573345 0.00739255 0.00971058\n",
      " 0.00379743 0.00127751 0.00255435 0.00770446 0.00106273 0.00721861\n",
      " 0.00334596 0.01678014 0.00654504]\n",
      "tf.Tensor(\n",
      "[[5.9388401e-03 7.2249454e-03 2.9355530e-03 5.3858524e-03 5.1126136e-03\n",
      "  2.2727244e-03 3.2969776e-03 2.1302057e-03 2.5135339e-03 9.2204357e-04\n",
      "  1.9289503e-02 1.0187096e-02 3.4453103e-03 1.7963758e-03 6.3094548e-03\n",
      "  4.6279728e-03 2.0257854e-03 3.7649327e-03 2.5071753e-03 1.7257413e-02\n",
      "  2.4264562e-03 4.6391329e-03 3.4112606e-02 7.4012931e-03 4.3364186e-03\n",
      "  3.7920468e-03 3.9648735e-03 8.5379500e-03 5.7003292e-04 7.9911983e-01\n",
      "  2.1360880e-03 4.3707234e-03 1.5648251e-02]], shape=(1, 33), dtype=float32)\n",
      "0.79911983\n",
      "[5.9388401e-03 7.2249454e-03 2.9355530e-03 5.3858524e-03 5.1126136e-03\n",
      " 2.2727244e-03 3.2969776e-03 2.1302057e-03 2.5135339e-03 9.2204357e-04\n",
      " 1.9289503e-02 1.0187096e-02 3.4453103e-03 1.7963758e-03 6.3094548e-03\n",
      " 4.6279728e-03 2.0257854e-03 3.7649327e-03 2.5071753e-03 1.7257413e-02\n",
      " 2.4264562e-03 4.6391329e-03 3.4112606e-02 7.4012931e-03 4.3364186e-03\n",
      " 3.7920468e-03 3.9648735e-03 8.5379500e-03 5.7003292e-04 7.9911983e-01\n",
      " 2.1360880e-03 4.3707234e-03 1.5648251e-02]\n"
     ]
    }
   ],
   "source": [
    "demo = gr.Interface(fn=intent_values, inputs=\"text\", outputs=\"text\")\n",
    "demo.launch(share = True) "
   ]
  },
  {
   "cell_type": "code",
   "execution_count": null,
   "id": "64cc1c87-49c4-4a97-a097-3bd224f02e43",
   "metadata": {},
   "outputs": [],
   "source": []
  },
  {
   "cell_type": "code",
   "execution_count": null,
   "id": "379ef1bf-4e1f-4feb-87b7-0b9887c4c27c",
   "metadata": {},
   "outputs": [],
   "source": []
  },
  {
   "cell_type": "code",
   "execution_count": 6,
   "id": "3e3736c1-56bf-461a-a94d-03c80fa7ce2c",
   "metadata": {},
   "outputs": [],
   "source": []
  },
  {
   "cell_type": "code",
   "execution_count": 7,
   "id": "0ab67e70-271a-4d00-9fad-9c99795fb644",
   "metadata": {},
   "outputs": [],
   "source": []
  },
  {
   "cell_type": "code",
   "execution_count": null,
   "id": "8e56fd80-2568-4ead-9055-0c4b405becd1",
   "metadata": {},
   "outputs": [],
   "source": []
  }
 ],
 "metadata": {
  "kernelspec": {
   "display_name": "hrsaintentenv",
   "language": "python",
   "name": "hrsaintentenv"
  },
  "language_info": {
   "codemirror_mode": {
    "name": "ipython",
    "version": 3
   },
   "file_extension": ".py",
   "mimetype": "text/x-python",
   "name": "python",
   "nbconvert_exporter": "python",
   "pygments_lexer": "ipython3",
   "version": "3.9.7"
  }
 },
 "nbformat": 4,
 "nbformat_minor": 5
}
