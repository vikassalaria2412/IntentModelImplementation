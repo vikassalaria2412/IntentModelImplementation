{
 "cells": [
  {
   "cell_type": "code",
   "execution_count": 1,
   "id": "3e169f80-be71-4ac3-b7d8-8f91eebe3019",
   "metadata": {},
   "outputs": [],
   "source": [
    "import os\n",
    "#import shutil\n",
    "import pandas as pd\n",
    "import gradio as gr\n",
    "import tensorflow as tf\n",
    "import tensorflow_hub as hub\n",
    "import tensorflow_text as text\n",
    "#import seaborn as sns\n",
    "from pylab import rcParams\n",
    "\n",
    "import matplotlib.pyplot as plt\n",
    "tf.get_logger().setLevel('ERROR')\n",
    "\n",
    "#sns.set(style='whitegrid', palette='muted', font_scale=1.2)\n",
    "HAPPY_COLORS_PALETTE = [\"#01BEFE\", \"#FFDD00\", \"#FF7D00\", \"#FF006D\", \"#ADFF02\", \"#8F00FF\"]\n",
    "#sns.set_palette(sns.color_palette(HAPPY_COLORS_PALETTE))\n",
    "rcParams['figure.figsize'] = 12, 8\n",
    "import warnings\n",
    "warnings.filterwarnings(\"ignore\")\n",
    "from sklearn.model_selection import train_test_split"
   ]
  },
  {
   "cell_type": "code",
   "execution_count": 2,
   "id": "1cf542b6-1951-4488-893f-020519d647d3",
   "metadata": {},
   "outputs": [],
   "source": [
    "traindf = pd.read_csv('train.csv',encoding = 'utf-8')\n",
    "testdf = pd.read_csv('test.csv',encoding = 'utf-8')\n",
    "validdf = pd.read_csv('validation.csv',encoding = 'utf-8')"
   ]
  },
  {
   "cell_type": "code",
   "execution_count": 3,
   "id": "0d589b45-1c80-4c33-9da1-9c2936b9d846",
   "metadata": {},
   "outputs": [],
   "source": [
    "trainfeatures = traindf.copy()\n",
    "trainlabels = trainfeatures.pop('intent')"
   ]
  },
  {
   "cell_type": "code",
   "execution_count": 4,
   "id": "da5f511c-1222-4343-9e6a-2108b3345464",
   "metadata": {},
   "outputs": [],
   "source": [
    "trainfeatures=trainfeatures.values"
   ]
  },
  {
   "cell_type": "code",
   "execution_count": 5,
   "id": "6877aad5-56cf-4ab3-9d13-ba97704db75b",
   "metadata": {},
   "outputs": [],
   "source": [
    "from sklearn.preprocessing import LabelBinarizer"
   ]
  },
  {
   "cell_type": "code",
   "execution_count": 6,
   "id": "f292c029-0ed9-440a-bb97-12ada1f9264d",
   "metadata": {},
   "outputs": [],
   "source": [
    "binarizer = LabelBinarizer()\n",
    "trainlabels = binarizer.fit_transform(trainlabels.values)"
   ]
  },
  {
   "cell_type": "code",
   "execution_count": 7,
   "id": "36a5fe29-4ab8-4393-a0c1-a51a2148aade",
   "metadata": {},
   "outputs": [],
   "source": [
    "testfeatures=testdf.copy()\n",
    "testlabels=testfeatures.pop(\"intent\")\n",
    "validfeatures=validdf.copy()\n",
    "validlabels=validfeatures.pop(\"intent\")\n",
    "\n",
    "testfeatures=testfeatures.values\n",
    "validfeatures=validfeatures.values\n",
    "\n",
    "testlabels=binarizer.transform(testlabels.values)\n",
    "validlabels=binarizer.transform(validlabels.values)"
   ]
  },
  {
   "cell_type": "code",
   "execution_count": 8,
   "id": "6acb7d6c-91e5-40e5-bd96-1b56a594cb56",
   "metadata": {},
   "outputs": [
    {
     "name": "stdout",
     "output_type": "stream",
     "text": [
      "BERT model selected           : https://tfhub.dev/tensorflow/small_bert/bert_en_uncased_L-8_H-512_A-8/1\n",
      "Preprocess model auto-selected: https://tfhub.dev/tensorflow/bert_en_uncased_preprocess/2\n"
     ]
    }
   ],
   "source": [
    "bert_model_name = 'small_bert/bert_en_uncased_L-8_H-512_A-8' \n",
    "map_name_to_handle = {\n",
    "    'bert_en_uncased_L-12_H-768_A-12':\n",
    "        'https://tfhub.dev/tensorflow/bert_en_uncased_L-12_H-768_A-12/3',\n",
    "    'bert_en_cased_L-12_H-768_A-12':\n",
    "        'https://tfhub.dev/tensorflow/bert_en_cased_L-12_H-768_A-12/3',\n",
    "    'bert_multi_cased_L-12_H-768_A-12':\n",
    "        'https://tfhub.dev/tensorflow/bert_multi_cased_L-12_H-768_A-12/3',\n",
    "    'small_bert/bert_en_uncased_L-2_H-128_A-2':\n",
    "        'https://tfhub.dev/tensorflow/small_bert/bert_en_uncased_L-2_H-128_A-2/1',\n",
    "    'small_bert/bert_en_uncased_L-2_H-256_A-4':\n",
    "        'https://tfhub.dev/tensorflow/small_bert/bert_en_uncased_L-2_H-256_A-4/1',\n",
    "    'small_bert/bert_en_uncased_L-2_H-512_A-8':\n",
    "        'https://tfhub.dev/tensorflow/small_bert/bert_en_uncased_L-2_H-512_A-8/1',\n",
    "    'small_bert/bert_en_uncased_L-2_H-768_A-12':\n",
    "        'https://tfhub.dev/tensorflow/small_bert/bert_en_uncased_L-2_H-768_A-12/1',\n",
    "    'small_bert/bert_en_uncased_L-4_H-128_A-2':\n",
    "        'https://tfhub.dev/tensorflow/small_bert/bert_en_uncased_L-4_H-128_A-2/1',\n",
    "    'small_bert/bert_en_uncased_L-4_H-256_A-4':\n",
    "        'https://tfhub.dev/tensorflow/small_bert/bert_en_uncased_L-4_H-256_A-4/1',\n",
    "    'small_bert/bert_en_uncased_L-4_H-512_A-8':\n",
    "        'https://tfhub.dev/tensorflow/small_bert/bert_en_uncased_L-4_H-512_A-8/1',\n",
    "    'small_bert/bert_en_uncased_L-4_H-768_A-12':\n",
    "        'https://tfhub.dev/tensorflow/small_bert/bert_en_uncased_L-4_H-768_A-12/1',\n",
    "    'small_bert/bert_en_uncased_L-6_H-128_A-2':\n",
    "        'https://tfhub.dev/tensorflow/small_bert/bert_en_uncased_L-6_H-128_A-2/1',\n",
    "    'small_bert/bert_en_uncased_L-6_H-256_A-4':\n",
    "        'https://tfhub.dev/tensorflow/small_bert/bert_en_uncased_L-6_H-256_A-4/1',\n",
    "    'small_bert/bert_en_uncased_L-6_H-512_A-8':\n",
    "        'https://tfhub.dev/tensorflow/small_bert/bert_en_uncased_L-6_H-512_A-8/1',\n",
    "    'small_bert/bert_en_uncased_L-6_H-768_A-12':\n",
    "        'https://tfhub.dev/tensorflow/small_bert/bert_en_uncased_L-6_H-768_A-12/1',\n",
    "    'small_bert/bert_en_uncased_L-8_H-128_A-2':\n",
    "        'https://tfhub.dev/tensorflow/small_bert/bert_en_uncased_L-8_H-128_A-2/1',\n",
    "    'small_bert/bert_en_uncased_L-8_H-256_A-4':\n",
    "        'https://tfhub.dev/tensorflow/small_bert/bert_en_uncased_L-8_H-256_A-4/1',\n",
    "    'small_bert/bert_en_uncased_L-8_H-512_A-8':\n",
    "        'https://tfhub.dev/tensorflow/small_bert/bert_en_uncased_L-8_H-512_A-8/1',\n",
    "    'small_bert/bert_en_uncased_L-8_H-768_A-12':\n",
    "        'https://tfhub.dev/tensorflow/small_bert/bert_en_uncased_L-8_H-768_A-12/1',\n",
    "    'small_bert/bert_en_uncased_L-10_H-128_A-2':\n",
    "        'https://tfhub.dev/tensorflow/small_bert/bert_en_uncased_L-10_H-128_A-2/1',\n",
    "    'small_bert/bert_en_uncased_L-10_H-256_A-4':\n",
    "        'https://tfhub.dev/tensorflow/small_bert/bert_en_uncased_L-10_H-256_A-4/1',\n",
    "    'small_bert/bert_en_uncased_L-10_H-512_A-8':\n",
    "        'https://tfhub.dev/tensorflow/small_bert/bert_en_uncased_L-10_H-512_A-8/1',\n",
    "    'small_bert/bert_en_uncased_L-10_H-768_A-12':\n",
    "        'https://tfhub.dev/tensorflow/small_bert/bert_en_uncased_L-10_H-768_A-12/1',\n",
    "    'small_bert/bert_en_uncased_L-12_H-128_A-2':\n",
    "        'https://tfhub.dev/tensorflow/small_bert/bert_en_uncased_L-12_H-128_A-2/1',\n",
    "    'small_bert/bert_en_uncased_L-12_H-256_A-4':\n",
    "        'https://tfhub.dev/tensorflow/small_bert/bert_en_uncased_L-12_H-256_A-4/1',\n",
    "    'small_bert/bert_en_uncased_L-12_H-512_A-8':\n",
    "        'https://tfhub.dev/tensorflow/small_bert/bert_en_uncased_L-12_H-512_A-8/1',\n",
    "    'small_bert/bert_en_uncased_L-12_H-768_A-12':\n",
    "        'https://tfhub.dev/tensorflow/small_bert/bert_en_uncased_L-12_H-768_A-12/1',\n",
    "    'albert_en_base':\n",
    "        'https://tfhub.dev/tensorflow/albert_en_base/2',\n",
    "    'electra_small':\n",
    "        'https://tfhub.dev/google/electra_small/2',\n",
    "    'electra_base':\n",
    "        'https://tfhub.dev/google/electra_base/2',\n",
    "    'experts_pubmed':\n",
    "        'https://tfhub.dev/google/experts/bert/pubmed/2',\n",
    "    'experts_wiki_books':\n",
    "        'https://tfhub.dev/google/experts/bert/wiki_books/2',\n",
    "    'talking-heads_base':\n",
    "        'https://tfhub.dev/tensorflow/talkheads_ggelu_bert_en_base/1',\n",
    "}\n",
    "\n",
    "map_model_to_preprocess = {\n",
    "    'bert_en_uncased_L-12_H-768_A-12':\n",
    "        'https://tfhub.dev/tensorflow/bert_en_uncased_preprocess/2',\n",
    "    'bert_en_cased_L-12_H-768_A-12':\n",
    "        'https://tfhub.dev/tensorflow/bert_en_cased_preprocess/2',\n",
    "    'small_bert/bert_en_uncased_L-2_H-128_A-2':\n",
    "        'https://tfhub.dev/tensorflow/bert_en_uncased_preprocess/2',\n",
    "    'small_bert/bert_en_uncased_L-2_H-256_A-4':\n",
    "        'https://tfhub.dev/tensorflow/bert_en_uncased_preprocess/2',\n",
    "    'small_bert/bert_en_uncased_L-2_H-512_A-8':\n",
    "        'https://tfhub.dev/tensorflow/bert_en_uncased_preprocess/2',\n",
    "    'small_bert/bert_en_uncased_L-2_H-768_A-12':\n",
    "        'https://tfhub.dev/tensorflow/bert_en_uncased_preprocess/2',\n",
    "    'small_bert/bert_en_uncased_L-4_H-128_A-2':\n",
    "        'https://tfhub.dev/tensorflow/bert_en_uncased_preprocess/2',\n",
    "    'small_bert/bert_en_uncased_L-4_H-256_A-4':\n",
    "        'https://tfhub.dev/tensorflow/bert_en_uncased_preprocess/2',\n",
    "    'small_bert/bert_en_uncased_L-4_H-512_A-8':\n",
    "        'https://tfhub.dev/tensorflow/bert_en_uncased_preprocess/2',\n",
    "    'small_bert/bert_en_uncased_L-4_H-768_A-12':\n",
    "        'https://tfhub.dev/tensorflow/bert_en_uncased_preprocess/2',\n",
    "    'small_bert/bert_en_uncased_L-6_H-128_A-2':\n",
    "        'https://tfhub.dev/tensorflow/bert_en_uncased_preprocess/2',\n",
    "    'small_bert/bert_en_uncased_L-6_H-256_A-4':\n",
    "        'https://tfhub.dev/tensorflow/bert_en_uncased_preprocess/2',\n",
    "    'small_bert/bert_en_uncased_L-6_H-512_A-8':\n",
    "        'https://tfhub.dev/tensorflow/bert_en_uncased_preprocess/2',\n",
    "    'small_bert/bert_en_uncased_L-6_H-768_A-12':\n",
    "        'https://tfhub.dev/tensorflow/bert_en_uncased_preprocess/2',\n",
    "    'small_bert/bert_en_uncased_L-8_H-128_A-2':\n",
    "        'https://tfhub.dev/tensorflow/bert_en_uncased_preprocess/2',\n",
    "    'small_bert/bert_en_uncased_L-8_H-256_A-4':\n",
    "        'https://tfhub.dev/tensorflow/bert_en_uncased_preprocess/2',\n",
    "    'small_bert/bert_en_uncased_L-8_H-512_A-8':\n",
    "        'https://tfhub.dev/tensorflow/bert_en_uncased_preprocess/2',\n",
    "    'small_bert/bert_en_uncased_L-8_H-768_A-12':\n",
    "        'https://tfhub.dev/tensorflow/bert_en_uncased_preprocess/2',\n",
    "    'small_bert/bert_en_uncased_L-10_H-128_A-2':\n",
    "        'https://tfhub.dev/tensorflow/bert_en_uncased_preprocess/2',\n",
    "    'small_bert/bert_en_uncased_L-10_H-256_A-4':\n",
    "        'https://tfhub.dev/tensorflow/bert_en_uncased_preprocess/2',\n",
    "    'small_bert/bert_en_uncased_L-10_H-512_A-8':\n",
    "        'https://tfhub.dev/tensorflow/bert_en_uncased_preprocess/2',\n",
    "    'small_bert/bert_en_uncased_L-10_H-768_A-12':\n",
    "        'https://tfhub.dev/tensorflow/bert_en_uncased_preprocess/2',\n",
    "    'small_bert/bert_en_uncased_L-12_H-128_A-2':\n",
    "        'https://tfhub.dev/tensorflow/bert_en_uncased_preprocess/2',\n",
    "    'small_bert/bert_en_uncased_L-12_H-256_A-4':\n",
    "        'https://tfhub.dev/tensorflow/bert_en_uncased_preprocess/2',\n",
    "    'small_bert/bert_en_uncased_L-12_H-512_A-8':\n",
    "        'https://tfhub.dev/tensorflow/bert_en_uncased_preprocess/2',\n",
    "    'small_bert/bert_en_uncased_L-12_H-768_A-12':\n",
    "        'https://tfhub.dev/tensorflow/bert_en_uncased_preprocess/2',\n",
    "    'bert_multi_cased_L-12_H-768_A-12':\n",
    "        'https://tfhub.dev/tensorflow/bert_multi_cased_preprocess/2',\n",
    "    'albert_en_base':\n",
    "        'https://tfhub.dev/tensorflow/albert_en_preprocess/2',\n",
    "    'electra_small':\n",
    "        'https://tfhub.dev/tensorflow/bert_en_uncased_preprocess/2',\n",
    "    'electra_base':\n",
    "        'https://tfhub.dev/tensorflow/bert_en_uncased_preprocess/2',\n",
    "    'experts_pubmed':\n",
    "        'https://tfhub.dev/tensorflow/bert_en_uncased_preprocess/2',\n",
    "    'experts_wiki_books':\n",
    "        'https://tfhub.dev/tensorflow/bert_en_uncased_preprocess/2',\n",
    "    'talking-heads_base':\n",
    "        'https://tfhub.dev/tensorflow/bert_en_uncased_preprocess/2',\n",
    "}\n",
    "\n",
    "tfhub_handle_encoder = map_name_to_handle[bert_model_name]\n",
    "tfhub_handle_preprocess = map_model_to_preprocess[bert_model_name]\n",
    "\n",
    "print(f'BERT model selected           : {tfhub_handle_encoder}')\n",
    "print(f'Preprocess model auto-selected: {tfhub_handle_preprocess}')"
   ]
  },
  {
   "cell_type": "code",
   "execution_count": 9,
   "id": "fa72cf62-ded8-4c88-abf2-6de7c9e3baa6",
   "metadata": {},
   "outputs": [],
   "source": [
    "bert_preprocess_model = hub.KerasLayer(tfhub_handle_preprocess)"
   ]
  },
  {
   "cell_type": "code",
   "execution_count": 10,
   "id": "da73d936-e8d2-48f1-b4cb-88f8c81a5ace",
   "metadata": {},
   "outputs": [
    {
     "data": {
      "text/plain": [
       "array(['can you help me to create an account'], dtype=object)"
      ]
     },
     "execution_count": 10,
     "metadata": {},
     "output_type": "execute_result"
    }
   ],
   "source": [
    "trainfeatures[0]"
   ]
  },
  {
   "cell_type": "code",
   "execution_count": 11,
   "id": "da14f444-8ba7-445a-af31-480dfce3e438",
   "metadata": {},
   "outputs": [
    {
     "name": "stdout",
     "output_type": "stream",
     "text": [
      "Keys       : ['input_type_ids', 'input_word_ids', 'input_mask']\n",
      "Shape      : (1, 128)\n",
      "Word Ids   : [ 101 2064 2017 2393 2033 2000 3443 2019 4070  102    0    0]\n",
      "Input Mask : [1 1 1 1 1 1 1 1 1 1 0 0]\n",
      "Type Ids   : [0 0 0 0 0 0 0 0 0 0 0 0]\n"
     ]
    }
   ],
   "source": [
    "text_test = trainfeatures[0]\n",
    "text_preprocessed = bert_preprocess_model(text_test)\n",
    "\n",
    "print(f'Keys       : {list(text_preprocessed.keys())}')\n",
    "print(f'Shape      : {text_preprocessed[\"input_word_ids\"].shape}')\n",
    "print(f'Word Ids   : {text_preprocessed[\"input_word_ids\"][0, :12]}')\n",
    "print(f'Input Mask : {text_preprocessed[\"input_mask\"][0, :12]}')\n",
    "print(f'Type Ids   : {text_preprocessed[\"input_type_ids\"][0, :12]}')"
   ]
  },
  {
   "cell_type": "code",
   "execution_count": 12,
   "id": "ea1a484a-9e1b-40bd-8f38-733c633bd413",
   "metadata": {},
   "outputs": [],
   "source": [
    "bert_model = hub.KerasLayer(tfhub_handle_encoder)"
   ]
  },
  {
   "cell_type": "code",
   "execution_count": 13,
   "id": "430f6c61-9030-4477-a30c-e0dcca416a9e",
   "metadata": {},
   "outputs": [
    {
     "name": "stdout",
     "output_type": "stream",
     "text": [
      "Loaded BERT: https://tfhub.dev/tensorflow/small_bert/bert_en_uncased_L-8_H-512_A-8/1\n",
      "Pooled Outputs Shape:(1, 512)\n",
      "Pooled Outputs Values:[-0.0216167  -0.04185808 -0.999985    0.2675273   0.8037594  -0.19578242\n",
      " -0.99088526 -0.24350508  0.31525406 -0.16903779 -0.78438044 -0.19907   ]\n",
      "Sequence Outputs Shape:(1, 128, 512)\n",
      "Sequence Outputs Values:[[-0.31405294 -0.01957725  1.5631087  ... -0.02379022 -0.12260876\n",
      "   0.74026775]\n",
      " [ 0.06647187  0.35380468  0.6203449  ...  0.01576915  0.85667586\n",
      "   0.48369995]\n",
      " [-0.90434897 -0.25116926  1.407662   ...  0.2007662  -0.84128666\n",
      "   0.44172603]\n",
      " ...\n",
      " [ 0.35363457  0.00938005  1.9383132  ...  0.02902699 -0.05458811\n",
      "   0.9358662 ]\n",
      " [ 0.02808828 -0.18320957  0.99557954 ...  0.28162864 -0.12516196\n",
      "   0.23036662]\n",
      " [ 0.0061673  -0.07437679  0.94025993 ...  0.30151168 -0.13263541\n",
      "   0.24854773]]\n"
     ]
    }
   ],
   "source": [
    "bert_results = bert_model(text_preprocessed)\n",
    "\n",
    "print(f'Loaded BERT: {tfhub_handle_encoder}')\n",
    "print(f'Pooled Outputs Shape:{bert_results[\"pooled_output\"].shape}')\n",
    "print(f'Pooled Outputs Values:{bert_results[\"pooled_output\"][0, :12]}')\n",
    "print(f'Sequence Outputs Shape:{bert_results[\"sequence_output\"].shape}')\n",
    "print(f'Sequence Outputs Values:{bert_results[\"sequence_output\"][0, :12]}')"
   ]
  },
  {
   "cell_type": "code",
   "execution_count": 14,
   "id": "37cca866-280a-4de7-8e4f-cffbc3974490",
   "metadata": {},
   "outputs": [
    {
     "data": {
      "text/plain": [
       "int"
      ]
     },
     "execution_count": 14,
     "metadata": {},
     "output_type": "execute_result"
    }
   ],
   "source": [
    "type(trainlabels.shape[1])"
   ]
  },
  {
   "cell_type": "code",
   "execution_count": 15,
   "id": "9cda31dd-43ef-431c-a75a-9530ff94567b",
   "metadata": {},
   "outputs": [],
   "source": [
    "text_input = tf.keras.layers.Input(shape=(), dtype=tf.string, name='text')\n",
    "preprocessing_layer = hub.KerasLayer(tfhub_handle_preprocess, name='preprocessing')\n",
    "encoder_inputs = preprocessing_layer(text_input)\n",
    "encoder = hub.KerasLayer(tfhub_handle_encoder, trainable=True, name='BERT_encoder')\n",
    "outputs = encoder(encoder_inputs)\n",
    "net = outputs['pooled_output']\n",
    "net = tf.keras.layers.Dropout(0.1)(net)\n",
    "net = tf.keras.layers.Dense(trainlabels.shape[1], activation=None, name='classifier')(net)"
   ]
  },
  {
   "cell_type": "code",
   "execution_count": 16,
   "id": "e87f3384-0aa2-42a9-a587-84ee65e9677e",
   "metadata": {},
   "outputs": [],
   "source": [
    "model_class = tf.keras.Model(text_input, net)"
   ]
  },
  {
   "cell_type": "code",
   "execution_count": 17,
   "id": "ad05fec4-4b6d-47b0-9825-5e983b2cde15",
   "metadata": {},
   "outputs": [
    {
     "name": "stdout",
     "output_type": "stream",
     "text": [
      "tf.Tensor(\n",
      "[[0.06251742 0.0256462  0.04035569 0.04303149 0.0315155  0.04284282\n",
      "  0.02445078 0.01684104 0.0137799  0.01662723 0.01915381 0.06935567\n",
      "  0.01382583 0.06384407 0.01036362 0.01033914 0.04470566 0.00950274\n",
      "  0.01923526 0.01063092 0.03680998 0.0328733  0.02433078 0.01846396\n",
      "  0.02419248 0.00799255 0.02534431 0.01365478 0.06684404 0.02446224\n",
      "  0.05241509 0.05577518 0.02827648]], shape=(1, 33), dtype=float32)\n"
     ]
    }
   ],
   "source": [
    "bert_raw_result = model_class(tf.constant(trainfeatures[0]))\n",
    "print(tf.keras.activations.softmax(bert_raw_result))"
   ]
  },
  {
   "cell_type": "code",
   "execution_count": 18,
   "id": "06494500-8cd8-453a-992c-db887223d984",
   "metadata": {},
   "outputs": [
    {
     "name": "stdout",
     "output_type": "stream",
     "text": [
      "Model: \"model\"\n",
      "__________________________________________________________________________________________________\n",
      "Layer (type)                    Output Shape         Param #     Connected to                     \n",
      "==================================================================================================\n",
      "text (InputLayer)               [(None,)]            0                                            \n",
      "__________________________________________________________________________________________________\n",
      "preprocessing (KerasLayer)      {'input_type_ids': ( 0           text[0][0]                       \n",
      "__________________________________________________________________________________________________\n",
      "BERT_encoder (KerasLayer)       {'pooled_output': (N 41373185    preprocessing[0][0]              \n",
      "                                                                 preprocessing[0][1]              \n",
      "                                                                 preprocessing[0][2]              \n",
      "__________________________________________________________________________________________________\n",
      "dropout (Dropout)               (None, 512)          0           BERT_encoder[0][9]               \n",
      "__________________________________________________________________________________________________\n",
      "classifier (Dense)              (None, 33)           16929       dropout[0][0]                    \n",
      "==================================================================================================\n",
      "Total params: 41,390,114\n",
      "Trainable params: 41,390,113\n",
      "Non-trainable params: 1\n",
      "__________________________________________________________________________________________________\n"
     ]
    }
   ],
   "source": [
    "model_class.summary()"
   ]
  },
  {
   "cell_type": "code",
   "execution_count": 19,
   "id": "835d1855-c464-4e24-a5a8-d667e2c56469",
   "metadata": {},
   "outputs": [],
   "source": [
    "loss = tf.keras.losses.CategoricalCrossentropy(from_logits=True)\n",
    "metrics = tf.metrics.CategoricalAccuracy()"
   ]
  },
  {
   "cell_type": "code",
   "execution_count": 21,
   "id": "a3c52696-705c-499a-bc41-a920144e14fe",
   "metadata": {},
   "outputs": [],
   "source": [
    "epochs=10\n",
    "optimizer=tf.keras.optimizers.Adam(1e-5)\n",
    "model_class.compile(optimizer=optimizer,\n",
    "                         loss=loss,\n",
    "                         metrics=metrics)"
   ]
  },
  {
   "cell_type": "code",
   "execution_count": 22,
   "id": "9a10ab51-f287-40d2-800e-be27a37421ab",
   "metadata": {},
   "outputs": [],
   "source": [
    "checkpoint_path = \"training_2/cp.ckpt\"\n",
    "checkpoint_dir = os.path.dirname(checkpoint_path)"
   ]
  },
  {
   "cell_type": "code",
   "execution_count": 23,
   "id": "c796a440-8d9c-48c4-a532-b34e7d56431f",
   "metadata": {},
   "outputs": [],
   "source": [
    "cp_callback = tf.keras.callbacks.ModelCheckpoint(filepath=checkpoint_path,\n",
    "                                                 save_weights_only=True,\n",
    "                                                 verbose=1)"
   ]
  },
  {
   "cell_type": "code",
   "execution_count": 24,
   "id": "00ca00a6-3635-472a-a3a5-8fef29c60a3e",
   "metadata": {},
   "outputs": [
    {
     "name": "stdout",
     "output_type": "stream",
     "text": [
      "Training model with https://tfhub.dev/tensorflow/small_bert/bert_en_uncased_L-8_H-512_A-8/1\n",
      "Epoch 1/10\n",
      "19/19 [==============================] - 175s 8s/step - loss: 3.5356 - categorical_accuracy: 0.0438 - val_loss: 3.4488 - val_categorical_accuracy: 0.3000\n",
      "\n",
      "Epoch 00001: saving model to training_2\\cp.ckpt\n",
      "Epoch 2/10\n",
      "19/19 [==============================] - 155s 8s/step - loss: 3.2063 - categorical_accuracy: 0.1484 - val_loss: 3.1948 - val_categorical_accuracy: 0.4000\n",
      "\n",
      "Epoch 00002: saving model to training_2\\cp.ckpt\n",
      "Epoch 3/10\n",
      "19/19 [==============================] - 159s 8s/step - loss: 2.8834 - categorical_accuracy: 0.2614 - val_loss: 2.8689 - val_categorical_accuracy: 0.4000\n",
      "\n",
      "Epoch 00003: saving model to training_2\\cp.ckpt\n",
      "Epoch 4/10\n",
      "19/19 [==============================] - 167s 9s/step - loss: 2.5904 - categorical_accuracy: 0.3895 - val_loss: 2.6336 - val_categorical_accuracy: 0.4000\n",
      "\n",
      "Epoch 00004: saving model to training_2\\cp.ckpt\n",
      "Epoch 5/10\n",
      "19/19 [==============================] - 182s 10s/step - loss: 2.2616 - categorical_accuracy: 0.5042 - val_loss: 2.2629 - val_categorical_accuracy: 0.4000\n",
      "\n",
      "Epoch 00005: saving model to training_2\\cp.ckpt\n",
      "Epoch 6/10\n",
      "19/19 [==============================] - 184s 10s/step - loss: 1.8886 - categorical_accuracy: 0.6459 - val_loss: 1.9518 - val_categorical_accuracy: 0.5000\n",
      "\n",
      "Epoch 00006: saving model to training_2\\cp.ckpt\n",
      "Epoch 7/10\n",
      "19/19 [==============================] - 174s 9s/step - loss: 1.6197 - categorical_accuracy: 0.7234 - val_loss: 1.6774 - val_categorical_accuracy: 0.7000\n",
      "\n",
      "Epoch 00007: saving model to training_2\\cp.ckpt\n",
      "Epoch 8/10\n",
      "19/19 [==============================] - 184s 10s/step - loss: 1.3232 - categorical_accuracy: 0.7993 - val_loss: 1.4301 - val_categorical_accuracy: 0.6000\n",
      "\n",
      "Epoch 00008: saving model to training_2\\cp.ckpt\n",
      "Epoch 9/10\n",
      "19/19 [==============================] - 177s 9s/step - loss: 1.1286 - categorical_accuracy: 0.8449 - val_loss: 1.1932 - val_categorical_accuracy: 0.7000\n",
      "\n",
      "Epoch 00009: saving model to training_2\\cp.ckpt\n",
      "Epoch 10/10\n",
      "19/19 [==============================] - 164s 9s/step - loss: 0.9363 - categorical_accuracy: 0.8971 - val_loss: 1.0142 - val_categorical_accuracy: 0.8000\n",
      "\n",
      "Epoch 00010: saving model to training_2\\cp.ckpt\n"
     ]
    }
   ],
   "source": [
    "print(f'Training model with {tfhub_handle_encoder}')\n",
    "history = model_class.fit(x=trainfeatures,y=trainlabels,\n",
    "                               validation_data=(validfeatures,validlabels),\n",
    "                               batch_size=32,\n",
    "                               epochs=epochs,\n",
    "                              callbacks=[cp_callback])"
   ]
  },
  {
   "cell_type": "code",
   "execution_count": 33,
   "id": "e440db90-7819-424a-831f-28005f48ad2d",
   "metadata": {},
   "outputs": [],
   "source": [
    "import torch\n",
    "import keras"
   ]
  },
  {
   "cell_type": "code",
   "execution_count": 37,
   "id": "3c68380e-4ceb-46d0-aaae-5a430f6e5ce4",
   "metadata": {},
   "outputs": [],
   "source": [
    "def create_model():\n",
    "    model = tf.keras.Sequential([\n",
    "    keras.layers.Dense(512, activation='relu', input_shape=(784,)),\n",
    "    keras.layers.Dropout(0.2),\n",
    "    keras.layers.Dense(10)\n",
    "  ])"
   ]
  },
  {
   "cell_type": "code",
   "execution_count": 40,
   "id": "55405926-9ebc-4dba-b315-1a38c40eb53c",
   "metadata": {},
   "outputs": [],
   "source": [
    "model11 = create_model()"
   ]
  },
  {
   "cell_type": "code",
   "execution_count": 42,
   "id": "e5f4da56-0971-454c-a3f9-c412d3c802a4",
   "metadata": {},
   "outputs": [
    {
     "name": "stderr",
     "output_type": "stream",
     "text": [
      "WARNING:absl:Found untraced functions such as restored_function_body, restored_function_body, restored_function_body, restored_function_body, restored_function_body while saving (showing 5 of 610). These functions will not be directly callable after loading.\n"
     ]
    }
   ],
   "source": [
    "model_class.save('ModelSave\\BERTModel')"
   ]
  },
  {
   "cell_type": "code",
   "execution_count": 43,
   "id": "1a416b09-de26-497c-9881-3e83401e1abe",
   "metadata": {},
   "outputs": [],
   "source": [
    "from tensorflow import keras\n",
    "model_load = keras.models.load_model('ModelSave\\BERTModel')"
   ]
  },
  {
   "cell_type": "code",
   "execution_count": 44,
   "id": "8d649382-760c-490d-89ec-cbbe5019818a",
   "metadata": {},
   "outputs": [],
   "source": [
    "def print_my_examples_loaded(description,model_load):\n",
    "    result = tf.nn.softmax(model_load(tf.constant([description])))\n",
    "    confidence_score = tf.reduce_max(result, axis=-1).numpy()\n",
    "    print(confidence_score[0])\n",
    "    if confidence_score[0] < 0.15:\n",
    "        return \"Unidentified Intent\"\n",
    "    else:\n",
    "        intents=binarizer.inverse_transform(result.numpy())\n",
    "        return intents[0]"
   ]
  },
  {
   "cell_type": "code",
   "execution_count": 49,
   "id": "1f4ff575-ad80-403d-b722-db2dd6ba04a2",
   "metadata": {},
   "outputs": [],
   "source": [
    "description = \"I am not able to reset password\""
   ]
  },
  {
   "cell_type": "code",
   "execution_count": 50,
   "id": "8a99024e-6561-4d32-bd63-4dedf045b978",
   "metadata": {},
   "outputs": [
    {
     "name": "stdout",
     "output_type": "stream",
     "text": [
      "0.5137166\n"
     ]
    },
    {
     "data": {
      "text/plain": [
       "'ResetPassword'"
      ]
     },
     "execution_count": 50,
     "metadata": {},
     "output_type": "execute_result"
    }
   ],
   "source": [
    "print_my_examples_loaded(description,model_load)"
   ]
  },
  {
   "cell_type": "code",
   "execution_count": null,
   "id": "fa0baa47-5722-47ba-a58d-b7789e4754d4",
   "metadata": {},
   "outputs": [],
   "source": []
  },
  {
   "cell_type": "code",
   "execution_count": null,
   "id": "e148e5ad-22e8-4d38-ae99-830ddd49df6d",
   "metadata": {},
   "outputs": [],
   "source": []
  },
  {
   "cell_type": "code",
   "execution_count": null,
   "id": "4884b8b5-1f26-450f-abd7-77ecd6b6645d",
   "metadata": {},
   "outputs": [],
   "source": []
  },
  {
   "cell_type": "code",
   "execution_count": 29,
   "id": "8bc1f8e4-3143-4743-ba1b-8336dd75735d",
   "metadata": {},
   "outputs": [],
   "source": [
    "model_class.save_weights('BERTModelSaveLatest.h5')"
   ]
  },
  {
   "cell_type": "code",
   "execution_count": null,
   "id": "2e90356f-dae9-4d79-b7d9-e6ce120b4b41",
   "metadata": {},
   "outputs": [],
   "source": []
  }
 ],
 "metadata": {
  "kernelspec": {
   "display_name": "hrsaintentenv",
   "language": "python",
   "name": "hrsaintentenv"
  },
  "language_info": {
   "codemirror_mode": {
    "name": "ipython",
    "version": 3
   },
   "file_extension": ".py",
   "mimetype": "text/x-python",
   "name": "python",
   "nbconvert_exporter": "python",
   "pygments_lexer": "ipython3",
   "version": "3.9.0"
  }
 },
 "nbformat": 4,
 "nbformat_minor": 5
}
