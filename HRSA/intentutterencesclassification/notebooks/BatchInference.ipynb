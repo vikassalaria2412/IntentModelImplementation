{
 "cells": [
  {
   "cell_type": "code",
   "execution_count": 6,
   "id": "73353cd3-d650-41f7-8b37-4fbad132fe27",
   "metadata": {},
   "outputs": [
    {
     "ename": "ModuleNotFoundError",
     "evalue": "No module named 'modzy'",
     "output_type": "error",
     "traceback": [
      "\u001b[1;31m---------------------------------------------------------------------------\u001b[0m",
      "\u001b[1;31mModuleNotFoundError\u001b[0m                       Traceback (most recent call last)",
      "Cell \u001b[1;32mIn [6], line 2\u001b[0m\n\u001b[0;32m      1\u001b[0m \u001b[38;5;28;01mimport\u001b[39;00m \u001b[38;5;21;01mpandas\u001b[39;00m \u001b[38;5;28;01mas\u001b[39;00m \u001b[38;5;21;01mpd\u001b[39;00m\n\u001b[1;32m----> 2\u001b[0m \u001b[38;5;28;01mfrom\u001b[39;00m \u001b[38;5;21;01mmodzy\u001b[39;00m \u001b[38;5;28;01mimport\u001b[39;00m ApiClient\n",
      "\u001b[1;31mModuleNotFoundError\u001b[0m: No module named 'modzy'"
     ]
    }
   ],
   "source": [
    "import pandas as pd\n",
    "from modzy import ApiClient"
   ]
  },
  {
   "cell_type": "code",
   "execution_count": 5,
   "id": "c8f60b8a-5062-4fc2-9cf0-e9ba4377e365",
   "metadata": {},
   "outputs": [
    {
     "name": "stdout",
     "output_type": "stream",
     "text": [
      "Requirement already satisfied: modzy-sdk in c:\\users\\vsalaria\\anaconda3\\envs\\hrsaintentenv\\lib\\site-packages (0.10.2)\n",
      "Requirement already satisfied: python-dotenv in c:\\users\\vsalaria\\anaconda3\\envs\\hrsaintentenv\\lib\\site-packages (from modzy-sdk) (0.21.0)\n",
      "Requirement already satisfied: google-api-python-client in c:\\users\\vsalaria\\anaconda3\\envs\\hrsaintentenv\\lib\\site-packages (from modzy-sdk) (2.66.0)\n",
      "Requirement already satisfied: requests in c:\\users\\vsalaria\\anaconda3\\envs\\hrsaintentenv\\lib\\site-packages (from modzy-sdk) (2.28.1)\n",
      "Requirement already satisfied: grpcio in c:\\users\\vsalaria\\anaconda3\\envs\\hrsaintentenv\\lib\\site-packages (from modzy-sdk) (1.50.0)\n",
      "Requirement already satisfied: boto3 in c:\\users\\vsalaria\\anaconda3\\envs\\hrsaintentenv\\lib\\site-packages (from modzy-sdk) (1.26.19)\n",
      "Requirement already satisfied: deprecation in c:\\users\\vsalaria\\anaconda3\\envs\\hrsaintentenv\\lib\\site-packages (from modzy-sdk) (2.1.0)\n",
      "Requirement already satisfied: protobuf==3.19.4 in c:\\users\\vsalaria\\anaconda3\\envs\\hrsaintentenv\\lib\\site-packages (from modzy-sdk) (3.19.4)\n",
      "Requirement already satisfied: botocore<1.30.0,>=1.29.19 in c:\\users\\vsalaria\\anaconda3\\envs\\hrsaintentenv\\lib\\site-packages (from boto3->modzy-sdk) (1.29.19)\n",
      "Requirement already satisfied: jmespath<2.0.0,>=0.7.1 in c:\\users\\vsalaria\\anaconda3\\envs\\hrsaintentenv\\lib\\site-packages (from boto3->modzy-sdk) (1.0.1)\n",
      "Requirement already satisfied: s3transfer<0.7.0,>=0.6.0 in c:\\users\\vsalaria\\anaconda3\\envs\\hrsaintentenv\\lib\\site-packages (from boto3->modzy-sdk) (0.6.0)\n",
      "Requirement already satisfied: packaging in c:\\users\\vsalaria\\appdata\\roaming\\python\\python39\\site-packages (from deprecation->modzy-sdk) (21.3)\n",
      "Requirement already satisfied: google-auth<3.0.0dev,>=1.19.0 in c:\\users\\vsalaria\\anaconda3\\envs\\hrsaintentenv\\lib\\site-packages (from google-api-python-client->modzy-sdk) (1.35.0)\n",
      "Requirement already satisfied: google-auth-httplib2>=0.1.0 in c:\\users\\vsalaria\\anaconda3\\envs\\hrsaintentenv\\lib\\site-packages (from google-api-python-client->modzy-sdk) (0.1.0)\n",
      "Requirement already satisfied: google-api-core!=2.0.*,!=2.1.*,!=2.2.*,!=2.3.0,<3.0.0dev,>=1.31.5 in c:\\users\\vsalaria\\anaconda3\\envs\\hrsaintentenv\\lib\\site-packages (from google-api-python-client->modzy-sdk) (2.8.2)\n",
      "Requirement already satisfied: uritemplate<5,>=3.0.1 in c:\\users\\vsalaria\\anaconda3\\envs\\hrsaintentenv\\lib\\site-packages (from google-api-python-client->modzy-sdk) (4.1.1)\n",
      "Requirement already satisfied: httplib2<1dev,>=0.15.0 in c:\\users\\vsalaria\\anaconda3\\envs\\hrsaintentenv\\lib\\site-packages (from google-api-python-client->modzy-sdk) (0.21.0)\n",
      "Requirement already satisfied: six>=1.5.2 in c:\\users\\vsalaria\\anaconda3\\envs\\hrsaintentenv\\lib\\site-packages (from grpcio->modzy-sdk) (1.15.0)\n",
      "Requirement already satisfied: charset-normalizer<3,>=2 in c:\\users\\vsalaria\\anaconda3\\envs\\hrsaintentenv\\lib\\site-packages (from requests->modzy-sdk) (2.0.4)\n",
      "Requirement already satisfied: idna<4,>=2.5 in c:\\users\\vsalaria\\anaconda3\\envs\\hrsaintentenv\\lib\\site-packages (from requests->modzy-sdk) (3.4)\n",
      "Requirement already satisfied: certifi>=2017.4.17 in c:\\users\\vsalaria\\anaconda3\\envs\\hrsaintentenv\\lib\\site-packages (from requests->modzy-sdk) (2022.9.24)\n",
      "Requirement already satisfied: urllib3<1.27,>=1.21.1 in c:\\users\\vsalaria\\anaconda3\\envs\\hrsaintentenv\\lib\\site-packages (from requests->modzy-sdk) (1.26.12)\n",
      "Requirement already satisfied: python-dateutil<3.0.0,>=2.1 in c:\\users\\vsalaria\\appdata\\roaming\\python\\python39\\site-packages (from botocore<1.30.0,>=1.29.19->boto3->modzy-sdk) (2.8.2)\n",
      "Requirement already satisfied: googleapis-common-protos<2.0dev,>=1.56.2 in c:\\users\\vsalaria\\anaconda3\\envs\\hrsaintentenv\\lib\\site-packages (from google-api-core!=2.0.*,!=2.1.*,!=2.2.*,!=2.3.0,<3.0.0dev,>=1.31.5->google-api-python-client->modzy-sdk) (1.56.4)\n",
      "Requirement already satisfied: setuptools>=40.3.0 in c:\\users\\vsalaria\\anaconda3\\envs\\hrsaintentenv\\lib\\site-packages (from google-auth<3.0.0dev,>=1.19.0->google-api-python-client->modzy-sdk) (65.5.0)\n",
      "Requirement already satisfied: pyasn1-modules>=0.2.1 in c:\\users\\vsalaria\\anaconda3\\envs\\hrsaintentenv\\lib\\site-packages (from google-auth<3.0.0dev,>=1.19.0->google-api-python-client->modzy-sdk) (0.2.8)\n",
      "Requirement already satisfied: rsa<5,>=3.1.4 in c:\\users\\vsalaria\\anaconda3\\envs\\hrsaintentenv\\lib\\site-packages (from google-auth<3.0.0dev,>=1.19.0->google-api-python-client->modzy-sdk) (4.9)\n",
      "Requirement already satisfied: cachetools<5.0,>=2.0.0 in c:\\users\\vsalaria\\anaconda3\\envs\\hrsaintentenv\\lib\\site-packages (from google-auth<3.0.0dev,>=1.19.0->google-api-python-client->modzy-sdk) (4.2.4)\n",
      "Requirement already satisfied: pyparsing!=3.0.0,!=3.0.1,!=3.0.2,!=3.0.3,<4,>=2.4.2 in c:\\users\\vsalaria\\appdata\\roaming\\python\\python39\\site-packages (from httplib2<1dev,>=0.15.0->google-api-python-client->modzy-sdk) (3.0.9)\n",
      "Requirement already satisfied: pyasn1<0.5.0,>=0.4.6 in c:\\users\\vsalaria\\anaconda3\\envs\\hrsaintentenv\\lib\\site-packages (from pyasn1-modules>=0.2.1->google-auth<3.0.0dev,>=1.19.0->google-api-python-client->modzy-sdk) (0.4.8)\n"
     ]
    },
    {
     "name": "stderr",
     "output_type": "stream",
     "text": [
      "WARNING: Ignoring invalid distribution -rotobuf (c:\\users\\vsalaria\\anaconda3\\envs\\hrsaintentenv\\lib\\site-packages)\n",
      "WARNING: Ignoring invalid distribution -rotobuf (c:\\users\\vsalaria\\anaconda3\\envs\\hrsaintentenv\\lib\\site-packages)\n",
      "WARNING: Ignoring invalid distribution -rotobuf (c:\\users\\vsalaria\\anaconda3\\envs\\hrsaintentenv\\lib\\site-packages)\n",
      "WARNING: Ignoring invalid distribution -rotobuf (c:\\users\\vsalaria\\anaconda3\\envs\\hrsaintentenv\\lib\\site-packages)\n",
      "WARNING: Ignoring invalid distribution -rotobuf (c:\\users\\vsalaria\\anaconda3\\envs\\hrsaintentenv\\lib\\site-packages)\n",
      "WARNING: Ignoring invalid distribution -rotobuf (c:\\users\\vsalaria\\anaconda3\\envs\\hrsaintentenv\\lib\\site-packages)\n"
     ]
    }
   ],
   "source": [
    "!pip install modzy-sdk"
   ]
  },
  {
   "cell_type": "code",
   "execution_count": 4,
   "id": "c80595c4-64d7-4aa2-a54e-dc00f7313693",
   "metadata": {},
   "outputs": [],
   "source": [
    "df = pd.read_csv('batch_records_latest1.csv')"
   ]
  },
  {
   "cell_type": "code",
   "execution_count": 5,
   "id": "a1dcb22e-bea7-4109-928f-7f55a521e1eb",
   "metadata": {},
   "outputs": [
    {
     "data": {
      "text/plain": [
       "Description    0\n",
       "dtype: int64"
      ]
     },
     "execution_count": 5,
     "metadata": {},
     "output_type": "execute_result"
    }
   ],
   "source": [
    "df.isna().sum()"
   ]
  },
  {
   "cell_type": "code",
   "execution_count": 6,
   "id": "ef1af7da-8b29-463c-bb40-6d8e64dbdedd",
   "metadata": {},
   "outputs": [],
   "source": [
    "df= df['Description']"
   ]
  },
  {
   "cell_type": "code",
   "execution_count": 7,
   "id": "9c5418bc-a44b-4e6a-848b-fe707e1e9197",
   "metadata": {},
   "outputs": [
    {
     "data": {
      "text/plain": [
       "(17,)"
      ]
     },
     "execution_count": 7,
     "metadata": {},
     "output_type": "execute_result"
    }
   ],
   "source": [
    "df.shape"
   ]
  },
  {
   "cell_type": "code",
   "execution_count": 8,
   "id": "8562e4b4-8024-4c36-96c3-749ece894458",
   "metadata": {},
   "outputs": [
    {
     "data": {
      "text/plain": [
       "12    David called in requesting assistance with acc...\n",
       "13    Caller needed assistance with terminating session\n",
       "14    User called for assistance with the Nurse Scho...\n",
       "15    User stated that he called ams due to not bein...\n",
       "16    User wanted to know how to delete a file uploa...\n",
       "Name: Description, dtype: object"
      ]
     },
     "execution_count": 8,
     "metadata": {},
     "output_type": "execute_result"
    }
   ],
   "source": [
    "df[12:]"
   ]
  },
  {
   "cell_type": "code",
   "execution_count": 9,
   "id": "25923ac4-8036-4755-b133-51042d7d2421",
   "metadata": {},
   "outputs": [],
   "source": [
    "dataframe_length = len(df)"
   ]
  },
  {
   "cell_type": "code",
   "execution_count": 10,
   "id": "416daf02-4432-4fc6-a82a-dbf6499241c6",
   "metadata": {},
   "outputs": [],
   "source": [
    "dataframe_list = []\n",
    "for i,chunk in enumerate(pd.read_csv('batch_records_latest1.csv',\\\n",
    "                                     chunksize=10)):\n",
    "    chunk = chunk['Description']\n",
    "    dataframe_list.append(chunk)"
   ]
  },
  {
   "cell_type": "code",
   "execution_count": 11,
   "id": "7373192e-4616-4b19-865c-799c8935b5d0",
   "metadata": {},
   "outputs": [
    {
     "data": {
      "text/plain": [
       "2"
      ]
     },
     "execution_count": 11,
     "metadata": {},
     "output_type": "execute_result"
    }
   ],
   "source": [
    "len(dataframe_list)"
   ]
  },
  {
   "cell_type": "code",
   "execution_count": 12,
   "id": "c512490f-cf79-433f-b484-8c7ff70fdc39",
   "metadata": {},
   "outputs": [
    {
     "data": {
      "text/plain": [
       "pandas.core.series.Series"
      ]
     },
     "execution_count": 12,
     "metadata": {},
     "output_type": "execute_result"
    }
   ],
   "source": [
    "type(dataframe_list[0])"
   ]
  },
  {
   "cell_type": "code",
   "execution_count": 13,
   "id": "fd4d5caa-6570-4bb3-905a-0d38afe18fac",
   "metadata": {},
   "outputs": [],
   "source": [
    "sources_list = []\n",
    "for i in range(len(dataframe_list)):\n",
    "    sources = {\"review_{}\".format(i): {\"input.txt\": review} for i, review in enumerate(dataframe_list[i])}\n",
    "    sources_list.append(sources)"
   ]
  },
  {
   "cell_type": "code",
   "execution_count": 16,
   "id": "275fbc24-1a58-479b-8b2e-680b96878627",
   "metadata": {},
   "outputs": [
    {
     "data": {
      "text/plain": [
       "[{'review_0': {'input.txt': 'Thi is the test ticket to track for verifying migration changes'},\n",
       "  'review_1': {'input.txt': 'Caller needed assistance with gaining access to her Provider Relief Portal.'},\n",
       "  'review_2': {'input.txt': 'User calling stating they are not able to request a extension, because it has another one pending. But user stated the extension that is pending was already approved'},\n",
       "  'review_3': {'input.txt': 'Hello Cara, \\n\\n*Second Notice*\\n\\nI want to confirm that you received the previous communication sent by our development team and the issue is resolved to your satisfaction.\\n\\nPlease confirm and let me know if this ticket can be closed.\\n\\nThank you \\nAndro F. \\nTier II Support'},\n",
       "  'review_4': {'input.txt': 'User stated they are trying to complete a PA for Carryover but they do not have a budget to select'},\n",
       "  'review_5': {'input.txt': \"Good afternoon!\\n\\nMy name is Jasmin Fosheim. I'm an economic developer and grant writer in Hettinger, North Dakota.\\n \\n\\nI'm reaching out because I'm working with a small business here in Hettinger who provides in-home physical therapy to a large region within and beyond Hettinger. This service has been vital to our community, especially in light of the COVID-19 pandemic and the inability of older clients to travel. They are running into financial hardship, however, because of the number of windshield hours required to reach their clients. Although they can get comp-ed for mileage, their windshield time is not billable.\\n \\n\\nThat said, they are looking for any support there might be for this specific area in which they are spending too much time and money with little return. Is there any chance you know of any programs they might be eligible for or organizations that might be able to provide support for this business model?\\n\\nThanks in advance for your time. Take care, Jasmin.\"},\n",
       "  'review_6': {'input.txt': 'User calling stating they are trying to submit a Rebudgeting PA for years 1,2,3 and 4 of the grant but only see the option for the current year and wanted to know why.'},\n",
       "  'review_7': {'input.txt': \"Good morning,\\n\\nI am trying to submit an EHB task for Grant Number C8DCS29777 due 1/6/2021 but I don't seem to have the submit button available on my end. Kindly advise. \\n\\nThank you,\\nRaquel Madrigal\"},\n",
       "  'review_8': {'input.txt': 'Caller was a hrsa PO who said she was getting a uds error message for multiple'},\n",
       "  'review_9': {'input.txt': 'User wanted to get in contact with RW support, user is a recipient of RW assistance'},\n",
       "  'review_10': {'input.txt': 'Angela Stokes is trying to sign 6 H80CS24160-09-14, however, when she tries to sign, she is receiving the unexpected error message. The error message is attached. Please have DMI investigate and resolve.'},\n",
       "  'review_11': {'input.txt': 'User needed assistance with password reset'},\n",
       "  'review_12': {'input.txt': 'David called in requesting assistance with accessing the RSR to make changes to an RSR that has been submitted'}}]"
      ]
     },
     "execution_count": 16,
     "metadata": {},
     "output_type": "execute_result"
    }
   ],
   "source": [
    "sources_list"
   ]
  },
  {
   "cell_type": "code",
   "execution_count": null,
   "id": "e395133f-d823-451b-830f-31bfe954fcb9",
   "metadata": {},
   "outputs": [],
   "source": [
    "for i in range(len(dataframe_list)):\n",
    "    sources = {\"review_{}\".format(i): {\"input.txt\": review} for i, review in enumerate(text_cleaned)}"
   ]
  },
  {
   "cell_type": "code",
   "execution_count": 21,
   "id": "c3bafa7e-5a0a-4310-ad17-1518a15f2a64",
   "metadata": {},
   "outputs": [
    {
     "name": "stdout",
     "output_type": "stream",
     "text": [
      "Thi is the test ticket to track for verifying migration changes\n",
      "the grantee is submitting an RSR report and does not have access to the report\n",
      "Matt called in from Patterson Dental  ...trying to get a list of FQHC lookalike Dental Health facilities by State he could not locate this information on the Find a Healthcenter link on the HRSA website.\n",
      "Somehow the NA module of E13 HPSL Pharmacy generates a wrong grant number for Massachusetts University. The system shows its grant number as E4CHP32084 while the correct number should be E13HP21726 (please see the screenshot below for more detail). Please take a look at the issue and fix it ASAP so we can move forward with the process.\n",
      "Caller needed assistance with creating EHB account\n",
      "Please have DMI delete 6 H80CS04212-16-10  and reopen the related CIS request in Nicole Turner's queue.\n",
      "Caller had questions related to the provider relief fund\n",
      "User had questions related to an FTCA application\n",
      "While on vacation my password expired and I was unable to change it. Odd thing was I though I had changed it just a few weeks before.  Do I need to create a new account?\n",
      "User called in with questions related to the provider relief fund\n"
     ]
    }
   ],
   "source": [
    "for each_dataframe in dataframe_list:\n",
    "    for each_record in each_dataframe.items():\n",
    "        each_record[1]\n",
    "        break"
   ]
  },
  {
   "cell_type": "code",
   "execution_count": null,
   "id": "d05c4ff1-a536-4e3b-88b7-0aefc472ffd4",
   "metadata": {},
   "outputs": [],
   "source": [
    "sources = {\"review_{}\".format(i): {\"input.txt\": review} for i, review in enumerate(text_cleaned)}"
   ]
  },
  {
   "cell_type": "code",
   "execution_count": null,
   "id": "c1a4b936-c777-4980-a944-7f80addfa1a6",
   "metadata": {},
   "outputs": [],
   "source": []
  },
  {
   "cell_type": "code",
   "execution_count": 12,
   "id": "1fcfe703-b699-4d19-a501-4655236a0bcc",
   "metadata": {},
   "outputs": [
    {
     "name": "stdout",
     "output_type": "stream",
     "text": [
      "Thi is the test ticket to track for verifying migration changes\n"
     ]
    }
   ],
   "source": [
    "for item in dataframe_list[0].items():\n",
    "    print(item[1])\n",
    "    break"
   ]
  },
  {
   "cell_type": "code",
   "execution_count": 22,
   "id": "fd311daa-7c35-4ad6-bae4-dc8a394ec773",
   "metadata": {},
   "outputs": [],
   "source": [
    "dataframe_list = []\n",
    "for i,chunk in enumerate(pd.read_csv('batch_records.csv',\\\n",
    "                                     chunksize=500)):\n",
    "    dataframe_list.append(chunk)\n",
    "    #print(chunk['Description'][:10])\n",
    "    #chunk.to_csv('chunkcsv/chunk{}.csv'.format(i), index=False)"
   ]
  },
  {
   "cell_type": "code",
   "execution_count": 17,
   "id": "f3f2e002-9a19-4858-a030-470e28f15d38",
   "metadata": {},
   "outputs": [],
   "source": [
    "# |\n",
    "        #sources = {\"review_{}\".format(i): {\"input.txt\": review} for i, review in enumerate(text_cleaned)}\n",
    " \n",
    "    \n",
    "    "
   ]
  },
  {
   "cell_type": "code",
   "execution_count": null,
   "id": "8171a268-281c-4699-917c-5a278a87b55f",
   "metadata": {},
   "outputs": [],
   "source": []
  },
  {
   "cell_type": "code",
   "execution_count": null,
   "id": "8fa3ecbb-323f-4ca5-b819-7a3098faf935",
   "metadata": {},
   "outputs": [],
   "source": []
  },
  {
   "cell_type": "code",
   "execution_count": null,
   "id": "096bdf1c-824f-4981-a8bb-7c8b53fc78fd",
   "metadata": {},
   "outputs": [],
   "source": [
    "sources = {\"review_{}\".format(i): {\"input.txt\": review} for i, review in enumerate(text_cleaned)}"
   ]
  },
  {
   "cell_type": "code",
   "execution_count": null,
   "id": "506c2820-60c7-4e00-8803-382424530ff4",
   "metadata": {},
   "outputs": [],
   "source": []
  },
  {
   "cell_type": "code",
   "execution_count": null,
   "id": "702fc23d-9ef5-4039-9ecb-ac23a66a5be5",
   "metadata": {},
   "outputs": [],
   "source": []
  },
  {
   "cell_type": "code",
   "execution_count": null,
   "id": "4bc16110-8ed4-41e9-b517-e806372d8cad",
   "metadata": {},
   "outputs": [],
   "source": []
  },
  {
   "cell_type": "code",
   "execution_count": null,
   "id": "4fff55dc-b127-4962-9e60-1a9876d36154",
   "metadata": {},
   "outputs": [],
   "source": [
    "with open(\"test.ft.txt\", \"r\", encoding=\"utf-8\") as f:\n",
    "    text = f.readlines()[:500] # extract first 500\n",
    "\n",
    "# clean reviews before feeding to model\n",
    "text_cleaned = [t.split(\"__label__\")[-1][2:].replace(\"\\n\", \"\") for t in text]\n",
    "sources = {\"review_{}\".format(i): {\"input.txt\": review} for i, review in enumerate(text_cleaned)}"
   ]
  },
  {
   "cell_type": "code",
   "execution_count": null,
   "id": "a2d134b9-d58b-42e7-a852-04a53b86dd5b",
   "metadata": {},
   "outputs": [],
   "source": [
    "def get_model_output(model_identifier, model_version, data_sources, explain=False):\n",
    "    \"\"\"\n",
    "    Args:\n",
    "        model_identifier: model identifier (string)\n",
    "        model_version: model version (string)\n",
    "        data_sources: dictionary with the appropriate filename --> local file key-value pairs\n",
    "        explain: boolean variable, defaults to False. If true, model will return explainable result\n",
    "    \"\"\"\n",
    "    job = client.jobs.submit_text(model_identifier, model_version, data_sources, explain)\n",
    "    result = client.results.block_until_complete(job, timeout=None)        \n",
    "    return result"
   ]
  },
  {
   "cell_type": "code",
   "execution_count": null,
   "id": "47a97c1f-3898-4e75-98b8-c0847b3c55b1",
   "metadata": {},
   "outputs": [],
   "source": [
    "model_results = get_model_output(MODEL_ID, MODEL_VERSION, sources, explain=False)\n",
    "first_review_results = model_results[\"results\"][\"review_0\"][\"results.json\"][\"data\"][\"result\"]\n",
    "pprint(first_review_results)"
   ]
  },
  {
   "cell_type": "code",
   "execution_count": 12,
   "id": "cdfda0eb-f6a7-41ee-8ba2-8e796c3cd874",
   "metadata": {},
   "outputs": [],
   "source": [
    "def read_csv(file):\n",
    "    df = pd.read_csv(file)\n",
    "    df= df['Description']\n",
    "    return df\n",
    "    "
   ]
  },
  {
   "cell_type": "code",
   "execution_count": 13,
   "id": "e29440de-6c8d-4602-a29a-9f02a1eb59ed",
   "metadata": {},
   "outputs": [],
   "source": [
    "def chunk_csv(file):\n",
    "    dataframe_list = []\n",
    "    for i,chunk in enumerate(pd.read_csv(file,\\\n",
    "                                         chunksize=10)):\n",
    "        chunk = chunk['Description']\n",
    "        dataframe_list.append(chunk)\n",
    "    return dataframe_list\n",
    "\n",
    "    "
   ]
  },
  {
   "cell_type": "code",
   "execution_count": 14,
   "id": "d1480af0-40f1-44f4-b278-267df0770598",
   "metadata": {},
   "outputs": [],
   "source": [
    "def modzy_input_format_text(dataframe_list):\n",
    "    sources_list = []\n",
    "    for i in range(len(dataframe_list)):\n",
    "        sources = {\"review_{}\".format(i): {\"input.txt\": review} for i, review in enumerate(dataframe_list[i])}\n",
    "        sources_list.append(sources)\n",
    "    return sources_list"
   ]
  },
  {
   "cell_type": "code",
   "execution_count": 15,
   "id": "92afef53-1bc9-4267-bea8-8ddbeb7509e9",
   "metadata": {},
   "outputs": [],
   "source": [
    "dataframe_list = chunk_csv('batch_records_latest1.csv')"
   ]
  },
  {
   "cell_type": "code",
   "execution_count": 16,
   "id": "5a9e77ba-7cb0-4bc2-9371-38d196f63244",
   "metadata": {},
   "outputs": [],
   "source": [
    "source_list = modzy_input_format_text(dataframe_list)\n"
   ]
  },
  {
   "cell_type": "code",
   "execution_count": 17,
   "id": "94710004-bb2b-423b-bf7c-6a0823cd72c6",
   "metadata": {},
   "outputs": [
    {
     "data": {
      "text/plain": [
       "2"
      ]
     },
     "execution_count": 17,
     "metadata": {},
     "output_type": "execute_result"
    }
   ],
   "source": [
    "len(source_list)"
   ]
  },
  {
   "cell_type": "code",
   "execution_count": 18,
   "id": "797959ec-07c0-424a-b5b9-97e5406c143e",
   "metadata": {},
   "outputs": [
    {
     "data": {
      "text/plain": [
       "[{'review_0': {'input.txt': 'Thi is the test ticket to track for verifying migration changes'},\n",
       "  'review_1': {'input.txt': 'Caller needed assistance with gaining access to her Provider Relief Portal.'},\n",
       "  'review_2': {'input.txt': 'User calling stating they are not able to request a extension, because it has another one pending. But user stated the extension that is pending was already approved'},\n",
       "  'review_3': {'input.txt': 'Hello Cara, \\n\\n*Second Notice*\\n\\nI want to confirm that you received the previous communication sent by our development team and the issue is resolved to your satisfaction.\\n\\nPlease confirm and let me know if this ticket can be closed.\\n\\nThank you \\nAndro F. \\nTier II Support'},\n",
       "  'review_4': {'input.txt': 'User stated they are trying to complete a PA for Carryover but they do not have a budget to select'},\n",
       "  'review_5': {'input.txt': \"Good afternoon!\\n\\nMy name is Jasmin Fosheim. I'm an economic developer and grant writer in Hettinger, North Dakota.\\n \\n\\nI'm reaching out because I'm working with a small business here in Hettinger who provides in-home physical therapy to a large region within and beyond Hettinger. This service has been vital to our community, especially in light of the COVID-19 pandemic and the inability of older clients to travel. They are running into financial hardship, however, because of the number of windshield hours required to reach their clients. Although they can get comp-ed for mileage, their windshield time is not billable.\\n \\n\\nThat said, they are looking for any support there might be for this specific area in which they are spending too much time and money with little return. Is there any chance you know of any programs they might be eligible for or organizations that might be able to provide support for this business model?\\n\\nThanks in advance for your time. Take care, Jasmin.\"},\n",
       "  'review_6': {'input.txt': 'User calling stating they are trying to submit a Rebudgeting PA for years 1,2,3 and 4 of the grant but only see the option for the current year and wanted to know why.'},\n",
       "  'review_7': {'input.txt': \"Good morning,\\n\\nI am trying to submit an EHB task for Grant Number C8DCS29777 due 1/6/2021 but I don't seem to have the submit button available on my end. Kindly advise. \\n\\nThank you,\\nRaquel Madrigal\"},\n",
       "  'review_8': {'input.txt': 'Caller was a hrsa PO who said she was getting a uds error message for multiple'},\n",
       "  'review_9': {'input.txt': 'User wanted to get in contact with RW support, user is a recipient of RW assistance'}},\n",
       " {'review_0': {'input.txt': 'Angela Stokes is trying to sign 6 H80CS24160-09-14, however, when she tries to sign, she is receiving the unexpected error message. The error message is attached. Please have DMI investigate and resolve.'},\n",
       "  'review_1': {'input.txt': 'User needed assistance with password reset'},\n",
       "  'review_2': {'input.txt': 'David called in requesting assistance with accessing the RSR to make changes to an RSR that has been submitted'},\n",
       "  'review_3': {'input.txt': 'Caller needed assistance with terminating session'},\n",
       "  'review_4': {'input.txt': 'User called for assistance with the Nurse Scholarship Program'},\n",
       "  'review_5': {'input.txt': 'User stated that he called ams due to not being able to log into the EHB and was then told to call us'},\n",
       "  'review_6': {'input.txt': 'User wanted to know how to delete a file uploaded in their NCC report'}}]"
      ]
     },
     "execution_count": 18,
     "metadata": {},
     "output_type": "execute_result"
    }
   ],
   "source": [
    "source_list"
   ]
  },
  {
   "cell_type": "code",
   "execution_count": 15,
   "id": "28151de7-d832-49fe-a1b0-7987f214f018",
   "metadata": {},
   "outputs": [],
   "source": [
    "#source_list[0]"
   ]
  },
  {
   "cell_type": "code",
   "execution_count": null,
   "id": "20bc5088-6d21-4fd5-94b5-99a5a9948ccb",
   "metadata": {},
   "outputs": [],
   "source": []
  },
  {
   "cell_type": "code",
   "execution_count": 2,
   "id": "8300c828-f08d-4e4d-80bd-98c9298a1069",
   "metadata": {},
   "outputs": [],
   "source": [
    "def get_model_output(model_identifier, model_version, data_sources, explain=False):\n",
    "    \"\"\"\n",
    "    Args:\n",
    "        model_identifier: model identifier (string)\n",
    "        model_version: model version (string)\n",
    "        data_sources: dictionary with the appropriate filename --> local file key-value pairs\n",
    "        explain: boolean variable, defaults to False. If true, model will return explainable result\n",
    "    \"\"\"\n",
    "    job = client.jobs.submit_text(model_identifier, model_version, data_sources, explain)\n",
    "    result = client.results.block_until_complete(job, timeout=None)        \n",
    "    return result"
   ]
  },
  {
   "cell_type": "code",
   "execution_count": 3,
   "id": "f7f9c572-cd4f-42db-b93a-b1f6666305f3",
   "metadata": {},
   "outputs": [
    {
     "ename": "NameError",
     "evalue": "name 'source_list' is not defined",
     "output_type": "error",
     "traceback": [
      "\u001b[1;31m---------------------------------------------------------------------------\u001b[0m",
      "\u001b[1;31mNameError\u001b[0m                                 Traceback (most recent call last)",
      "Cell \u001b[1;32mIn [3], line 2\u001b[0m\n\u001b[0;32m      1\u001b[0m consolidated_result \u001b[38;5;241m=\u001b[39m []\n\u001b[1;32m----> 2\u001b[0m \u001b[38;5;28;01mfor\u001b[39;00m each_source \u001b[38;5;129;01min\u001b[39;00m \u001b[43msource_list\u001b[49m:\n\u001b[0;32m      3\u001b[0m     result \u001b[38;5;241m=\u001b[39m get_model_output(\u001b[38;5;124m\"\u001b[39m\u001b[38;5;124mygzfeq5lqg\u001b[39m\u001b[38;5;124m\"\u001b[39m,\u001b[38;5;124m\"\u001b[39m\u001b[38;5;124m1.0.0\u001b[39m\u001b[38;5;124m\"\u001b[39m,each_source,explain\u001b[38;5;241m=\u001b[39m\u001b[38;5;28;01mTrue\u001b[39;00m)\n\u001b[0;32m      4\u001b[0m     consolidated_result\u001b[38;5;241m.\u001b[39mappend(result)\n",
      "\u001b[1;31mNameError\u001b[0m: name 'source_list' is not defined"
     ]
    }
   ],
   "source": [
    "consolidated_result = []\n",
    "for each_source in source_list:\n",
    "    result = get_model_output(\"ygzfeq5lqg\",\"1.0.0\",each_source,explain=True)\n",
    "    consolidated_result.append(result)"
   ]
  },
  {
   "cell_type": "code",
   "execution_count": null,
   "id": "b81bfe77-7c97-49ec-8d78-6454d7a32a82",
   "metadata": {},
   "outputs": [],
   "source": []
  }
 ],
 "metadata": {
  "kernelspec": {
   "display_name": "hrsaintentenv",
   "language": "python",
   "name": "hrsaintentenv"
  },
  "language_info": {
   "codemirror_mode": {
    "name": "ipython",
    "version": 3
   },
   "file_extension": ".py",
   "mimetype": "text/x-python",
   "name": "python",
   "nbconvert_exporter": "python",
   "pygments_lexer": "ipython3",
   "version": "3.9.9"
  }
 },
 "nbformat": 4,
 "nbformat_minor": 5
}
