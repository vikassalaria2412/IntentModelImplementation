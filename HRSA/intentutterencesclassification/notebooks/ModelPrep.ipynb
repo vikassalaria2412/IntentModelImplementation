{
 "cells": [
  {
   "cell_type": "code",
   "execution_count": 2,
   "id": "04a2c905-c4c8-4b2d-b8c0-35294ec5f93c",
   "metadata": {},
   "outputs": [],
   "source": [
    "import os\n",
    "#import shutil\n",
    "import pandas as pd\n",
    "import gradio as gr\n",
    "import tensorflow as tf\n",
    "import tensorflow_hub as hub\n",
    "import tensorflow_text as text\n",
    "#import seaborn as sns\n",
    "from pylab import rcParams\n",
    "\n",
    "import matplotlib.pyplot as plt\n",
    "tf.get_logger().setLevel('ERROR')\n",
    "\n",
    "#sns.set(style='whitegrid', palette='muted', font_scale=1.2)\n",
    "HAPPY_COLORS_PALETTE = [\"#01BEFE\", \"#FFDD00\", \"#FF7D00\", \"#FF006D\", \"#ADFF02\", \"#8F00FF\"]\n",
    "#sns.set_palette(sns.color_palette(HAPPY_COLORS_PALETTE))\n",
    "rcParams['figure.figsize'] = 12, 8\n",
    "import warnings\n",
    "warnings.filterwarnings(\"ignore\")\n",
    "from sklearn.model_selection import train_test_split\n",
    "from tensorflow import keras"
   ]
  },
  {
   "cell_type": "code",
   "execution_count": 3,
   "id": "7b7c3e9a-c492-4c64-a8e2-803e2b6fef67",
   "metadata": {},
   "outputs": [],
   "source": [
    "#!pip install sklearn"
   ]
  },
  {
   "cell_type": "code",
   "execution_count": 4,
   "id": "0f73eec1-e8a6-4017-af6d-585a0e5aa52e",
   "metadata": {},
   "outputs": [],
   "source": [
    "#!pip install gradio"
   ]
  },
  {
   "cell_type": "code",
   "execution_count": 5,
   "id": "dba38dba-7a52-4ae3-bc40-31d5f5adae40",
   "metadata": {},
   "outputs": [],
   "source": [
    "#!pip install gradio"
   ]
  },
  {
   "cell_type": "code",
   "execution_count": 6,
   "id": "9d2d91d3-237b-4842-bf90-4e064e71a75f",
   "metadata": {},
   "outputs": [],
   "source": [
    "traindf = pd.read_csv('train.csv',encoding = 'utf-8')\n",
    "testdf = pd.read_csv('test.csv',encoding = 'utf-8')\n",
    "validdf = pd.read_csv('validation.csv',encoding = 'utf-8')"
   ]
  },
  {
   "cell_type": "code",
   "execution_count": 7,
   "id": "5adbc58c-8dfc-4df3-ada3-abf4ff08228a",
   "metadata": {},
   "outputs": [
    {
     "data": {
      "text/html": [
       "<div>\n",
       "<style scoped>\n",
       "    .dataframe tbody tr th:only-of-type {\n",
       "        vertical-align: middle;\n",
       "    }\n",
       "\n",
       "    .dataframe tbody tr th {\n",
       "        vertical-align: top;\n",
       "    }\n",
       "\n",
       "    .dataframe thead th {\n",
       "        text-align: right;\n",
       "    }\n",
       "</style>\n",
       "<table border=\"1\" class=\"dataframe\">\n",
       "  <thead>\n",
       "    <tr style=\"text-align: right;\">\n",
       "      <th></th>\n",
       "      <th>text</th>\n",
       "      <th>intent</th>\n",
       "    </tr>\n",
       "  </thead>\n",
       "  <tbody>\n",
       "    <tr>\n",
       "      <th>0</th>\n",
       "      <td>can you help me to create an account</td>\n",
       "      <td>CreateAccount</td>\n",
       "    </tr>\n",
       "    <tr>\n",
       "      <th>1</th>\n",
       "      <td>User call to check claims status</td>\n",
       "      <td>CheckStatus</td>\n",
       "    </tr>\n",
       "    <tr>\n",
       "      <th>2</th>\n",
       "      <td>Caller had questions about the provider relief...</td>\n",
       "      <td>CallForInformation</td>\n",
       "    </tr>\n",
       "    <tr>\n",
       "      <th>3</th>\n",
       "      <td>have their EHB account enabled and password reset</td>\n",
       "      <td>UnlockAccount</td>\n",
       "    </tr>\n",
       "    <tr>\n",
       "      <th>4</th>\n",
       "      <td>I need assistance with creating an EHB account</td>\n",
       "      <td>CreateEHBAccount</td>\n",
       "    </tr>\n",
       "  </tbody>\n",
       "</table>\n",
       "</div>"
      ],
      "text/plain": [
       "                                                text              intent\n",
       "0               can you help me to create an account       CreateAccount\n",
       "1                   User call to check claims status         CheckStatus\n",
       "2  Caller had questions about the provider relief...  CallForInformation\n",
       "3  have their EHB account enabled and password reset       UnlockAccount\n",
       "4     I need assistance with creating an EHB account    CreateEHBAccount"
      ]
     },
     "execution_count": 7,
     "metadata": {},
     "output_type": "execute_result"
    }
   ],
   "source": [
    "traindf.head()"
   ]
  },
  {
   "cell_type": "code",
   "execution_count": 9,
   "id": "357dd47c-31bb-4e7f-aca9-aad10b8e277f",
   "metadata": {},
   "outputs": [],
   "source": [
    "trainfeatures = traindf.copy()\n",
    "trainlabels = trainfeatures.pop('intent')"
   ]
  },
  {
   "cell_type": "code",
   "execution_count": 10,
   "id": "5cf27250-d3bc-4565-a8e7-3805337e78c0",
   "metadata": {},
   "outputs": [
    {
     "data": {
      "text/plain": [
       "0           CreateAccount\n",
       "1             CheckStatus\n",
       "2      CallForInformation\n",
       "3           UnlockAccount\n",
       "4        CreateEHBAccount\n",
       "              ...        \n",
       "588           CheckStatus\n",
       "589         FileComplaint\n",
       "590      FindHealthCenter\n",
       "591           MakeChanges\n",
       "592         AccessAccount\n",
       "Name: intent, Length: 593, dtype: object"
      ]
     },
     "execution_count": 10,
     "metadata": {},
     "output_type": "execute_result"
    }
   ],
   "source": [
    "trainlabels"
   ]
  },
  {
   "cell_type": "code",
   "execution_count": 11,
   "id": "05ec804d-240d-4359-9e29-28d3e3962b2e",
   "metadata": {},
   "outputs": [],
   "source": [
    "trainfeatures=trainfeatures.values"
   ]
  },
  {
   "cell_type": "code",
   "execution_count": 13,
   "id": "64a43f27-fcbe-479a-9600-98912a82bc89",
   "metadata": {},
   "outputs": [],
   "source": [
    "#trainfeatures"
   ]
  },
  {
   "cell_type": "code",
   "execution_count": 14,
   "id": "0384371d-ed96-4042-9743-a716164c07f8",
   "metadata": {},
   "outputs": [],
   "source": [
    "from sklearn.preprocessing import LabelBinarizer"
   ]
  },
  {
   "cell_type": "code",
   "execution_count": 15,
   "id": "f4598269-f704-419a-b4b3-9106d968ff05",
   "metadata": {},
   "outputs": [],
   "source": [
    "binarizer = LabelBinarizer()\n",
    "trainlabels = binarizer.fit_transform(trainlabels.values)"
   ]
  },
  {
   "cell_type": "code",
   "execution_count": 17,
   "id": "972c00cf-e9eb-4a0a-8c15-29869a746dc9",
   "metadata": {},
   "outputs": [
    {
     "data": {
      "text/plain": [
       "array([[0, 0, 0, ..., 0, 0, 0],\n",
       "       [0, 0, 0, ..., 0, 0, 0],\n",
       "       [0, 0, 0, ..., 0, 0, 0],\n",
       "       ...,\n",
       "       [0, 0, 0, ..., 0, 0, 0],\n",
       "       [0, 0, 0, ..., 0, 0, 0],\n",
       "       [1, 0, 0, ..., 0, 0, 0]])"
      ]
     },
     "execution_count": 17,
     "metadata": {},
     "output_type": "execute_result"
    }
   ],
   "source": [
    "trainlabels"
   ]
  },
  {
   "cell_type": "code",
   "execution_count": 18,
   "id": "63811a16-a0ff-49b9-b31d-6bc397a6a3cf",
   "metadata": {},
   "outputs": [
    {
     "data": {
      "text/plain": [
       "(593, 33)"
      ]
     },
     "execution_count": 18,
     "metadata": {},
     "output_type": "execute_result"
    }
   ],
   "source": [
    "trainlabels.shape"
   ]
  },
  {
   "cell_type": "code",
   "execution_count": 19,
   "id": "68dc3787-5811-4fd8-9e98-389cbcbc2546",
   "metadata": {},
   "outputs": [],
   "source": [
    "testfeatures=testdf.copy()\n",
    "testlabels=testfeatures.pop(\"intent\")\n",
    "validfeatures=validdf.copy()\n",
    "validlabels=validfeatures.pop(\"intent\")\n",
    "\n",
    "testfeatures=testfeatures.values\n",
    "validfeatures=validfeatures.values\n",
    "\n",
    "testlabels=binarizer.transform(testlabels.values)\n",
    "validlabels=binarizer.transform(validlabels.values)"
   ]
  },
  {
   "cell_type": "code",
   "execution_count": 15,
   "id": "e8c7d354-dace-431e-9d77-e0cffda1b5aa",
   "metadata": {},
   "outputs": [
    {
     "name": "stdout",
     "output_type": "stream",
     "text": [
      "BERT model selected           : https://tfhub.dev/tensorflow/small_bert/bert_en_uncased_L-8_H-512_A-8/1\n",
      "Preprocess model auto-selected: https://tfhub.dev/tensorflow/bert_en_uncased_preprocess/2\n"
     ]
    }
   ],
   "source": [
    "bert_model_name = 'small_bert/bert_en_uncased_L-8_H-512_A-8' \n",
    "map_name_to_handle = {\n",
    "    'bert_en_uncased_L-12_H-768_A-12':\n",
    "        'https://tfhub.dev/tensorflow/bert_en_uncased_L-12_H-768_A-12/3',\n",
    "    'bert_en_cased_L-12_H-768_A-12':\n",
    "        'https://tfhub.dev/tensorflow/bert_en_cased_L-12_H-768_A-12/3',\n",
    "    'bert_multi_cased_L-12_H-768_A-12':\n",
    "        'https://tfhub.dev/tensorflow/bert_multi_cased_L-12_H-768_A-12/3',\n",
    "    'small_bert/bert_en_uncased_L-2_H-128_A-2':\n",
    "        'https://tfhub.dev/tensorflow/small_bert/bert_en_uncased_L-2_H-128_A-2/1',\n",
    "    'small_bert/bert_en_uncased_L-2_H-256_A-4':\n",
    "        'https://tfhub.dev/tensorflow/small_bert/bert_en_uncased_L-2_H-256_A-4/1',\n",
    "    'small_bert/bert_en_uncased_L-2_H-512_A-8':\n",
    "        'https://tfhub.dev/tensorflow/small_bert/bert_en_uncased_L-2_H-512_A-8/1',\n",
    "    'small_bert/bert_en_uncased_L-2_H-768_A-12':\n",
    "        'https://tfhub.dev/tensorflow/small_bert/bert_en_uncased_L-2_H-768_A-12/1',\n",
    "    'small_bert/bert_en_uncased_L-4_H-128_A-2':\n",
    "        'https://tfhub.dev/tensorflow/small_bert/bert_en_uncased_L-4_H-128_A-2/1',\n",
    "    'small_bert/bert_en_uncased_L-4_H-256_A-4':\n",
    "        'https://tfhub.dev/tensorflow/small_bert/bert_en_uncased_L-4_H-256_A-4/1',\n",
    "    'small_bert/bert_en_uncased_L-4_H-512_A-8':\n",
    "        'https://tfhub.dev/tensorflow/small_bert/bert_en_uncased_L-4_H-512_A-8/1',\n",
    "    'small_bert/bert_en_uncased_L-4_H-768_A-12':\n",
    "        'https://tfhub.dev/tensorflow/small_bert/bert_en_uncased_L-4_H-768_A-12/1',\n",
    "    'small_bert/bert_en_uncased_L-6_H-128_A-2':\n",
    "        'https://tfhub.dev/tensorflow/small_bert/bert_en_uncased_L-6_H-128_A-2/1',\n",
    "    'small_bert/bert_en_uncased_L-6_H-256_A-4':\n",
    "        'https://tfhub.dev/tensorflow/small_bert/bert_en_uncased_L-6_H-256_A-4/1',\n",
    "    'small_bert/bert_en_uncased_L-6_H-512_A-8':\n",
    "        'https://tfhub.dev/tensorflow/small_bert/bert_en_uncased_L-6_H-512_A-8/1',\n",
    "    'small_bert/bert_en_uncased_L-6_H-768_A-12':\n",
    "        'https://tfhub.dev/tensorflow/small_bert/bert_en_uncased_L-6_H-768_A-12/1',\n",
    "    'small_bert/bert_en_uncased_L-8_H-128_A-2':\n",
    "        'https://tfhub.dev/tensorflow/small_bert/bert_en_uncased_L-8_H-128_A-2/1',\n",
    "    'small_bert/bert_en_uncased_L-8_H-256_A-4':\n",
    "        'https://tfhub.dev/tensorflow/small_bert/bert_en_uncased_L-8_H-256_A-4/1',\n",
    "    'small_bert/bert_en_uncased_L-8_H-512_A-8':\n",
    "        'https://tfhub.dev/tensorflow/small_bert/bert_en_uncased_L-8_H-512_A-8/1',\n",
    "    'small_bert/bert_en_uncased_L-8_H-768_A-12':\n",
    "        'https://tfhub.dev/tensorflow/small_bert/bert_en_uncased_L-8_H-768_A-12/1',\n",
    "    'small_bert/bert_en_uncased_L-10_H-128_A-2':\n",
    "        'https://tfhub.dev/tensorflow/small_bert/bert_en_uncased_L-10_H-128_A-2/1',\n",
    "    'small_bert/bert_en_uncased_L-10_H-256_A-4':\n",
    "        'https://tfhub.dev/tensorflow/small_bert/bert_en_uncased_L-10_H-256_A-4/1',\n",
    "    'small_bert/bert_en_uncased_L-10_H-512_A-8':\n",
    "        'https://tfhub.dev/tensorflow/small_bert/bert_en_uncased_L-10_H-512_A-8/1',\n",
    "    'small_bert/bert_en_uncased_L-10_H-768_A-12':\n",
    "        'https://tfhub.dev/tensorflow/small_bert/bert_en_uncased_L-10_H-768_A-12/1',\n",
    "    'small_bert/bert_en_uncased_L-12_H-128_A-2':\n",
    "        'https://tfhub.dev/tensorflow/small_bert/bert_en_uncased_L-12_H-128_A-2/1',\n",
    "    'small_bert/bert_en_uncased_L-12_H-256_A-4':\n",
    "        'https://tfhub.dev/tensorflow/small_bert/bert_en_uncased_L-12_H-256_A-4/1',\n",
    "    'small_bert/bert_en_uncased_L-12_H-512_A-8':\n",
    "        'https://tfhub.dev/tensorflow/small_bert/bert_en_uncased_L-12_H-512_A-8/1',\n",
    "    'small_bert/bert_en_uncased_L-12_H-768_A-12':\n",
    "        'https://tfhub.dev/tensorflow/small_bert/bert_en_uncased_L-12_H-768_A-12/1',\n",
    "    'albert_en_base':\n",
    "        'https://tfhub.dev/tensorflow/albert_en_base/2',\n",
    "    'electra_small':\n",
    "        'https://tfhub.dev/google/electra_small/2',\n",
    "    'electra_base':\n",
    "        'https://tfhub.dev/google/electra_base/2',\n",
    "    'experts_pubmed':\n",
    "        'https://tfhub.dev/google/experts/bert/pubmed/2',\n",
    "    'experts_wiki_books':\n",
    "        'https://tfhub.dev/google/experts/bert/wiki_books/2',\n",
    "    'talking-heads_base':\n",
    "        'https://tfhub.dev/tensorflow/talkheads_ggelu_bert_en_base/1',\n",
    "}\n",
    "\n",
    "map_model_to_preprocess = {\n",
    "    'bert_en_uncased_L-12_H-768_A-12':\n",
    "        'https://tfhub.dev/tensorflow/bert_en_uncased_preprocess/2',\n",
    "    'bert_en_cased_L-12_H-768_A-12':\n",
    "        'https://tfhub.dev/tensorflow/bert_en_cased_preprocess/2',\n",
    "    'small_bert/bert_en_uncased_L-2_H-128_A-2':\n",
    "        'https://tfhub.dev/tensorflow/bert_en_uncased_preprocess/2',\n",
    "    'small_bert/bert_en_uncased_L-2_H-256_A-4':\n",
    "        'https://tfhub.dev/tensorflow/bert_en_uncased_preprocess/2',\n",
    "    'small_bert/bert_en_uncased_L-2_H-512_A-8':\n",
    "        'https://tfhub.dev/tensorflow/bert_en_uncased_preprocess/2',\n",
    "    'small_bert/bert_en_uncased_L-2_H-768_A-12':\n",
    "        'https://tfhub.dev/tensorflow/bert_en_uncased_preprocess/2',\n",
    "    'small_bert/bert_en_uncased_L-4_H-128_A-2':\n",
    "        'https://tfhub.dev/tensorflow/bert_en_uncased_preprocess/2',\n",
    "    'small_bert/bert_en_uncased_L-4_H-256_A-4':\n",
    "        'https://tfhub.dev/tensorflow/bert_en_uncased_preprocess/2',\n",
    "    'small_bert/bert_en_uncased_L-4_H-512_A-8':\n",
    "        'https://tfhub.dev/tensorflow/bert_en_uncased_preprocess/2',\n",
    "    'small_bert/bert_en_uncased_L-4_H-768_A-12':\n",
    "        'https://tfhub.dev/tensorflow/bert_en_uncased_preprocess/2',\n",
    "    'small_bert/bert_en_uncased_L-6_H-128_A-2':\n",
    "        'https://tfhub.dev/tensorflow/bert_en_uncased_preprocess/2',\n",
    "    'small_bert/bert_en_uncased_L-6_H-256_A-4':\n",
    "        'https://tfhub.dev/tensorflow/bert_en_uncased_preprocess/2',\n",
    "    'small_bert/bert_en_uncased_L-6_H-512_A-8':\n",
    "        'https://tfhub.dev/tensorflow/bert_en_uncased_preprocess/2',\n",
    "    'small_bert/bert_en_uncased_L-6_H-768_A-12':\n",
    "        'https://tfhub.dev/tensorflow/bert_en_uncased_preprocess/2',\n",
    "    'small_bert/bert_en_uncased_L-8_H-128_A-2':\n",
    "        'https://tfhub.dev/tensorflow/bert_en_uncased_preprocess/2',\n",
    "    'small_bert/bert_en_uncased_L-8_H-256_A-4':\n",
    "        'https://tfhub.dev/tensorflow/bert_en_uncased_preprocess/2',\n",
    "    'small_bert/bert_en_uncased_L-8_H-512_A-8':\n",
    "        'https://tfhub.dev/tensorflow/bert_en_uncased_preprocess/2',\n",
    "    'small_bert/bert_en_uncased_L-8_H-768_A-12':\n",
    "        'https://tfhub.dev/tensorflow/bert_en_uncased_preprocess/2',\n",
    "    'small_bert/bert_en_uncased_L-10_H-128_A-2':\n",
    "        'https://tfhub.dev/tensorflow/bert_en_uncased_preprocess/2',\n",
    "    'small_bert/bert_en_uncased_L-10_H-256_A-4':\n",
    "        'https://tfhub.dev/tensorflow/bert_en_uncased_preprocess/2',\n",
    "    'small_bert/bert_en_uncased_L-10_H-512_A-8':\n",
    "        'https://tfhub.dev/tensorflow/bert_en_uncased_preprocess/2',\n",
    "    'small_bert/bert_en_uncased_L-10_H-768_A-12':\n",
    "        'https://tfhub.dev/tensorflow/bert_en_uncased_preprocess/2',\n",
    "    'small_bert/bert_en_uncased_L-12_H-128_A-2':\n",
    "        'https://tfhub.dev/tensorflow/bert_en_uncased_preprocess/2',\n",
    "    'small_bert/bert_en_uncased_L-12_H-256_A-4':\n",
    "        'https://tfhub.dev/tensorflow/bert_en_uncased_preprocess/2',\n",
    "    'small_bert/bert_en_uncased_L-12_H-512_A-8':\n",
    "        'https://tfhub.dev/tensorflow/bert_en_uncased_preprocess/2',\n",
    "    'small_bert/bert_en_uncased_L-12_H-768_A-12':\n",
    "        'https://tfhub.dev/tensorflow/bert_en_uncased_preprocess/2',\n",
    "    'bert_multi_cased_L-12_H-768_A-12':\n",
    "        'https://tfhub.dev/tensorflow/bert_multi_cased_preprocess/2',\n",
    "    'albert_en_base':\n",
    "        'https://tfhub.dev/tensorflow/albert_en_preprocess/2',\n",
    "    'electra_small':\n",
    "        'https://tfhub.dev/tensorflow/bert_en_uncased_preprocess/2',\n",
    "    'electra_base':\n",
    "        'https://tfhub.dev/tensorflow/bert_en_uncased_preprocess/2',\n",
    "    'experts_pubmed':\n",
    "        'https://tfhub.dev/tensorflow/bert_en_uncased_preprocess/2',\n",
    "    'experts_wiki_books':\n",
    "        'https://tfhub.dev/tensorflow/bert_en_uncased_preprocess/2',\n",
    "    'talking-heads_base':\n",
    "        'https://tfhub.dev/tensorflow/bert_en_uncased_preprocess/2',\n",
    "}\n",
    "\n",
    "tfhub_handle_encoder = map_name_to_handle[bert_model_name]\n",
    "tfhub_handle_preprocess = map_model_to_preprocess[bert_model_name]\n",
    "\n",
    "print(f'BERT model selected           : {tfhub_handle_encoder}')\n",
    "print(f'Preprocess model auto-selected: {tfhub_handle_preprocess}')"
   ]
  },
  {
   "cell_type": "code",
   "execution_count": 16,
   "id": "25d48b16-6b17-487c-9b58-0d83f6532948",
   "metadata": {},
   "outputs": [],
   "source": [
    "bert_preprocess_model = hub.KerasLayer(tfhub_handle_preprocess)"
   ]
  },
  {
   "cell_type": "code",
   "execution_count": 17,
   "id": "7df66222-1519-4645-bae5-580b318d1748",
   "metadata": {},
   "outputs": [
    {
     "data": {
      "text/plain": [
       "array(['can you help me to create an account'], dtype=object)"
      ]
     },
     "execution_count": 17,
     "metadata": {},
     "output_type": "execute_result"
    }
   ],
   "source": [
    "trainfeatures[0]"
   ]
  },
  {
   "cell_type": "code",
   "execution_count": 1,
   "id": "3f266ec9-e967-44d9-a877-90dc7e1fdd7f",
   "metadata": {},
   "outputs": [
    {
     "ename": "NameError",
     "evalue": "name 'trainfeatures' is not defined",
     "output_type": "error",
     "traceback": [
      "\u001b[1;31m---------------------------------------------------------------------------\u001b[0m",
      "\u001b[1;31mNameError\u001b[0m                                 Traceback (most recent call last)",
      "Cell \u001b[1;32mIn [1], line 1\u001b[0m\n\u001b[1;32m----> 1\u001b[0m text_test \u001b[38;5;241m=\u001b[39m \u001b[43mtrainfeatures\u001b[49m[\u001b[38;5;241m0\u001b[39m]\n\u001b[0;32m      2\u001b[0m text_preprocessed \u001b[38;5;241m=\u001b[39m bert_preprocess_model(text_test)\n\u001b[0;32m      4\u001b[0m \u001b[38;5;28mprint\u001b[39m(\u001b[38;5;124mf\u001b[39m\u001b[38;5;124m'\u001b[39m\u001b[38;5;124mKeys       : \u001b[39m\u001b[38;5;132;01m{\u001b[39;00m\u001b[38;5;28mlist\u001b[39m(text_preprocessed\u001b[38;5;241m.\u001b[39mkeys())\u001b[38;5;132;01m}\u001b[39;00m\u001b[38;5;124m'\u001b[39m)\n",
      "\u001b[1;31mNameError\u001b[0m: name 'trainfeatures' is not defined"
     ]
    }
   ],
   "source": [
    "text_test = trainfeatures[0]\n",
    "text_preprocessed = bert_preprocess_model(text_test)\n",
    "\n",
    "print(f'Keys       : {list(text_preprocessed.keys())}')\n",
    "print(f'Shape      : {text_preprocessed[\"input_word_ids\"].shape}')\n",
    "print(f'Word Ids   : {text_preprocessed[\"input_word_ids\"][0, :12]}')\n",
    "print(f'Input Mask : {text_preprocessed[\"input_mask\"][0, :12]}')\n",
    "print(f'Type Ids   : {text_preprocessed[\"input_type_ids\"][0, :12]}')"
   ]
  },
  {
   "cell_type": "code",
   "execution_count": 19,
   "id": "2b59c0cd-76fe-4438-8aa3-233c17a11730",
   "metadata": {},
   "outputs": [],
   "source": [
    "bert_model = hub.KerasLayer(tfhub_handle_encoder)"
   ]
  },
  {
   "cell_type": "code",
   "execution_count": 20,
   "id": "8e30e614-8b5a-4532-97d5-22878337e0fd",
   "metadata": {},
   "outputs": [
    {
     "name": "stdout",
     "output_type": "stream",
     "text": [
      "Loaded BERT: https://tfhub.dev/tensorflow/small_bert/bert_en_uncased_L-8_H-512_A-8/1\n",
      "Pooled Outputs Shape:(1, 512)\n",
      "Pooled Outputs Values:[-0.0216167  -0.04185808 -0.999985    0.2675273   0.8037594  -0.19578242\n",
      " -0.99088526 -0.24350508  0.31525406 -0.16903779 -0.78438044 -0.19907   ]\n",
      "Sequence Outputs Shape:(1, 128, 512)\n",
      "Sequence Outputs Values:[[-0.31405294 -0.01957725  1.5631087  ... -0.02379022 -0.12260876\n",
      "   0.74026775]\n",
      " [ 0.06647187  0.35380468  0.6203449  ...  0.01576915  0.85667586\n",
      "   0.48369995]\n",
      " [-0.90434897 -0.25116926  1.407662   ...  0.2007662  -0.84128666\n",
      "   0.44172603]\n",
      " ...\n",
      " [ 0.35363457  0.00938005  1.9383132  ...  0.02902699 -0.05458811\n",
      "   0.9358662 ]\n",
      " [ 0.02808828 -0.18320957  0.99557954 ...  0.28162864 -0.12516196\n",
      "   0.23036662]\n",
      " [ 0.0061673  -0.07437679  0.94025993 ...  0.30151168 -0.13263541\n",
      "   0.24854773]]\n"
     ]
    }
   ],
   "source": [
    "bert_results = bert_model(text_preprocessed)\n",
    "\n",
    "print(f'Loaded BERT: {tfhub_handle_encoder}')\n",
    "print(f'Pooled Outputs Shape:{bert_results[\"pooled_output\"].shape}')\n",
    "print(f'Pooled Outputs Values:{bert_results[\"pooled_output\"][0, :12]}')\n",
    "print(f'Sequence Outputs Shape:{bert_results[\"sequence_output\"].shape}')\n",
    "print(f'Sequence Outputs Values:{bert_results[\"sequence_output\"][0, :12]}')"
   ]
  },
  {
   "cell_type": "code",
   "execution_count": 21,
   "id": "8a8737a7-0164-46da-8a4f-634859d8cb4a",
   "metadata": {},
   "outputs": [
    {
     "data": {
      "text/plain": [
       "int"
      ]
     },
     "execution_count": 21,
     "metadata": {},
     "output_type": "execute_result"
    }
   ],
   "source": [
    "type(trainlabels.shape[1])"
   ]
  },
  {
   "cell_type": "code",
   "execution_count": 22,
   "id": "a3ef9970-2b9b-4a03-9e25-03274aa229ab",
   "metadata": {},
   "outputs": [],
   "source": [
    "def build_classifier_model():\n",
    "    text_input = tf.keras.layers.Input(shape=(), dtype=tf.string, name='text')\n",
    "    preprocessing_layer = hub.KerasLayer(tfhub_handle_preprocess, name='preprocessing')\n",
    "    encoder_inputs = preprocessing_layer(text_input)\n",
    "    encoder = hub.KerasLayer(tfhub_handle_encoder, trainable=True, name='BERT_encoder')\n",
    "    outputs = encoder(encoder_inputs)\n",
    "    net = outputs['pooled_output']\n",
    "    net = tf.keras.layers.Dropout(0.1)(net)\n",
    "    net = tf.keras.layers.Dense(trainlabels.shape[1], activation=None, name='classifier')(net)\n",
    "    return tf.keras.Model(text_input, net)"
   ]
  },
  {
   "cell_type": "code",
   "execution_count": 23,
   "id": "301e7c23-b5cb-4d5f-b674-cdc09493e7f8",
   "metadata": {},
   "outputs": [
    {
     "name": "stdout",
     "output_type": "stream",
     "text": [
      "tf.Tensor(\n",
      "[[0.05209855 0.01065828 0.09195076 0.01656543 0.01953142 0.0088785\n",
      "  0.01741078 0.00443179 0.0244157  0.01634551 0.03970407 0.02189673\n",
      "  0.00368175 0.03056744 0.02434217 0.0321109  0.01416053 0.02666217\n",
      "  0.01871175 0.01800307 0.03878236 0.08130637 0.02061501 0.025997\n",
      "  0.0739853  0.02573029 0.08293378 0.02238583 0.03295208 0.05127613\n",
      "  0.02206629 0.01199732 0.01784496]], shape=(1, 33), dtype=float32)\n"
     ]
    }
   ],
   "source": [
    "classifier_model = build_classifier_model()\n",
    "bert_raw_result = classifier_model(tf.constant(trainfeatures[0]))\n",
    "print(tf.keras.activations.softmax(bert_raw_result))"
   ]
  },
  {
   "cell_type": "code",
   "execution_count": 24,
   "id": "1bff64c8-d314-4cb2-9aea-500f6010d3fd",
   "metadata": {},
   "outputs": [
    {
     "name": "stdout",
     "output_type": "stream",
     "text": [
      "Model: \"model\"\n",
      "__________________________________________________________________________________________________\n",
      "Layer (type)                    Output Shape         Param #     Connected to                     \n",
      "==================================================================================================\n",
      "text (InputLayer)               [(None,)]            0                                            \n",
      "__________________________________________________________________________________________________\n",
      "preprocessing (KerasLayer)      {'input_type_ids': ( 0           text[0][0]                       \n",
      "__________________________________________________________________________________________________\n",
      "BERT_encoder (KerasLayer)       {'sequence_output':  41373185    preprocessing[0][0]              \n",
      "                                                                 preprocessing[0][1]              \n",
      "                                                                 preprocessing[0][2]              \n",
      "__________________________________________________________________________________________________\n",
      "dropout (Dropout)               (None, 512)          0           BERT_encoder[0][9]               \n",
      "__________________________________________________________________________________________________\n",
      "classifier (Dense)              (None, 33)           16929       dropout[0][0]                    \n",
      "==================================================================================================\n",
      "Total params: 41,390,114\n",
      "Trainable params: 41,390,113\n",
      "Non-trainable params: 1\n",
      "__________________________________________________________________________________________________\n"
     ]
    }
   ],
   "source": [
    "classifier_model.summary()"
   ]
  },
  {
   "cell_type": "code",
   "execution_count": 25,
   "id": "12775ca1-05fc-4ff6-ba55-05603c015d0c",
   "metadata": {},
   "outputs": [],
   "source": [
    "loss = tf.keras.losses.CategoricalCrossentropy(from_logits=True)\n",
    "metrics = tf.metrics.CategoricalAccuracy()"
   ]
  },
  {
   "cell_type": "code",
   "execution_count": 26,
   "id": "5b3c9648-9496-4f11-8641-4f4fe31d576b",
   "metadata": {},
   "outputs": [],
   "source": [
    "epochs=10\n",
    "optimizer=tf.keras.optimizers.Adam(1e-5)\n",
    "classifier_model.compile(optimizer=optimizer,\n",
    "                         loss=loss,\n",
    "                         metrics=metrics)"
   ]
  },
  {
   "cell_type": "code",
   "execution_count": 27,
   "id": "1d9edba6-584f-4de2-9cbd-a26878165b23",
   "metadata": {},
   "outputs": [],
   "source": [
    "checkpoint_path = \"training_1/cp.ckpt\"\n",
    "checkpoint_dir = os.path.dirname(checkpoint_path)"
   ]
  },
  {
   "cell_type": "code",
   "execution_count": 28,
   "id": "3edd9344-b5f3-493a-aed0-60cd9145712b",
   "metadata": {},
   "outputs": [],
   "source": [
    "cp_callback = tf.keras.callbacks.ModelCheckpoint(filepath=checkpoint_path,\n",
    "                                                 save_weights_only=True,\n",
    "                                                 verbose=1)"
   ]
  },
  {
   "cell_type": "code",
   "execution_count": 29,
   "id": "17f96028-e855-4b73-8d87-96087135770b",
   "metadata": {},
   "outputs": [
    {
     "name": "stdout",
     "output_type": "stream",
     "text": [
      "Training model with https://tfhub.dev/tensorflow/small_bert/bert_en_uncased_L-8_H-512_A-8/1\n",
      "Epoch 1/10\n",
      "19/19 [==============================] - 195s 9s/step - loss: 3.5556 - categorical_accuracy: 0.0489 - val_loss: 3.4866 - val_categorical_accuracy: 0.0000e+00\n",
      "\n",
      "Epoch 00001: saving model to training_1\\cp.ckpt\n",
      "Epoch 2/10\n",
      "19/19 [==============================] - 166s 9s/step - loss: 3.1966 - categorical_accuracy: 0.1164 - val_loss: 3.1557 - val_categorical_accuracy: 0.1000\n",
      "\n",
      "Epoch 00002: saving model to training_1\\cp.ckpt\n",
      "Epoch 3/10\n",
      "19/19 [==============================] - 176s 9s/step - loss: 2.8973 - categorical_accuracy: 0.2782 - val_loss: 3.0554 - val_categorical_accuracy: 0.2000\n",
      "\n",
      "Epoch 00003: saving model to training_1\\cp.ckpt\n",
      "Epoch 4/10\n",
      "19/19 [==============================] - 178s 9s/step - loss: 2.5900 - categorical_accuracy: 0.3828 - val_loss: 2.5637 - val_categorical_accuracy: 0.5000\n",
      "\n",
      "Epoch 00004: saving model to training_1\\cp.ckpt\n",
      "Epoch 5/10\n",
      "19/19 [==============================] - 189s 10s/step - loss: 2.1867 - categorical_accuracy: 0.5616 - val_loss: 2.1305 - val_categorical_accuracy: 0.5000\n",
      "\n",
      "Epoch 00005: saving model to training_1\\cp.ckpt\n",
      "Epoch 6/10\n",
      "19/19 [==============================] - 179s 9s/step - loss: 1.8322 - categorical_accuracy: 0.6931 - val_loss: 1.8638 - val_categorical_accuracy: 0.7000\n",
      "\n",
      "Epoch 00006: saving model to training_1\\cp.ckpt\n",
      "Epoch 7/10\n",
      "19/19 [==============================] - 179s 9s/step - loss: 1.4944 - categorical_accuracy: 0.7825 - val_loss: 1.5504 - val_categorical_accuracy: 0.7000\n",
      "\n",
      "Epoch 00007: saving model to training_1\\cp.ckpt\n",
      "Epoch 8/10\n",
      "19/19 [==============================] - 158s 8s/step - loss: 1.2440 - categorical_accuracy: 0.8415 - val_loss: 1.3425 - val_categorical_accuracy: 0.7000\n",
      "\n",
      "Epoch 00008: saving model to training_1\\cp.ckpt\n",
      "Epoch 9/10\n",
      "19/19 [==============================] - 154s 8s/step - loss: 1.0501 - categorical_accuracy: 0.8600 - val_loss: 1.1004 - val_categorical_accuracy: 0.7000\n",
      "\n",
      "Epoch 00009: saving model to training_1\\cp.ckpt\n",
      "Epoch 10/10\n",
      "19/19 [==============================] - 167s 9s/step - loss: 0.8794 - categorical_accuracy: 0.8971 - val_loss: 0.9750 - val_categorical_accuracy: 0.7000\n",
      "\n",
      "Epoch 00010: saving model to training_1\\cp.ckpt\n"
     ]
    }
   ],
   "source": [
    "print(f'Training model with {tfhub_handle_encoder}')\n",
    "history = classifier_model.fit(x=trainfeatures,y=trainlabels,\n",
    "                               validation_data=(validfeatures,validlabels),\n",
    "                               batch_size=32,\n",
    "                               epochs=epochs,\n",
    "                              callbacks=[cp_callback])"
   ]
  },
  {
   "cell_type": "code",
   "execution_count": 31,
   "id": "3dc60a06-3c22-4146-a44d-d83c85f7050e",
   "metadata": {},
   "outputs": [],
   "source": [
    "classifier_model.save_weights('bert_weights_17_Nov_1630hrs.h5')"
   ]
  },
  {
   "cell_type": "code",
   "execution_count": 286,
   "id": "68aaef15-8e16-4624-b40e-31542348e1f1",
   "metadata": {},
   "outputs": [],
   "source": [
    "def print_my_examples(inputs, results,confidence_score):\n",
    "    result_for_printing = \\\n",
    "    [f'input: {inputs[i]:<30} : intent_classified: {results[i]}'\n",
    "                         for i in range(len(inputs))]\n",
    "    print(*result_for_printing, sep='\\n')\n",
    "    print(results)\n",
    "    print(confidence_score)\n",
    "\n",
    "\n",
    "examples = [\n",
    "    \"I am not able to apply grants\"\n",
    "    \n",
    "]\n",
    "\n",
    "\n",
    "results = tf.nn.softmax(classifier_model(tf.constant(examples)))\n",
    "#print(results)\n",
    "confidence_score = tf.reduce_max(results, axis=-1).numpy()\n",
    "intents=binarizer.inverse_transform(results.numpy())\n",
    "\n",
    "\n"
   ]
  },
  {
   "cell_type": "code",
   "execution_count": 109,
   "id": "b9ccbc3c-b768-469e-b8aa-9e541ab4064e",
   "metadata": {},
   "outputs": [],
   "source": [
    "def print_my_examples_loaded(description,classifier_model):\n",
    "    result = tf.nn.softmax(classifier_model(tf.constant([description])))\n",
    "    confidence_score = tf.reduce_max(result, axis=-1).numpy()\n",
    "    print(confidence_score[0])\n",
    "    if confidence_score[0] < 0.15:\n",
    "        return \"Unidentified Intent\"\n",
    "    else:\n",
    "        intents=binarizer.inverse_transform(result.numpy())\n",
    "        return intents[0]\n"
   ]
  },
  {
   "cell_type": "code",
   "execution_count": 112,
   "id": "a7f96325-eb9d-47a2-ac62-eaeeae806f84",
   "metadata": {},
   "outputs": [],
   "source": [
    "description = \"I am not able to reset password\""
   ]
  },
  {
   "cell_type": "code",
   "execution_count": 113,
   "id": "dce0e035-ef6b-4b4b-882a-a43d5fd98f0c",
   "metadata": {},
   "outputs": [
    {
     "name": "stdout",
     "output_type": "stream",
     "text": [
      "0.7685829\n"
     ]
    },
    {
     "data": {
      "text/plain": [
       "'ResetPassword'"
      ]
     },
     "execution_count": 113,
     "metadata": {},
     "output_type": "execute_result"
    }
   ],
   "source": [
    "print_my_examples_loaded(description,classifier_model)"
   ]
  },
  {
   "cell_type": "code",
   "execution_count": null,
   "id": "5a0d437d-bd5a-4066-9115-7315c7d81203",
   "metadata": {},
   "outputs": [],
   "source": [
    "def CreateModel():\n",
    "    print('Create Model')"
   ]
  },
  {
   "cell_type": "code",
   "execution_count": 114,
   "id": "ef37d349-1c9f-48da-8c19-c5b6063af979",
   "metadata": {},
   "outputs": [
    {
     "name": "stderr",
     "output_type": "stream",
     "text": [
      "WARNING:absl:Found untraced functions such as restored_function_body, restored_function_body, restored_function_body, restored_function_body, restored_function_body while saving (showing 5 of 610). These functions will not be directly callable after loading.\n"
     ]
    }
   ],
   "source": [
    "classifier_model.save(\"ModelSave/BERTImprovedPerf\")"
   ]
  },
  {
   "cell_type": "code",
   "execution_count": 116,
   "id": "fff6588e-70f1-4017-97b4-cf5b69e369a7",
   "metadata": {},
   "outputs": [],
   "source": [
    "loaded_model = keras.models.load_model(\"ModelSave/BERTImprovedPerf\")"
   ]
  },
  {
   "cell_type": "code",
   "execution_count": 117,
   "id": "9233f1cc-65a5-49b4-a335-bc9b58f64263",
   "metadata": {},
   "outputs": [],
   "source": [
    "def print_my_examples_loaded(description,loaded_model):\n",
    "    result = tf.nn.softmax(loaded_model(tf.constant([description])))\n",
    "    confidence_score = tf.reduce_max(result, axis=-1).numpy()\n",
    "    print(confidence_score[0])\n",
    "    if confidence_score[0] < 0.15:\n",
    "        return \"Unidentified Intent\"\n",
    "    else:\n",
    "        intents=binarizer.inverse_transform(result.numpy())\n",
    "        return intents[0]"
   ]
  },
  {
   "cell_type": "code",
   "execution_count": 118,
   "id": "0f599ffe-fe10-4cbe-b1e5-7186b5ecc416",
   "metadata": {},
   "outputs": [],
   "source": [
    "description = \"I am not able to reset password\""
   ]
  },
  {
   "cell_type": "code",
   "execution_count": 119,
   "id": "bc078126-1ca4-48d8-8ce9-1c9a34d088e8",
   "metadata": {},
   "outputs": [
    {
     "name": "stdout",
     "output_type": "stream",
     "text": [
      "0.7685829\n"
     ]
    },
    {
     "data": {
      "text/plain": [
       "'ResetPassword'"
      ]
     },
     "execution_count": 119,
     "metadata": {},
     "output_type": "execute_result"
    }
   ],
   "source": [
    "print_my_examples_loaded(description,loaded_model)"
   ]
  },
  {
   "cell_type": "code",
   "execution_count": null,
   "id": "d4bdcf2a-b4e7-4725-83de-a411218a604e",
   "metadata": {},
   "outputs": [],
   "source": []
  },
  {
   "cell_type": "code",
   "execution_count": 106,
   "id": "94943dde-8fe6-4c76-bb7f-9e6e99b5ee9b",
   "metadata": {},
   "outputs": [
    {
     "ename": "NameError",
     "evalue": "name 'print_my_examples' is not defined",
     "output_type": "error",
     "traceback": [
      "\u001b[1;31m---------------------------------------------------------------------------\u001b[0m",
      "\u001b[1;31mNameError\u001b[0m                                 Traceback (most recent call last)",
      "Cell \u001b[1;32mIn [106], line 1\u001b[0m\n\u001b[1;32m----> 1\u001b[0m \u001b[43mprint_my_examples\u001b[49m(examples, intents,confidence_score)\n",
      "\u001b[1;31mNameError\u001b[0m: name 'print_my_examples' is not defined"
     ]
    }
   ],
   "source": [
    "print_my_examples(examples, intents,confidence_score)"
   ]
  },
  {
   "cell_type": "code",
   "execution_count": 105,
   "id": "b9fcc9bc-0923-462d-9d59-0857aebd2ff7",
   "metadata": {},
   "outputs": [
    {
     "ename": "NameError",
     "evalue": "name 'results' is not defined",
     "output_type": "error",
     "traceback": [
      "\u001b[1;31m---------------------------------------------------------------------------\u001b[0m",
      "\u001b[1;31mNameError\u001b[0m                                 Traceback (most recent call last)",
      "Cell \u001b[1;32mIn [105], line 1\u001b[0m\n\u001b[1;32m----> 1\u001b[0m \u001b[43mresults\u001b[49m[\u001b[38;5;241m0\u001b[39m]\n",
      "\u001b[1;31mNameError\u001b[0m: name 'results' is not defined"
     ]
    }
   ],
   "source": [
    "results[0]"
   ]
  },
  {
   "cell_type": "code",
   "execution_count": 289,
   "id": "e2c3a83d-48e0-48e7-b539-86ada51e9229",
   "metadata": {},
   "outputs": [],
   "source": [
    "classifier_model.save_weights('bert_weights_17_Nov_Accuracy90.h5')"
   ]
  },
  {
   "cell_type": "code",
   "execution_count": 296,
   "id": "b5b7a1f4-6f03-44cc-b175-2a560031e0f3",
   "metadata": {},
   "outputs": [],
   "source": [
    "file_path_model = r\"C:\\DMIProjects\\HRSA\\intentutterencesclassification\\notebooks\\Model_weights\\Accuracy\\17Nov\\bert_weights_16_Nov_Accuracy90.h5\""
   ]
  },
  {
   "cell_type": "code",
   "execution_count": 297,
   "id": "cb372219-1069-482d-b76e-f5a8d32d6bce",
   "metadata": {},
   "outputs": [],
   "source": []
  },
  {
   "cell_type": "code",
   "execution_count": 120,
   "id": "0c6eb12e-e24c-4a06-8571-e159208e7260",
   "metadata": {},
   "outputs": [],
   "source": [
    "def print_my_examples_loaded(description,loaded_model):\n",
    "    result = tf.nn.softmax(loaded_model(tf.constant([description])))\n",
    "    confidence_score = tf.reduce_max(result, axis=-1).numpy()\n",
    "    print(confidence_score[0])\n",
    "    if confidence_score[0] < 0.15:\n",
    "        return \"Unidentified Intent\"\n",
    "    else:\n",
    "        intents=binarizer.inverse_transform(result.numpy())\n",
    "        return intents[0]\n",
    "\n",
    "\n",
    "#examples = \"I am not able to apply grants\"\n",
    "    \n",
    "\n",
    "\n",
    "\n",
    "# results = tf.nn.softmax(model_loaded(tf.constant(examples)))\n",
    "# #print(results)\n",
    "# confidence_score = tf.reduce_max(results, axis=-1).numpy()\n",
    "# intents=binarizer.inverse_transform(results.numpy())"
   ]
  },
  {
   "cell_type": "code",
   "execution_count": 121,
   "id": "7f1a88cf-4988-4528-902d-27807440803d",
   "metadata": {},
   "outputs": [],
   "source": [
    "def intent_values(description):\n",
    "    intent = print_my_examples_loaded(description,loaded_model)\n",
    "    return intent\n"
   ]
  },
  {
   "cell_type": "code",
   "execution_count": 122,
   "id": "163fe576-9a8c-47dd-b8d9-c572943eb995",
   "metadata": {},
   "outputs": [
    {
     "name": "stdout",
     "output_type": "stream",
     "text": [
      "Running on local URL:  http://127.0.0.1:7869\n",
      "Running on public URL: https://38e1676bfa0013b9.gradio.app\n",
      "\n",
      "This share link expires in 72 hours. For free permanent hosting and GPU upgrades (NEW!), check out Spaces: https://huggingface.co/spaces\n"
     ]
    },
    {
     "data": {
      "text/html": [
       "<div><iframe src=\"https://38e1676bfa0013b9.gradio.app\" width=\"100%\" height=\"500\" allow=\"autoplay; camera; microphone; clipboard-read; clipboard-write;\" frameborder=\"0\" allowfullscreen></iframe></div>"
      ],
      "text/plain": [
       "<IPython.core.display.HTML object>"
      ]
     },
     "metadata": {},
     "output_type": "display_data"
    },
    {
     "data": {
      "text/plain": [
       "(<gradio.routes.App at 0x2401fbc4520>,\n",
       " 'http://127.0.0.1:7869/',\n",
       " 'https://38e1676bfa0013b9.gradio.app')"
      ]
     },
     "execution_count": 122,
     "metadata": {},
     "output_type": "execute_result"
    },
    {
     "name": "stdout",
     "output_type": "stream",
     "text": [
      "0.7354102\n",
      "0.1270802\n",
      "0.1270802\n",
      "0.435295\n",
      "0.18587995\n",
      "0.69970983\n",
      "0.69970983\n",
      "0.69970983\n",
      "0.08441927\n",
      "0.69970983\n",
      "0.124393806\n",
      "0.16607645\n",
      "0.124393806\n",
      "0.16607645\n",
      "0.13965459\n",
      "0.13379951\n",
      "0.11362834\n",
      "0.6651249\n",
      "0.16510715\n",
      "0.2474255\n",
      "0.12239976\n",
      "0.17754807\n",
      "0.3545213\n",
      "0.27670768\n",
      "0.17591144\n",
      "0.17016336\n",
      "0.63362473\n",
      "0.47535393\n",
      "0.17016336\n",
      "0.15201701\n"
     ]
    },
    {
     "name": "stderr",
     "output_type": "stream",
     "text": [
      "ERROR:paramiko.transport:Socket exception: An existing connection was forcibly closed by the remote host (10054)\n"
     ]
    }
   ],
   "source": [
    "demo = gr.Interface(fn=intent_values, inputs=\"text\", outputs=\"text\")\n",
    "demo.launch(share = True) "
   ]
  },
  {
   "cell_type": "code",
   "execution_count": null,
   "id": "a78c4f6e-fb24-4498-93a2-fbf3fe9be560",
   "metadata": {},
   "outputs": [],
   "source": []
  },
  {
   "cell_type": "code",
   "execution_count": null,
   "id": "1b16f7b8-98a4-45f9-bb47-dabe8b03bfb0",
   "metadata": {},
   "outputs": [],
   "source": []
  },
  {
   "cell_type": "code",
   "execution_count": null,
   "id": "5c82854d-def3-4622-874c-fa902e2962cb",
   "metadata": {},
   "outputs": [],
   "source": []
  },
  {
   "cell_type": "code",
   "execution_count": null,
   "id": "298c19ba-7f1b-4b6c-a23a-98676632513e",
   "metadata": {},
   "outputs": [],
   "source": []
  },
  {
   "cell_type": "code",
   "execution_count": null,
   "id": "00a35782-232a-4caf-98eb-fc9a8640f19a",
   "metadata": {},
   "outputs": [],
   "source": []
  },
  {
   "cell_type": "code",
   "execution_count": null,
   "id": "5f17ab06-df3d-419d-b212-063b2672dac1",
   "metadata": {},
   "outputs": [],
   "source": []
  },
  {
   "cell_type": "code",
   "execution_count": null,
   "id": "fa7c4508-d244-44a0-bc5b-cbb66d774801",
   "metadata": {},
   "outputs": [],
   "source": []
  },
  {
   "cell_type": "code",
   "execution_count": null,
   "id": "04d6b3ce-2735-4cca-ac71-6dd84d22bd94",
   "metadata": {},
   "outputs": [],
   "source": []
  },
  {
   "cell_type": "code",
   "execution_count": 259,
   "id": "159a813f-ddbc-4807-91ff-bec412c60e1c",
   "metadata": {},
   "outputs": [
    {
     "data": {
      "text/plain": [
       "0.5986389"
      ]
     },
     "execution_count": 259,
     "metadata": {},
     "output_type": "execute_result"
    }
   ],
   "source": [
    "tf.reduce_max(results, axis=-1).numpy()[0]"
   ]
  },
  {
   "cell_type": "code",
   "execution_count": 4,
   "id": "8c564d8c-332b-40b9-ac46-26c1bd80188f",
   "metadata": {},
   "outputs": [
    {
     "ename": "NameError",
     "evalue": "name 'binarizer' is not defined",
     "output_type": "error",
     "traceback": [
      "\u001b[1;31m---------------------------------------------------------------------------\u001b[0m",
      "\u001b[1;31mNameError\u001b[0m                                 Traceback (most recent call last)",
      "Cell \u001b[1;32mIn [4], line 1\u001b[0m\n\u001b[1;32m----> 1\u001b[0m \u001b[43mbinarizer\u001b[49m\u001b[38;5;241m.\u001b[39mclasses_\n",
      "\u001b[1;31mNameError\u001b[0m: name 'binarizer' is not defined"
     ]
    }
   ],
   "source": [
    "binarizer.classes_"
   ]
  },
  {
   "cell_type": "code",
   "execution_count": 231,
   "id": "1c1da90a-c193-4bfb-8599-9a385b579294",
   "metadata": {},
   "outputs": [
    {
     "name": "stdout",
     "output_type": "stream",
     "text": [
      "Help on method inverse_transform in module sklearn.preprocessing._label:\n",
      "\n",
      "inverse_transform(Y, threshold=None) method of sklearn.preprocessing._label.LabelBinarizer instance\n",
      "    Transform binary labels back to multi-class labels.\n",
      "    \n",
      "    Parameters\n",
      "    ----------\n",
      "    Y : {ndarray, sparse matrix} of shape (n_samples, n_classes)\n",
      "        Target values. All sparse matrices are converted to CSR before\n",
      "        inverse transformation.\n",
      "    \n",
      "    threshold : float, default=None\n",
      "        Threshold used in the binary and multi-label cases.\n",
      "    \n",
      "        Use 0 when ``Y`` contains the output of decision_function\n",
      "        (classifier).\n",
      "        Use 0.5 when ``Y`` contains the output of predict_proba.\n",
      "    \n",
      "        If None, the threshold is assumed to be half way between\n",
      "        neg_label and pos_label.\n",
      "    \n",
      "    Returns\n",
      "    -------\n",
      "    y : {ndarray, sparse matrix} of shape (n_samples,)\n",
      "        Target values. Sparse matrix will be of CSR format.\n",
      "    \n",
      "    Notes\n",
      "    -----\n",
      "    In the case when the binary labels are fractional\n",
      "    (probabilistic), inverse_transform chooses the class with the\n",
      "    greatest value. Typically, this allows to use the output of a\n",
      "    linear model's decision_function method directly as the input\n",
      "    of inverse_transform.\n",
      "\n"
     ]
    }
   ],
   "source": [
    "help(binarizer.inverse_transform)"
   ]
  },
  {
   "cell_type": "code",
   "execution_count": 229,
   "id": "580ecad5-8fe2-490e-9245-65240beff385",
   "metadata": {},
   "outputs": [
    {
     "ename": "TypeError",
     "evalue": "inverse_transform() missing 1 required positional argument: 'Y'",
     "output_type": "error",
     "traceback": [
      "\u001b[1;31m---------------------------------------------------------------------------\u001b[0m",
      "\u001b[1;31mTypeError\u001b[0m                                 Traceback (most recent call last)",
      "Cell \u001b[1;32mIn [229], line 1\u001b[0m\n\u001b[1;32m----> 1\u001b[0m \u001b[43mbinarizer\u001b[49m\u001b[38;5;241;43m.\u001b[39;49m\u001b[43minverse_transform\u001b[49m\u001b[43m(\u001b[49m\u001b[43m)\u001b[49m\n",
      "\u001b[1;31mTypeError\u001b[0m: inverse_transform() missing 1 required positional argument: 'Y'"
     ]
    }
   ],
   "source": [
    "binarizer.inverse_transform()"
   ]
  },
  {
   "cell_type": "code",
   "execution_count": 224,
   "id": "56641431-6b54-4444-8c79-1b8e3c8ca5b2",
   "metadata": {},
   "outputs": [],
   "source": [
    "intents=binarizer.inverse_transform(results.numpy())"
   ]
  },
  {
   "cell_type": "code",
   "execution_count": 225,
   "id": "698a9822-7d26-401e-aaa2-ae043f562914",
   "metadata": {},
   "outputs": [
    {
     "name": "stdout",
     "output_type": "stream",
     "text": [
      "['ResetPassword']\n"
     ]
    }
   ],
   "source": [
    "print(intents)"
   ]
  },
  {
   "cell_type": "code",
   "execution_count": 219,
   "id": "276d8a64-0f26-4283-b916-368c9a662451",
   "metadata": {},
   "outputs": [
    {
     "name": "stdout",
     "output_type": "stream",
     "text": [
      "input: I need assistance in resetting my EHB password                                                       : estimated intent: ResetPassword\n",
      "['ResetPassword']\n",
      "\n"
     ]
    }
   ],
   "source": [
    "print_my_examples(examples, intents)"
   ]
  },
  {
   "cell_type": "code",
   "execution_count": 211,
   "id": "c153fa44-2390-4782-b2a1-2e1c565edf94",
   "metadata": {},
   "outputs": [],
   "source": [
    "res = classifier_model.predict(examples)"
   ]
  },
  {
   "cell_type": "code",
   "execution_count": 212,
   "id": "fe265866-2adb-4af9-a542-69adf3482486",
   "metadata": {},
   "outputs": [],
   "source": [
    "confidence_score = tf.nn.softmax(res,axis = -1)"
   ]
  },
  {
   "cell_type": "code",
   "execution_count": 213,
   "id": "4cac803c-a07c-46c0-aeb1-e42c900e1888",
   "metadata": {},
   "outputs": [
    {
     "data": {
      "text/plain": [
       "<tf.Tensor: shape=(1, 33), dtype=float32, numpy=\n",
       "array([[2.4068968e-03, 6.6007175e-03, 5.7874951e-03, 4.8948722e-03,\n",
       "        3.7059437e-03, 7.5100744e-03, 1.9509005e-03, 1.7490827e-03,\n",
       "        1.2967455e-02, 1.2455342e-03, 4.9467487e-03, 5.5766879e-03,\n",
       "        1.5188695e-03, 1.1028739e-03, 1.5725570e-03, 2.2570104e-03,\n",
       "        3.8127701e-03, 1.1771732e-03, 2.7596564e-03, 7.4575236e-03,\n",
       "        8.6439140e-03, 6.8460195e-03, 6.8918876e-03, 3.2903636e-03,\n",
       "        2.5876418e-03, 7.5198855e-04, 3.4503567e-03, 1.5553408e-02,\n",
       "        7.5348746e-03, 8.1114799e-01, 9.0396247e-04, 7.9665193e-03,\n",
       "        4.3430179e-02]], dtype=float32)>"
      ]
     },
     "execution_count": 213,
     "metadata": {},
     "output_type": "execute_result"
    }
   ],
   "source": [
    "confidence_score"
   ]
  },
  {
   "cell_type": "code",
   "execution_count": 214,
   "id": "3e086ef4-4c6d-4c5f-a490-435b2f878fdc",
   "metadata": {},
   "outputs": [
    {
     "data": {
      "text/plain": [
       "array([0.811148], dtype=float32)"
      ]
     },
     "execution_count": 214,
     "metadata": {},
     "output_type": "execute_result"
    }
   ],
   "source": [
    "a = confidence_score\n",
    "tf.reduce_max(a, axis=1).numpy()"
   ]
  },
  {
   "cell_type": "code",
   "execution_count": 41,
   "id": "56dd740a-6d06-49ec-89e9-e7932375fbfc",
   "metadata": {},
   "outputs": [],
   "source": [
    "import pickle\n"
   ]
  },
  {
   "cell_type": "code",
   "execution_count": 42,
   "id": "046b2ed4-3599-47dd-ba5b-85ddd16ceab1",
   "metadata": {},
   "outputs": [],
   "source": [
    "file_name = 'BERTModelSave.sav'"
   ]
  },
  {
   "cell_type": "code",
   "execution_count": 44,
   "id": "68a9bd10-6611-4938-8de1-1b8a505ff460",
   "metadata": {},
   "outputs": [
    {
     "data": {
      "text/plain": [
       "<keras.callbacks.History at 0x1ccc6bf1be0>"
      ]
     },
     "execution_count": 44,
     "metadata": {},
     "output_type": "execute_result"
    }
   ],
   "source": [
    "history"
   ]
  },
  {
   "cell_type": "code",
   "execution_count": 47,
   "id": "e2547ad4-5166-4714-9954-e04c00266e24",
   "metadata": {},
   "outputs": [
    {
     "ename": "AttributeError",
     "evalue": "Can't pickle local object 'Loader._recreate_base_user_object.<locals>._UserObject'",
     "output_type": "error",
     "traceback": [
      "\u001b[1;31m---------------------------------------------------------------------------\u001b[0m",
      "\u001b[1;31mAttributeError\u001b[0m                            Traceback (most recent call last)",
      "Cell \u001b[1;32mIn [47], line 2\u001b[0m\n\u001b[0;32m      1\u001b[0m \u001b[38;5;28;01mimport\u001b[39;00m \u001b[38;5;21;01mtorch\u001b[39;00m\n\u001b[1;32m----> 2\u001b[0m \u001b[43mtorch\u001b[49m\u001b[38;5;241;43m.\u001b[39;49m\u001b[43msave\u001b[49m\u001b[43m(\u001b[49m\u001b[43mclassifier_model\u001b[49m\u001b[43m,\u001b[49m\u001b[43mfile_name\u001b[49m\u001b[43m)\u001b[49m\n",
      "File \u001b[1;32mc:\\Users\\vsalaria\\AppData\\Local\\Programs\\Python\\Python39\\lib\\site-packages\\torch\\serialization.py:423\u001b[0m, in \u001b[0;36msave\u001b[1;34m(obj, f, pickle_module, pickle_protocol, _use_new_zipfile_serialization)\u001b[0m\n\u001b[0;32m    421\u001b[0m \u001b[38;5;28;01mif\u001b[39;00m _use_new_zipfile_serialization:\n\u001b[0;32m    422\u001b[0m     \u001b[38;5;28;01mwith\u001b[39;00m _open_zipfile_writer(f) \u001b[38;5;28;01mas\u001b[39;00m opened_zipfile:\n\u001b[1;32m--> 423\u001b[0m         \u001b[43m_save\u001b[49m\u001b[43m(\u001b[49m\u001b[43mobj\u001b[49m\u001b[43m,\u001b[49m\u001b[43m \u001b[49m\u001b[43mopened_zipfile\u001b[49m\u001b[43m,\u001b[49m\u001b[43m \u001b[49m\u001b[43mpickle_module\u001b[49m\u001b[43m,\u001b[49m\u001b[43m \u001b[49m\u001b[43mpickle_protocol\u001b[49m\u001b[43m)\u001b[49m\n\u001b[0;32m    424\u001b[0m         \u001b[38;5;28;01mreturn\u001b[39;00m\n\u001b[0;32m    425\u001b[0m \u001b[38;5;28;01melse\u001b[39;00m:\n",
      "File \u001b[1;32mc:\\Users\\vsalaria\\AppData\\Local\\Programs\\Python\\Python39\\lib\\site-packages\\torch\\serialization.py:635\u001b[0m, in \u001b[0;36m_save\u001b[1;34m(obj, zip_file, pickle_module, pickle_protocol)\u001b[0m\n\u001b[0;32m    633\u001b[0m pickler \u001b[38;5;241m=\u001b[39m pickle_module\u001b[38;5;241m.\u001b[39mPickler(data_buf, protocol\u001b[38;5;241m=\u001b[39mpickle_protocol)\n\u001b[0;32m    634\u001b[0m pickler\u001b[38;5;241m.\u001b[39mpersistent_id \u001b[38;5;241m=\u001b[39m persistent_id\n\u001b[1;32m--> 635\u001b[0m \u001b[43mpickler\u001b[49m\u001b[38;5;241;43m.\u001b[39;49m\u001b[43mdump\u001b[49m\u001b[43m(\u001b[49m\u001b[43mobj\u001b[49m\u001b[43m)\u001b[49m\n\u001b[0;32m    636\u001b[0m data_value \u001b[38;5;241m=\u001b[39m data_buf\u001b[38;5;241m.\u001b[39mgetvalue()\n\u001b[0;32m    637\u001b[0m zip_file\u001b[38;5;241m.\u001b[39mwrite_record(\u001b[38;5;124m'\u001b[39m\u001b[38;5;124mdata.pkl\u001b[39m\u001b[38;5;124m'\u001b[39m, data_value, \u001b[38;5;28mlen\u001b[39m(data_value))\n",
      "\u001b[1;31mAttributeError\u001b[0m: Can't pickle local object 'Loader._recreate_base_user_object.<locals>._UserObject'"
     ]
    }
   ],
   "source": [
    "import torch\n",
    "torch.save(classifier_model,file_name)"
   ]
  },
  {
   "cell_type": "code",
   "execution_count": null,
   "id": "47e5a71a-66d0-4ed9-a289-2a564aee3b90",
   "metadata": {},
   "outputs": [],
   "source": [
    "#saved_model = torch.load('path/to/model')"
   ]
  },
  {
   "cell_type": "code",
   "execution_count": 46,
   "id": "48775c7d-b472-4c03-b20a-12a628343f42",
   "metadata": {},
   "outputs": [
    {
     "ename": "AttributeError",
     "evalue": "'Functional' object has no attribute 'save_pretrained'",
     "output_type": "error",
     "traceback": [
      "\u001b[1;31m---------------------------------------------------------------------------\u001b[0m",
      "\u001b[1;31mAttributeError\u001b[0m                            Traceback (most recent call last)",
      "Cell \u001b[1;32mIn [46], line 1\u001b[0m\n\u001b[1;32m----> 1\u001b[0m \u001b[43mclassifier_model\u001b[49m\u001b[38;5;241;43m.\u001b[39;49m\u001b[43msave_pretrained\u001b[49m(file_name)\n",
      "\u001b[1;31mAttributeError\u001b[0m: 'Functional' object has no attribute 'save_pretrained'"
     ]
    }
   ],
   "source": [
    "classifier_model.save_pretrained(file_name)\n"
   ]
  },
  {
   "cell_type": "code",
   "execution_count": 3,
   "id": "42974827-504c-400d-993e-9970116ba119",
   "metadata": {},
   "outputs": [
    {
     "ename": "ModuleNotFoundError",
     "evalue": "No module named 'gradio'",
     "output_type": "error",
     "traceback": [
      "\u001b[1;31m---------------------------------------------------------------------------\u001b[0m",
      "\u001b[1;31mModuleNotFoundError\u001b[0m                       Traceback (most recent call last)",
      "Cell \u001b[1;32mIn [3], line 1\u001b[0m\n\u001b[1;32m----> 1\u001b[0m \u001b[38;5;28;01mimport\u001b[39;00m \u001b[38;5;21;01mgradio\u001b[39;00m \u001b[38;5;28;01mas\u001b[39;00m \u001b[38;5;21;01mgr\u001b[39;00m\n",
      "\u001b[1;31mModuleNotFoundError\u001b[0m: No module named 'gradio'"
     ]
    }
   ],
   "source": [
    "def intent_values(description):\n",
    "    \n"
   ]
  },
  {
   "cell_type": "code",
   "execution_count": null,
   "id": "f55d57bb-4abc-4345-a8ca-4fde3b4d2729",
   "metadata": {},
   "outputs": [],
   "source": []
  },
  {
   "cell_type": "code",
   "execution_count": null,
   "id": "8c13b996-bd50-4917-91c5-405858e937df",
   "metadata": {},
   "outputs": [],
   "source": []
  },
  {
   "cell_type": "code",
   "execution_count": null,
   "id": "3bc76f9d-0919-4566-bdc9-04baa12a4f05",
   "metadata": {},
   "outputs": [],
   "source": []
  }
 ],
 "metadata": {
  "kernelspec": {
   "display_name": "hrsaintentenv",
   "language": "python",
   "name": "hrsaintentenv"
  },
  "language_info": {
   "codemirror_mode": {
    "name": "ipython",
    "version": 3
   },
   "file_extension": ".py",
   "mimetype": "text/x-python",
   "name": "python",
   "nbconvert_exporter": "python",
   "pygments_lexer": "ipython3",
   "version": "3.9.0"
  }
 },
 "nbformat": 4,
 "nbformat_minor": 5
}
