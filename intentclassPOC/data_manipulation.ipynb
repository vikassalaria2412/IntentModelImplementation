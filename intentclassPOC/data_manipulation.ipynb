{
 "cells": [
  {
   "cell_type": "code",
   "execution_count": 1,
   "metadata": {},
   "outputs": [],
   "source": [
    "import numpy as np\n",
    "import pandas as pd\n",
    "import uuid"
   ]
  },
  {
   "cell_type": "code",
   "execution_count": 2,
   "metadata": {},
   "outputs": [
    {
     "name": "stderr",
     "output_type": "stream",
     "text": [
      "C:\\Users\\vsalaria\\AppData\\Local\\Temp\\ipykernel_17152\\575041483.py:1: DtypeWarning: Columns (0) have mixed types. Specify dtype option on import or set low_memory=False.\n",
      "  df = pd.read_csv(r'report1653576473320.csv',encoding='1252')\n"
     ]
    }
   ],
   "source": [
    "df = pd.read_csv(r'report1653576473320.csv',encoding='1252')"
   ]
  },
  {
   "cell_type": "code",
   "execution_count": 6,
   "metadata": {},
   "outputs": [
    {
     "data": {
      "text/html": [
       "<div>\n",
       "<style scoped>\n",
       "    .dataframe tbody tr th:only-of-type {\n",
       "        vertical-align: middle;\n",
       "    }\n",
       "\n",
       "    .dataframe tbody tr th {\n",
       "        vertical-align: top;\n",
       "    }\n",
       "\n",
       "    .dataframe thead th {\n",
       "        text-align: right;\n",
       "    }\n",
       "</style>\n",
       "<table border=\"1\" class=\"dataframe\">\n",
       "  <thead>\n",
       "    <tr style=\"text-align: right;\">\n",
       "      <th></th>\n",
       "      <th>Case Number</th>\n",
       "      <th>Internal Org Code Name</th>\n",
       "      <th>Escalated To</th>\n",
       "      <th>Category</th>\n",
       "      <th>Call Type</th>\n",
       "      <th>Item</th>\n",
       "      <th>Case Record Type</th>\n",
       "      <th>Case Origin</th>\n",
       "      <th>Subject</th>\n",
       "      <th>Description</th>\n",
       "      <th>Actions Taken</th>\n",
       "      <th>What is the nature of your inquiry ?</th>\n",
       "      <th>Inquiry's specifics</th>\n",
       "      <th>Date/Time Opened</th>\n",
       "      <th>Age (Hours)</th>\n",
       "      <th>Status</th>\n",
       "    </tr>\n",
       "  </thead>\n",
       "  <tbody>\n",
       "    <tr>\n",
       "      <th>0</th>\n",
       "      <td>1315175</td>\n",
       "      <td>NaN</td>\n",
       "      <td>Tier2</td>\n",
       "      <td>Other</td>\n",
       "      <td>Other</td>\n",
       "      <td>Spam</td>\n",
       "      <td>EHB Escalation</td>\n",
       "      <td>Phone</td>\n",
       "      <td>Salesforce MIgration Test Case - Do not close!</td>\n",
       "      <td>Thi is the test ticket to track for verifying ...</td>\n",
       "      <td>None</td>\n",
       "      <td>NaN</td>\n",
       "      <td>NaN</td>\n",
       "      <td>3/21/2022 13:31</td>\n",
       "      <td>3.0</td>\n",
       "      <td>Closed</td>\n",
       "    </tr>\n",
       "    <tr>\n",
       "      <th>1</th>\n",
       "      <td>1316378</td>\n",
       "      <td>NaN</td>\n",
       "      <td>NaN</td>\n",
       "      <td>Information</td>\n",
       "      <td>Help/Assistance</td>\n",
       "      <td>Misdirect</td>\n",
       "      <td>EHB</td>\n",
       "      <td>Phone</td>\n",
       "      <td>Provider Relief Fund</td>\n",
       "      <td>Caller needed assistance with gaining access t...</td>\n",
       "      <td>Provider the caller with the number to call Pr...</td>\n",
       "      <td>NaN</td>\n",
       "      <td>NaN</td>\n",
       "      <td>3/23/2022 11:15</td>\n",
       "      <td>0.0</td>\n",
       "      <td>Closed</td>\n",
       "    </tr>\n",
       "    <tr>\n",
       "      <th>2</th>\n",
       "      <td>1320009</td>\n",
       "      <td>NaN</td>\n",
       "      <td>NaN</td>\n",
       "      <td>Help/Asst - Reports</td>\n",
       "      <td>Help/Assistance</td>\n",
       "      <td>Extension Request</td>\n",
       "      <td>EHB</td>\n",
       "      <td>Phone</td>\n",
       "      <td>Extension Request/X10MC43596</td>\n",
       "      <td>User calling stating they are not able to requ...</td>\n",
       "      <td>Per request I was able to locate the report an...</td>\n",
       "      <td>NaN</td>\n",
       "      <td>NaN</td>\n",
       "      <td>3/31/2022 11:54</td>\n",
       "      <td>0.0</td>\n",
       "      <td>Closed</td>\n",
       "    </tr>\n",
       "    <tr>\n",
       "      <th>3</th>\n",
       "      <td>1324461</td>\n",
       "      <td>NaN</td>\n",
       "      <td>NaN</td>\n",
       "      <td>Tech Incident - System</td>\n",
       "      <td>Technical Incident</td>\n",
       "      <td>Unexpected Error</td>\n",
       "      <td>EHB Escalation</td>\n",
       "      <td>Email</td>\n",
       "      <td>01323653 / EHBSOPS-63341 / Issue with unassign...</td>\n",
       "      <td>Hello Cara, \\n\\n*Second Notice*\\n\\nI want to c...</td>\n",
       "      <td>Duplicate to 01323653</td>\n",
       "      <td>NaN</td>\n",
       "      <td>NaN</td>\n",
       "      <td>4/11/2022 12:26</td>\n",
       "      <td>0.0</td>\n",
       "      <td>Closed</td>\n",
       "    </tr>\n",
       "    <tr>\n",
       "      <th>4</th>\n",
       "      <td>1329373</td>\n",
       "      <td>Health Workforce</td>\n",
       "      <td>NaN</td>\n",
       "      <td>Prior Approval</td>\n",
       "      <td>Help/Assistance</td>\n",
       "      <td>Caryover Request</td>\n",
       "      <td>EHB</td>\n",
       "      <td>Phone</td>\n",
       "      <td>Prior Approval/Carryover Request</td>\n",
       "      <td>User stated they are trying to complete a PA f...</td>\n",
       "      <td>Per request I could see in Production that a F...</td>\n",
       "      <td>NaN</td>\n",
       "      <td>NaN</td>\n",
       "      <td>4/22/2022 11:29</td>\n",
       "      <td>0.0</td>\n",
       "      <td>Closed</td>\n",
       "    </tr>\n",
       "  </tbody>\n",
       "</table>\n",
       "</div>"
      ],
      "text/plain": [
       "  Case Number Internal Org Code Name Escalated To                Category  \\\n",
       "0     1315175                    NaN        Tier2                   Other   \n",
       "1     1316378                    NaN          NaN             Information   \n",
       "2     1320009                    NaN          NaN     Help/Asst - Reports   \n",
       "3     1324461                    NaN          NaN  Tech Incident - System   \n",
       "4     1329373       Health Workforce          NaN          Prior Approval   \n",
       "\n",
       "            Call Type               Item Case Record Type Case Origin  \\\n",
       "0               Other               Spam   EHB Escalation       Phone   \n",
       "1     Help/Assistance          Misdirect              EHB       Phone   \n",
       "2     Help/Assistance  Extension Request              EHB       Phone   \n",
       "3  Technical Incident   Unexpected Error   EHB Escalation       Email   \n",
       "4     Help/Assistance   Caryover Request              EHB       Phone   \n",
       "\n",
       "                                             Subject  \\\n",
       "0     Salesforce MIgration Test Case - Do not close!   \n",
       "1                               Provider Relief Fund   \n",
       "2                       Extension Request/X10MC43596   \n",
       "3  01323653 / EHBSOPS-63341 / Issue with unassign...   \n",
       "4                   Prior Approval/Carryover Request   \n",
       "\n",
       "                                         Description  \\\n",
       "0  Thi is the test ticket to track for verifying ...   \n",
       "1  Caller needed assistance with gaining access t...   \n",
       "2  User calling stating they are not able to requ...   \n",
       "3  Hello Cara, \\n\\n*Second Notice*\\n\\nI want to c...   \n",
       "4  User stated they are trying to complete a PA f...   \n",
       "\n",
       "                                       Actions Taken  \\\n",
       "0                                               None   \n",
       "1  Provider the caller with the number to call Pr...   \n",
       "2  Per request I was able to locate the report an...   \n",
       "3                              Duplicate to 01323653   \n",
       "4  Per request I could see in Production that a F...   \n",
       "\n",
       "  What is the nature of your inquiry ? Inquiry's specifics Date/Time Opened  \\\n",
       "0                                  NaN                 NaN  3/21/2022 13:31   \n",
       "1                                  NaN                 NaN  3/23/2022 11:15   \n",
       "2                                  NaN                 NaN  3/31/2022 11:54   \n",
       "3                                  NaN                 NaN  4/11/2022 12:26   \n",
       "4                                  NaN                 NaN  4/22/2022 11:29   \n",
       "\n",
       "   Age (Hours)  Status  \n",
       "0          3.0  Closed  \n",
       "1          0.0  Closed  \n",
       "2          0.0  Closed  \n",
       "3          0.0  Closed  \n",
       "4          0.0  Closed  "
      ]
     },
     "execution_count": 6,
     "metadata": {},
     "output_type": "execute_result"
    }
   ],
   "source": [
    "df.head()"
   ]
  },
  {
   "cell_type": "code",
   "execution_count": 8,
   "metadata": {},
   "outputs": [],
   "source": [
    "df_5000 = df[:5000]"
   ]
  },
  {
   "cell_type": "code",
   "execution_count": 9,
   "metadata": {},
   "outputs": [],
   "source": [
    "df_5000.to_csv(r'report1653576473320_5000.csv',index=False)"
   ]
  },
  {
   "cell_type": "code",
   "execution_count": 10,
   "metadata": {},
   "outputs": [],
   "source": [
    "df_5k_new = pd.read_csv(r'report1653576473320_5000.csv',encoding='1252')"
   ]
  },
  {
   "cell_type": "code",
   "execution_count": 12,
   "metadata": {},
   "outputs": [
    {
     "data": {
      "text/plain": [
       "Help/Assistance                3594\n",
       "Service Request                1021\n",
       "Technical Incident              186\n",
       "Other                           164\n",
       "System Outage                    10\n",
       "Applicant - Fault/Technical       3\n",
       "Name: Call Type, dtype: int64"
      ]
     },
     "execution_count": 12,
     "metadata": {},
     "output_type": "execute_result"
    }
   ],
   "source": [
    "df_5k_new['Call Type'].value_counts()"
   ]
  },
  {
   "cell_type": "code",
   "execution_count": 13,
   "metadata": {},
   "outputs": [],
   "source": [
    "df_5k_final = df_5k_new[['Call Type','Description']]"
   ]
  },
  {
   "cell_type": "code",
   "execution_count": 14,
   "metadata": {},
   "outputs": [
    {
     "data": {
      "text/html": [
       "<div>\n",
       "<style scoped>\n",
       "    .dataframe tbody tr th:only-of-type {\n",
       "        vertical-align: middle;\n",
       "    }\n",
       "\n",
       "    .dataframe tbody tr th {\n",
       "        vertical-align: top;\n",
       "    }\n",
       "\n",
       "    .dataframe thead th {\n",
       "        text-align: right;\n",
       "    }\n",
       "</style>\n",
       "<table border=\"1\" class=\"dataframe\">\n",
       "  <thead>\n",
       "    <tr style=\"text-align: right;\">\n",
       "      <th></th>\n",
       "      <th>Call Type</th>\n",
       "      <th>Description</th>\n",
       "    </tr>\n",
       "  </thead>\n",
       "  <tbody>\n",
       "    <tr>\n",
       "      <th>0</th>\n",
       "      <td>Other</td>\n",
       "      <td>Thi is the test ticket to track for verifying ...</td>\n",
       "    </tr>\n",
       "    <tr>\n",
       "      <th>1</th>\n",
       "      <td>Help/Assistance</td>\n",
       "      <td>Caller needed assistance with gaining access t...</td>\n",
       "    </tr>\n",
       "    <tr>\n",
       "      <th>2</th>\n",
       "      <td>Help/Assistance</td>\n",
       "      <td>User calling stating they are not able to requ...</td>\n",
       "    </tr>\n",
       "    <tr>\n",
       "      <th>3</th>\n",
       "      <td>Technical Incident</td>\n",
       "      <td>Hello Cara, \\n\\n*Second Notice*\\n\\nI want to c...</td>\n",
       "    </tr>\n",
       "    <tr>\n",
       "      <th>4</th>\n",
       "      <td>Help/Assistance</td>\n",
       "      <td>User stated they are trying to complete a PA f...</td>\n",
       "    </tr>\n",
       "  </tbody>\n",
       "</table>\n",
       "</div>"
      ],
      "text/plain": [
       "            Call Type                                        Description\n",
       "0               Other  Thi is the test ticket to track for verifying ...\n",
       "1     Help/Assistance  Caller needed assistance with gaining access t...\n",
       "2     Help/Assistance  User calling stating they are not able to requ...\n",
       "3  Technical Incident  Hello Cara, \\n\\n*Second Notice*\\n\\nI want to c...\n",
       "4     Help/Assistance  User stated they are trying to complete a PA f..."
      ]
     },
     "execution_count": 14,
     "metadata": {},
     "output_type": "execute_result"
    }
   ],
   "source": [
    "df_5k_final.head()\n"
   ]
  },
  {
   "cell_type": "code",
   "execution_count": 15,
   "metadata": {},
   "outputs": [
    {
     "data": {
      "text/plain": [
       "Help/Assistance                3594\n",
       "Service Request                1021\n",
       "Technical Incident              186\n",
       "Other                           164\n",
       "System Outage                    10\n",
       "Applicant - Fault/Technical       3\n",
       "Name: Call Type, dtype: int64"
      ]
     },
     "execution_count": 15,
     "metadata": {},
     "output_type": "execute_result"
    }
   ],
   "source": [
    "df_5k_final['Call Type'].value_counts()"
   ]
  },
  {
   "cell_type": "code",
   "execution_count": 16,
   "metadata": {},
   "outputs": [
    {
     "name": "stderr",
     "output_type": "stream",
     "text": [
      "C:\\Users\\vsalaria\\AppData\\Local\\Temp\\ipykernel_36980\\3112551463.py:1: SettingWithCopyWarning: \n",
      "A value is trying to be set on a copy of a slice from a DataFrame\n",
      "\n",
      "See the caveats in the documentation: https://pandas.pydata.org/pandas-docs/stable/user_guide/indexing.html#returning-a-view-versus-a-copy\n",
      "  df_5k_final.rename(columns={'Call Type':'intent','Description':'text'},inplace=True)\n"
     ]
    }
   ],
   "source": [
    "df_5k_final.rename(columns={'Call Type':'intent','Description':'text'},inplace=True)"
   ]
  },
  {
   "cell_type": "code",
   "execution_count": 18,
   "metadata": {},
   "outputs": [],
   "source": [
    "df_5k_final.to_csv(r'report1653576473320_5000_final.csv',index=False)"
   ]
  },
  {
   "cell_type": "code",
   "execution_count": 2,
   "metadata": {},
   "outputs": [],
   "source": [
    "#####################"
   ]
  },
  {
   "cell_type": "code",
   "execution_count": null,
   "metadata": {},
   "outputs": [],
   "source": []
  },
  {
   "cell_type": "code",
   "execution_count": 2,
   "metadata": {},
   "outputs": [
    {
     "name": "stderr",
     "output_type": "stream",
     "text": [
      "C:\\Users\\vsalaria\\AppData\\Local\\Temp\\ipykernel_3132\\1868813673.py:1: DtypeWarning: Columns (0) have mixed types. Specify dtype option on import or set low_memory=False.\n",
      "  df_transcripts = pd.read_csv(r'report1653576473320.csv',encoding='1252')\n"
     ]
    }
   ],
   "source": [
    "df_transcripts = pd.read_csv(r'report1653576473320.csv',encoding='1252')"
   ]
  },
  {
   "cell_type": "code",
   "execution_count": 3,
   "metadata": {},
   "outputs": [
    {
     "data": {
      "text/plain": [
       "(51868, 16)"
      ]
     },
     "execution_count": 3,
     "metadata": {},
     "output_type": "execute_result"
    }
   ],
   "source": [
    "df_transcripts.shape"
   ]
  },
  {
   "cell_type": "code",
   "execution_count": 8,
   "metadata": {},
   "outputs": [
    {
     "data": {
      "text/plain": [
       "Index(['Case Number', 'Internal Org Code Name', 'Escalated To', 'Category',\n",
       "       'Call Type', 'Item', 'Case Record Type', 'Case Origin', 'Subject',\n",
       "       'Description', 'Actions Taken', 'What is the nature of your inquiry ?',\n",
       "       'Inquiry's specifics', 'Date/Time Opened', 'Age (Hours)', 'Status'],\n",
       "      dtype='object')"
      ]
     },
     "execution_count": 8,
     "metadata": {},
     "output_type": "execute_result"
    }
   ],
   "source": [
    "df_transcripts.columns"
   ]
  },
  {
   "cell_type": "code",
   "execution_count": 4,
   "metadata": {},
   "outputs": [],
   "source": [
    "df_transcripts_specific_columns = df_transcripts[['Description']]"
   ]
  },
  {
   "cell_type": "code",
   "execution_count": 5,
   "metadata": {},
   "outputs": [
    {
     "data": {
      "text/plain": [
       "111"
      ]
     },
     "execution_count": 5,
     "metadata": {},
     "output_type": "execute_result"
    }
   ],
   "source": [
    "df_transcripts_specific_columns['Description'].isnull().sum()"
   ]
  },
  {
   "cell_type": "code",
   "execution_count": 6,
   "metadata": {},
   "outputs": [],
   "source": [
    "df_transcripts_specific_columns = df_transcripts_specific_columns.dropna()"
   ]
  },
  {
   "cell_type": "code",
   "execution_count": 7,
   "metadata": {},
   "outputs": [
    {
     "data": {
      "text/plain": [
       "(51757, 1)"
      ]
     },
     "execution_count": 7,
     "metadata": {},
     "output_type": "execute_result"
    }
   ],
   "source": [
    "df_transcripts_specific_columns.shape"
   ]
  },
  {
   "cell_type": "code",
   "execution_count": 8,
   "metadata": {},
   "outputs": [
    {
     "data": {
      "text/plain": [
       "0"
      ]
     },
     "execution_count": 8,
     "metadata": {},
     "output_type": "execute_result"
    }
   ],
   "source": [
    "df_transcripts_specific_columns['Description'].isnull().sum()"
   ]
  },
  {
   "cell_type": "code",
   "execution_count": 9,
   "metadata": {},
   "outputs": [],
   "source": [
    "df_transcripts_specific_columns.rename(columns={'Description':'Content'},inplace=True)"
   ]
  },
  {
   "cell_type": "code",
   "execution_count": 10,
   "metadata": {},
   "outputs": [
    {
     "data": {
      "text/html": [
       "<div>\n",
       "<style scoped>\n",
       "    .dataframe tbody tr th:only-of-type {\n",
       "        vertical-align: middle;\n",
       "    }\n",
       "\n",
       "    .dataframe tbody tr th {\n",
       "        vertical-align: top;\n",
       "    }\n",
       "\n",
       "    .dataframe thead th {\n",
       "        text-align: right;\n",
       "    }\n",
       "</style>\n",
       "<table border=\"1\" class=\"dataframe\">\n",
       "  <thead>\n",
       "    <tr style=\"text-align: right;\">\n",
       "      <th></th>\n",
       "      <th>Content</th>\n",
       "    </tr>\n",
       "  </thead>\n",
       "  <tbody>\n",
       "    <tr>\n",
       "      <th>0</th>\n",
       "      <td>Thi is the test ticket to track for verifying ...</td>\n",
       "    </tr>\n",
       "    <tr>\n",
       "      <th>1</th>\n",
       "      <td>Caller needed assistance with gaining access t...</td>\n",
       "    </tr>\n",
       "    <tr>\n",
       "      <th>2</th>\n",
       "      <td>User calling stating they are not able to requ...</td>\n",
       "    </tr>\n",
       "    <tr>\n",
       "      <th>3</th>\n",
       "      <td>Hello Cara, \\n\\n*Second Notice*\\n\\nI want to c...</td>\n",
       "    </tr>\n",
       "    <tr>\n",
       "      <th>4</th>\n",
       "      <td>User stated they are trying to complete a PA f...</td>\n",
       "    </tr>\n",
       "  </tbody>\n",
       "</table>\n",
       "</div>"
      ],
      "text/plain": [
       "                                             Content\n",
       "0  Thi is the test ticket to track for verifying ...\n",
       "1  Caller needed assistance with gaining access t...\n",
       "2  User calling stating they are not able to requ...\n",
       "3  Hello Cara, \\n\\n*Second Notice*\\n\\nI want to c...\n",
       "4  User stated they are trying to complete a PA f..."
      ]
     },
     "execution_count": 10,
     "metadata": {},
     "output_type": "execute_result"
    }
   ],
   "source": [
    "df_transcripts_specific_columns.head()"
   ]
  },
  {
   "cell_type": "code",
   "execution_count": 12,
   "metadata": {},
   "outputs": [],
   "source": [
    "df_transcripts_specific_columns['ParticipantId'] = ['Agent' for i in range(len(df_transcripts_specific_columns))]"
   ]
  },
  {
   "cell_type": "code",
   "execution_count": 11,
   "metadata": {},
   "outputs": [],
   "source": [
    "#df_transcripts_specific_columns['ParticipantId'] = ['Agent' if i%2==0 else 'Customer' for i in range(len(df_transcripts_specific_columns))]"
   ]
  },
  {
   "cell_type": "code",
   "execution_count": 13,
   "metadata": {},
   "outputs": [],
   "source": [
    "df_transcripts_specific_columns['Id'] = [uuid.uuid4() for _ in range(len(df_transcripts_specific_columns))]"
   ]
  },
  {
   "cell_type": "code",
   "execution_count": 12,
   "metadata": {},
   "outputs": [],
   "source": [
    "#twovaluesinnewcolumnalternately = [1 if i%2==0 else 0 for i in range(len(df_transcripts_specific_columns))]"
   ]
  },
  {
   "cell_type": "code",
   "execution_count": 14,
   "metadata": {},
   "outputs": [
    {
     "data": {
      "text/html": [
       "<div>\n",
       "<style scoped>\n",
       "    .dataframe tbody tr th:only-of-type {\n",
       "        vertical-align: middle;\n",
       "    }\n",
       "\n",
       "    .dataframe tbody tr th {\n",
       "        vertical-align: top;\n",
       "    }\n",
       "\n",
       "    .dataframe thead th {\n",
       "        text-align: right;\n",
       "    }\n",
       "</style>\n",
       "<table border=\"1\" class=\"dataframe\">\n",
       "  <thead>\n",
       "    <tr style=\"text-align: right;\">\n",
       "      <th></th>\n",
       "      <th>Content</th>\n",
       "      <th>ParticipantId</th>\n",
       "      <th>Id</th>\n",
       "    </tr>\n",
       "  </thead>\n",
       "  <tbody>\n",
       "    <tr>\n",
       "      <th>0</th>\n",
       "      <td>Thi is the test ticket to track for verifying ...</td>\n",
       "      <td>Agent</td>\n",
       "      <td>603822e4-f928-4be6-ace6-d6ade0b590a4</td>\n",
       "    </tr>\n",
       "    <tr>\n",
       "      <th>1</th>\n",
       "      <td>Caller needed assistance with gaining access t...</td>\n",
       "      <td>Agent</td>\n",
       "      <td>0349bc98-c3b6-4329-a40b-1c5f53221743</td>\n",
       "    </tr>\n",
       "    <tr>\n",
       "      <th>2</th>\n",
       "      <td>User calling stating they are not able to requ...</td>\n",
       "      <td>Agent</td>\n",
       "      <td>74d15afc-9832-45b3-bf37-733895bcb68e</td>\n",
       "    </tr>\n",
       "    <tr>\n",
       "      <th>3</th>\n",
       "      <td>Hello Cara, \\n\\n*Second Notice*\\n\\nI want to c...</td>\n",
       "      <td>Agent</td>\n",
       "      <td>2b22b7c9-a08e-465c-ae37-6bf8c11f7fa3</td>\n",
       "    </tr>\n",
       "    <tr>\n",
       "      <th>4</th>\n",
       "      <td>User stated they are trying to complete a PA f...</td>\n",
       "      <td>Agent</td>\n",
       "      <td>fe0ba620-2dc0-4fcd-9141-2f37dcc403c7</td>\n",
       "    </tr>\n",
       "  </tbody>\n",
       "</table>\n",
       "</div>"
      ],
      "text/plain": [
       "                                             Content ParticipantId  \\\n",
       "0  Thi is the test ticket to track for verifying ...         Agent   \n",
       "1  Caller needed assistance with gaining access t...         Agent   \n",
       "2  User calling stating they are not able to requ...         Agent   \n",
       "3  Hello Cara, \\n\\n*Second Notice*\\n\\nI want to c...         Agent   \n",
       "4  User stated they are trying to complete a PA f...         Agent   \n",
       "\n",
       "                                     Id  \n",
       "0  603822e4-f928-4be6-ace6-d6ade0b590a4  \n",
       "1  0349bc98-c3b6-4329-a40b-1c5f53221743  \n",
       "2  74d15afc-9832-45b3-bf37-733895bcb68e  \n",
       "3  2b22b7c9-a08e-465c-ae37-6bf8c11f7fa3  \n",
       "4  fe0ba620-2dc0-4fcd-9141-2f37dcc403c7  "
      ]
     },
     "execution_count": 14,
     "metadata": {},
     "output_type": "execute_result"
    }
   ],
   "source": [
    "df_transcripts_specific_columns.head()"
   ]
  },
  {
   "cell_type": "code",
   "execution_count": 15,
   "metadata": {},
   "outputs": [],
   "source": [
    "df_transcripts_specific_columns.to_csv(r'CSVTranscriptLEXOnlyAgent.csv',index=False)"
   ]
  },
  {
   "cell_type": "code",
   "execution_count": 16,
   "metadata": {},
   "outputs": [],
   "source": [
    "###########################################################################################\n",
    "df_final = pd.read_csv(r'CSVTranscriptLEXOnlyAgent.csv',encoding='1252')"
   ]
  },
  {
   "cell_type": "code",
   "execution_count": 17,
   "metadata": {},
   "outputs": [
    {
     "data": {
      "text/html": [
       "<div>\n",
       "<style scoped>\n",
       "    .dataframe tbody tr th:only-of-type {\n",
       "        vertical-align: middle;\n",
       "    }\n",
       "\n",
       "    .dataframe tbody tr th {\n",
       "        vertical-align: top;\n",
       "    }\n",
       "\n",
       "    .dataframe thead th {\n",
       "        text-align: right;\n",
       "    }\n",
       "</style>\n",
       "<table border=\"1\" class=\"dataframe\">\n",
       "  <thead>\n",
       "    <tr style=\"text-align: right;\">\n",
       "      <th></th>\n",
       "      <th>Content</th>\n",
       "      <th>ParticipantId</th>\n",
       "      <th>Id</th>\n",
       "    </tr>\n",
       "  </thead>\n",
       "  <tbody>\n",
       "    <tr>\n",
       "      <th>0</th>\n",
       "      <td>Thi is the test ticket to track for verifying ...</td>\n",
       "      <td>Agent</td>\n",
       "      <td>603822e4-f928-4be6-ace6-d6ade0b590a4</td>\n",
       "    </tr>\n",
       "    <tr>\n",
       "      <th>1</th>\n",
       "      <td>Caller needed assistance with gaining access t...</td>\n",
       "      <td>Agent</td>\n",
       "      <td>0349bc98-c3b6-4329-a40b-1c5f53221743</td>\n",
       "    </tr>\n",
       "    <tr>\n",
       "      <th>2</th>\n",
       "      <td>User calling stating they are not able to requ...</td>\n",
       "      <td>Agent</td>\n",
       "      <td>74d15afc-9832-45b3-bf37-733895bcb68e</td>\n",
       "    </tr>\n",
       "    <tr>\n",
       "      <th>3</th>\n",
       "      <td>Hello Cara, \\n\\n*Second Notice*\\n\\nI want to c...</td>\n",
       "      <td>Agent</td>\n",
       "      <td>2b22b7c9-a08e-465c-ae37-6bf8c11f7fa3</td>\n",
       "    </tr>\n",
       "    <tr>\n",
       "      <th>4</th>\n",
       "      <td>User stated they are trying to complete a PA f...</td>\n",
       "      <td>Agent</td>\n",
       "      <td>fe0ba620-2dc0-4fcd-9141-2f37dcc403c7</td>\n",
       "    </tr>\n",
       "  </tbody>\n",
       "</table>\n",
       "</div>"
      ],
      "text/plain": [
       "                                             Content ParticipantId  \\\n",
       "0  Thi is the test ticket to track for verifying ...         Agent   \n",
       "1  Caller needed assistance with gaining access t...         Agent   \n",
       "2  User calling stating they are not able to requ...         Agent   \n",
       "3  Hello Cara, \\n\\n*Second Notice*\\n\\nI want to c...         Agent   \n",
       "4  User stated they are trying to complete a PA f...         Agent   \n",
       "\n",
       "                                     Id  \n",
       "0  603822e4-f928-4be6-ace6-d6ade0b590a4  \n",
       "1  0349bc98-c3b6-4329-a40b-1c5f53221743  \n",
       "2  74d15afc-9832-45b3-bf37-733895bcb68e  \n",
       "3  2b22b7c9-a08e-465c-ae37-6bf8c11f7fa3  \n",
       "4  fe0ba620-2dc0-4fcd-9141-2f37dcc403c7  "
      ]
     },
     "execution_count": 17,
     "metadata": {},
     "output_type": "execute_result"
    }
   ],
   "source": [
    "df_final.head()"
   ]
  },
  {
   "cell_type": "code",
   "execution_count": 15,
   "metadata": {},
   "outputs": [],
   "source": [
    "#df_transcripts_specific_columns.to_json(r'JSONTranscriptLEX1.json',orient='records',default_handler=str)"
   ]
  },
  {
   "cell_type": "code",
   "execution_count": 18,
   "metadata": {},
   "outputs": [],
   "source": [
    "import json\n",
    "import csv"
   ]
  },
  {
   "cell_type": "code",
   "execution_count": 6,
   "metadata": {},
   "outputs": [],
   "source": [
    "# def csv_to_json(csvFilePath, jsonFilePath):\n",
    "#     jsonArray = []\n",
    "#     with open(csvFilePath, encoding='utf-8') as csvf: \n",
    "#         csvReader = csv.DictReader(csvf) \n",
    "#         for row in csvReader: \n",
    "#             jsonArray.append(row)\n",
    "#     with open(jsonFilePath, 'w', encoding='utf-8') as jsonf: \n",
    "#         jsonString = json.dumps(jsonArray, indent=4)\n",
    "#         jsonf.write(jsonString)"
   ]
  },
  {
   "cell_type": "code",
   "execution_count": 7,
   "metadata": {},
   "outputs": [],
   "source": [
    "#csv_to_json(r'CSVTranscriptLEX.csv', r'JSONTranscriptLEX.json')"
   ]
  },
  {
   "cell_type": "code",
   "execution_count": 8,
   "metadata": {},
   "outputs": [],
   "source": [
    "# def csv_to_json(csvFilePath, jsonFilePath):\n",
    "#     data = {}\n",
    "#     data['']\n",
    "#     jsonArray = []\n",
    "#     with open(csvFilePath, encoding='utf-8') as csvf: \n",
    "#         csvReader = csv.DictReader(csvf) \n",
    "#         for row in csvReader: \n",
    "#             jsonArray.append(row)\n",
    "#     with open(jsonFilePath, 'w', encoding='utf-8') as jsonf: \n",
    "#         jsonString = json.dumps(jsonArray, indent=4)\n",
    "#         jsonf.write(jsonString)"
   ]
  },
  {
   "cell_type": "code",
   "execution_count": 19,
   "metadata": {},
   "outputs": [],
   "source": [
    "dict_obj = {\n",
    "\t\"CustomerMetadata\": {\n",
    "\t\t\"ContactId\": \"10013 - f5e9e7cf - 1614-432e-958f-9d4e3e096fc0\"\n",
    "\t},\n",
    "\t\"Participants\": [{\n",
    "\t\t\t\"ParticipantRole\": \"AGENT\",\n",
    "\t\t\t\"ParticipantId\": \"Agent\"\n",
    "\t\t},\n",
    "\t\t{\n",
    "\t\t\t\"ParticipantRole\": \"CUSTOMER\",\n",
    "\t\t\t\"ParticipantId\": \"Customer\"\n",
    "\t\t}\n",
    "\t],\n",
    "\t\"Version\": \"1.1.0\",\n",
    "\t\"ContentMetadata\": {\n",
    "\t\t\"RedactionTypes\": [\n",
    "\t\t\t\"PII\"\n",
    "\t\t],\n",
    "\t\t\"Output\": \"Redacted\"\n",
    "\t}\n",
    "}"
   ]
  },
  {
   "cell_type": "code",
   "execution_count": 20,
   "metadata": {},
   "outputs": [
    {
     "data": {
      "text/plain": [
       "dict"
      ]
     },
     "execution_count": 20,
     "metadata": {},
     "output_type": "execute_result"
    }
   ],
   "source": [
    "type(dict_obj)"
   ]
  },
  {
   "cell_type": "code",
   "execution_count": 10,
   "metadata": {},
   "outputs": [],
   "source": [
    "json_obj = json.dumps(dict_obj)"
   ]
  },
  {
   "cell_type": "code",
   "execution_count": 11,
   "metadata": {},
   "outputs": [
    {
     "data": {
      "text/plain": [
       "'{\"CustomerMetadata\": {\"ContactId\": \"10013 - f5e9e7cf - 1614-432e-958f-9d4e3e096fc0\"}, \"Participants\": [{\"ParticipantRole\": \"AGENT\", \"ParticipantId\": \"Agent\"}, {\"ParticipantRole\": \"CUSTOMER\", \"ParticipantId\": \"Customer\"}], \"Version\": \"1.1.0\", \"ContentMetadata\": {\"RedactionTypes\": [\"PII\"], \"Output\": \"Redacted\"}}'"
      ]
     },
     "execution_count": 11,
     "metadata": {},
     "output_type": "execute_result"
    }
   ],
   "source": [
    "json_obj"
   ]
  },
  {
   "cell_type": "code",
   "execution_count": 21,
   "metadata": {},
   "outputs": [],
   "source": [
    "def complete_json(csvFilePath, jsonFilePath,json_obj):\n",
    "    jsonArray = []\n",
    "    with open(csvFilePath, encoding='utf-8') as csvf: \n",
    "        csvReader = csv.DictReader(csvf) \n",
    "        for row in csvReader: \n",
    "            jsonArray.append(row)\n",
    "    json_obj['Transcript'] = jsonArray\n",
    "    with open(jsonFilePath, 'w', encoding='utf-8') as jsonf: \n",
    "        jsonString = json.dumps(json_obj, indent=4)\n",
    "        jsonf.write(jsonString)"
   ]
  },
  {
   "cell_type": "code",
   "execution_count": 25,
   "metadata": {},
   "outputs": [],
   "source": [
    "complete_json(r'CSVTranscriptLEXOnlyAgent.csv', r'JSONTranscriptLEXOnlyAgent.json',dict_obj)"
   ]
  },
  {
   "cell_type": "code",
   "execution_count": null,
   "metadata": {},
   "outputs": [],
   "source": []
  },
  {
   "cell_type": "code",
   "execution_count": null,
   "metadata": {},
   "outputs": [],
   "source": []
  },
  {
   "cell_type": "code",
   "execution_count": 24,
   "metadata": {},
   "outputs": [
    {
     "ename": "AttributeError",
     "evalue": "'str' object has no attribute 'decode'",
     "output_type": "error",
     "traceback": [
      "\u001b[1;31m---------------------------------------------------------------------------\u001b[0m",
      "\u001b[1;31mAttributeError\u001b[0m                            Traceback (most recent call last)",
      "Cell \u001b[1;32mIn [24], line 1\u001b[0m\n\u001b[1;32m----> 1\u001b[0m content \u001b[39m=\u001b[39m json\u001b[39m.\u001b[39mloads(json_obj\u001b[39m.\u001b[39;49mdecode(\u001b[39m'\u001b[39m\u001b[39mutf-8\u001b[39m\u001b[39m'\u001b[39m)\u001b[39m.\u001b[39mreplace(\u001b[39m'\u001b[39m\u001b[39m\\n\u001b[39;00m\u001b[39m'\u001b[39m, \u001b[39m'\u001b[39m\u001b[39m'\u001b[39m))\n",
      "\u001b[1;31mAttributeError\u001b[0m: 'str' object has no attribute 'decode'"
     ]
    }
   ],
   "source": [
    "content = json.loads(json_obj.decode('utf-8').replace('\\n', ''))"
   ]
  },
  {
   "cell_type": "code",
   "execution_count": 23,
   "metadata": {},
   "outputs": [
    {
     "data": {
      "text/plain": [
       "'{\\n    \"CustomerMetadata\": {\\n        \"ContactId\": \"10013 - f5e9e7cf - 1614-432e-958f-9d4e3e096fc0\"\\n    },\\n    \"Participants\": [\\n        {\\n            \"ParticipantRole\": \"AGENT\",\\n            \"ParticipantId\": \"Agent\"\\n        },\\n        {\\n            \"ParticipantRole\": \"CUSTOMER\",\\n            \"ParticipantId\": \"Customer\"\\n        }\\n    ],\\n    \"Version\": \"1.1.0\",\\n    \"ContentMetadata\": {\\n        \"RedactionTypes\": [\\n            \"PII\"\\n        ],\\n        \"Output\": \"Redacted\"\\n    }\\n}'"
      ]
     },
     "execution_count": 23,
     "metadata": {},
     "output_type": "execute_result"
    }
   ],
   "source": [
    "json_obj"
   ]
  },
  {
   "cell_type": "code",
   "execution_count": 9,
   "metadata": {},
   "outputs": [],
   "source": [
    "#df_transcripts_specific_columns['Description'] = df_transcripts_specific_columns['Description'].dropna(inplace=True)"
   ]
  },
  {
   "cell_type": "code",
   "execution_count": 10,
   "metadata": {},
   "outputs": [],
   "source": [
    "#df_transcripts_specific_columns['Description'].isnull().sum()"
   ]
  },
  {
   "cell_type": "code",
   "execution_count": null,
   "metadata": {},
   "outputs": [],
   "source": []
  },
  {
   "cell_type": "code",
   "execution_count": null,
   "metadata": {},
   "outputs": [],
   "source": []
  },
  {
   "cell_type": "code",
   "execution_count": 12,
   "metadata": {},
   "outputs": [
    {
     "name": "stderr",
     "output_type": "stream",
     "text": [
      "C:\\Users\\vsalaria\\AppData\\Local\\Temp\\ipykernel_16376\\1266023675.py:1: SettingWithCopyWarning: \n",
      "A value is trying to be set on a copy of a slice from a DataFrame.\n",
      "Try using .loc[row_indexer,col_indexer] = value instead\n",
      "\n",
      "See the caveats in the documentation: https://pandas.pydata.org/pandas-docs/stable/user_guide/indexing.html#returning-a-view-versus-a-copy\n",
      "  df_transcripts_specific_columns['Id'] = [uuid.uuid4() for _ in range(len(df_transcripts_specific_columns))]\n"
     ]
    }
   ],
   "source": []
  },
  {
   "cell_type": "code",
   "execution_count": 15,
   "metadata": {},
   "outputs": [
    {
     "data": {
      "text/plain": [
       "False    51757\n",
       "True       111\n",
       "Name: Description, dtype: int64"
      ]
     },
     "execution_count": 15,
     "metadata": {},
     "output_type": "execute_result"
    }
   ],
   "source": [
    "df_transcripts_specific_columns['Description'].isnull().value_counts()"
   ]
  },
  {
   "cell_type": "code",
   "execution_count": 1,
   "metadata": {},
   "outputs": [
    {
     "ename": "ModuleNotFoundError",
     "evalue": "No module named 'azure'",
     "output_type": "error",
     "traceback": [
      "\u001b[1;31m---------------------------------------------------------------------------\u001b[0m",
      "\u001b[1;31mModuleNotFoundError\u001b[0m                       Traceback (most recent call last)",
      "Cell \u001b[1;32mIn [1], line 1\u001b[0m\n\u001b[1;32m----> 1\u001b[0m \u001b[39mfrom\u001b[39;00m \u001b[39mazure\u001b[39;00m \u001b[39mimport\u001b[39;00m \u001b[39m*\u001b[39m\n",
      "\u001b[1;31mModuleNotFoundError\u001b[0m: No module named 'azure'"
     ]
    }
   ],
   "source": []
  },
  {
   "cell_type": "code",
   "execution_count": 28,
   "metadata": {},
   "outputs": [
    {
     "ename": "ModuleNotFoundError",
     "evalue": "No module named 'azure'",
     "output_type": "error",
     "traceback": [
      "\u001b[1;31m---------------------------------------------------------------------------\u001b[0m",
      "\u001b[1;31mModuleNotFoundError\u001b[0m                       Traceback (most recent call last)",
      "Cell \u001b[1;32mIn [28], line 1\u001b[0m\n\u001b[1;32m----> 1\u001b[0m \u001b[39mfrom\u001b[39;00m \u001b[39mazure\u001b[39;00m\u001b[39m.\u001b[39;00m\u001b[39mstorage\u001b[39;00m\u001b[39m.\u001b[39;00m\u001b[39mblob\u001b[39;00m \u001b[39mimport\u001b[39;00m BlobClient\n",
      "\u001b[1;31mModuleNotFoundError\u001b[0m: No module named 'azure'"
     ]
    }
   ],
   "source": [
    "from azure.storage.blob import BlobClient\n",
    "blob = BlobClient(account_url=\"https://<account_name>.blob.core.windows.net\"\n",
    "                  container_name=\"<container_name>\",\n",
    "                  blob_name=\"<blob_name>\",\n",
    "                  credential=\"<account_key>\")\n",
    "\n",
    "with open(\"example.csv\", \"wb\") as f:\n",
    "    data = blob.download_blob()\n",
    "    data.readinto(f)"
   ]
  },
  {
   "cell_type": "code",
   "execution_count": null,
   "metadata": {},
   "outputs": [],
   "source": []
  }
 ],
 "metadata": {
  "kernelspec": {
   "display_name": "Python 3.9.7 ('base')",
   "language": "python",
   "name": "python3"
  },
  "language_info": {
   "codemirror_mode": {
    "name": "ipython",
    "version": 3
   },
   "file_extension": ".py",
   "mimetype": "text/x-python",
   "name": "python",
   "nbconvert_exporter": "python",
   "pygments_lexer": "ipython3",
   "version": "3.9.7"
  },
  "orig_nbformat": 4,
  "vscode": {
   "interpreter": {
    "hash": "5ab4a42f5b57558c6c8f1515e1cca9759309d2ce9ea0ca556076becbfcb5cbfe"
   }
  }
 },
 "nbformat": 4,
 "nbformat_minor": 2
}
